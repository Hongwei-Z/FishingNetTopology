{
 "cells": [
  {
   "cell_type": "markdown",
   "metadata": {
    "collapsed": true,
    "pycharm": {
     "name": "#%% md\n"
    }
   },
   "source": [
    "Experiments and Feature Showcases"
   ]
  },
  {
   "cell_type": "code",
   "execution_count": 31,
   "outputs": [],
   "source": [
    "import SimplifiedFNT\n",
    "import secrets\n",
    "from datetime import datetime"
   ],
   "metadata": {
    "collapsed": false,
    "pycharm": {
     "name": "#%%\n"
    }
   }
  },
  {
   "cell_type": "markdown",
   "source": [
    "Define rate and number of nodes"
   ],
   "metadata": {
    "collapsed": false
   }
  },
  {
   "cell_type": "code",
   "execution_count": 32,
   "outputs": [],
   "source": [
    "rate = 6\n",
    "size = 100"
   ],
   "metadata": {
    "collapsed": false,
    "pycharm": {
     "name": "#%%\n"
    }
   }
  },
  {
   "cell_type": "markdown",
   "source": [
    "Create a FishingNet, add nodes"
   ],
   "metadata": {
    "collapsed": false
   }
  },
  {
   "cell_type": "code",
   "execution_count": 33,
   "outputs": [
    {
     "name": "stdout",
     "output_type": "stream",
     "text": [
      "Node 0, 6baf5185c440bc8f0044de5d4f1ea306, 2022-05-04 17:57:51.955892, Tips: [None, None]\n",
      "Node 1, d0bb93a583ddca9b0f1adf26552554c7, 2022-05-04 17:57:51.955892, Tips: [0, None]\n",
      "Node 2, 60e058f07f46cd405c094b0a6c1feb95, 2022-05-04 17:57:51.955892, Tips: [0, None]\n",
      "Node 3, c99e297172b6a704c08f9e7d2787f585, 2022-05-04 17:57:51.955892, Tips: [1, None]\n",
      "Node 4, da3a1daf151e4adb149746b544272863, 2022-05-04 17:57:51.955892, Tips: [1, 2]\n",
      "Node 5, f87d14ca9e8d19cee65bc660f33afa4f, 2022-05-04 17:57:51.955892, Tips: [2, None]\n",
      "Node 6, 023fc7f7b90b3ec8bdab24ce70671bb3, 2022-05-04 17:57:51.955892, Tips: [3, None]\n",
      "Node 7, 837afc6d2198481383a4e027f5f9c909, 2022-05-04 17:57:51.955892, Tips: [3, 4]\n",
      "Node 8, 1c4487d1a8437e28c2158e3f1b8c180e, 2022-05-04 17:57:51.955892, Tips: [4, 5]\n",
      "Node 9, 6e5fff167bc9a8e4c92be6467038219f, 2022-05-04 17:57:51.955892, Tips: [5, None]\n",
      "Node 10, c972861329d8fa09f81659b6ffd276cd, 2022-05-04 17:57:51.955892, Tips: [6, None]\n",
      "Node 11, f184af4b3de38841e9fd281193bbce44, 2022-05-04 17:57:51.955892, Tips: [6, 7]\n",
      "Node 12, c291ab351323d86703e11ca2795d6d81, 2022-05-04 17:57:51.955892, Tips: [7, 8]\n",
      "Node 13, 350c8bcf73ed8463766c0a31a0a239f7, 2022-05-04 17:57:51.955892, Tips: [8, 9]\n",
      "Node 14, 20925ee4665556732acaa3c7108a0de2, 2022-05-04 17:57:51.955892, Tips: [9, None]\n",
      "Node 15, 62ed0884a81fa542821b946c2b792007, 2022-05-04 17:57:51.955892, Tips: [10, None]\n",
      "Node 16, 4f9e9fd8c35b05bb1f2b3f53e740ead3, 2022-05-04 17:57:51.955892, Tips: [10, 11]\n",
      "Node 17, 38cc681194a1904f8e6137b6519cd6e4, 2022-05-04 17:57:51.955892, Tips: [11, 12]\n",
      "Node 18, c8f12fc92c1ddab581ecffe0c835b54a, 2022-05-04 17:57:51.955892, Tips: [12, 13]\n",
      "Node 19, 7863058759ae45a180075e254d0388b3, 2022-05-04 17:57:51.955892, Tips: [13, 14]\n",
      "Node 20, 0dea502ec6b19f0165566edc7617cb58, 2022-05-04 17:57:51.955892, Tips: [14, None]\n",
      "Node 21, 2a60570935e96be137e7459f2865db46, 2022-05-04 17:57:51.955892, Tips: [15, 16]\n",
      "Node 22, 571087583422962be5c4e2eec429a8de, 2022-05-04 17:57:51.955892, Tips: [16, 17]\n",
      "Node 23, cf7e425635313c128cc5822d6278a6d3, 2022-05-04 17:57:51.955892, Tips: [17, 18]\n",
      "Node 24, ec7ab0be472ab382799d1082643bf472, 2022-05-04 17:57:51.955892, Tips: [18, 19]\n",
      "Node 25, 6e3b7163dd2dfc76a79e87aef4de6c1b, 2022-05-04 17:57:51.955892, Tips: [19, 20]\n",
      "Node 26, 9e1ffcded9e4d6db7b86bc11a0805ade, 2022-05-04 17:57:51.955892, Tips: [15, 21]\n",
      "Node 27, b151169ce171a022a9251419647e3bf0, 2022-05-04 17:57:51.955892, Tips: [21, 22]\n",
      "Node 28, 8c71b4bc97df95ab4dea7b6c6459b4cf, 2022-05-04 17:57:51.955892, Tips: [22, 23]\n",
      "Node 29, 4c503b317198475bef6a9d96d4bb0bed, 2022-05-04 17:57:51.955892, Tips: [23, 24]\n",
      "Node 30, 1cb7c351d4583f88294db3d64ea2e0c7, 2022-05-04 17:57:51.955892, Tips: [24, 25]\n",
      "Node 31, 5fdfafb1b7469e72bd36be2362b30e76, 2022-05-04 17:57:51.955892, Tips: [20, 25]\n",
      "Node 32, 2153995a96d6053d24a851df86ebd09c, 2022-05-04 17:57:51.955892, Tips: [26, 27]\n",
      "Node 33, c986b8df450e068c904d9697225429c5, 2022-05-04 17:57:51.955892, Tips: [27, 28]\n",
      "Node 34, 51667262cdb7dda94003965b6b1e20d0, 2022-05-04 17:57:51.955892, Tips: [28, 29]\n",
      "Node 35, fdccc348219119f56588636b504be731, 2022-05-04 17:57:51.955892, Tips: [29, 30]\n",
      "Node 36, 5989343caefc655562c069656e962a8c, 2022-05-04 17:57:51.955892, Tips: [30, 31]\n",
      "Node 37, f8e3127c0c8b961e5f45a2021e62ffe6, 2022-05-04 17:57:51.955892, Tips: [26, 32]\n",
      "Node 38, 38b6724fe092f4f7d972ff1a766cfb9a, 2022-05-04 17:57:51.955892, Tips: [32, 33]\n",
      "Node 39, e9c44b14bf69804bb444f97b6a35e0d3, 2022-05-04 17:57:51.955892, Tips: [33, 34]\n",
      "Node 40, c005b5b6d4bfb7deafd325d70f0c1d65, 2022-05-04 17:57:51.955892, Tips: [34, 35]\n",
      "Node 41, 7fd6b713f77ea495507882ae275ce8ce, 2022-05-04 17:57:51.955892, Tips: [35, 36]\n",
      "Node 42, 0dd72d4ad51d44671cff7c28dd1fbb0a, 2022-05-04 17:57:51.955892, Tips: [31, 36]\n",
      "Node 43, 251e970ce6b235c4d518abbdd1770717, 2022-05-04 17:57:51.955892, Tips: [37, 38]\n",
      "Node 44, e908ad0f7ce76d2a05b87ce10e9fee3a, 2022-05-04 17:57:51.955892, Tips: [38, 39]\n",
      "Node 45, cd3839f809b2b2204f4c9892667ea2cb, 2022-05-04 17:57:51.955892, Tips: [39, 40]\n",
      "Node 46, 1b8623898659a2172e88593b9885d7b9, 2022-05-04 17:57:51.955892, Tips: [40, 41]\n",
      "Node 47, 6a6420df1061c316022b2bf5d987695f, 2022-05-04 17:57:51.955892, Tips: [41, 42]\n",
      "Node 48, b02358550d12de31377565440d59d94a, 2022-05-04 17:57:51.955892, Tips: [37, 43]\n",
      "Node 49, 4000e49cd83f5556a04f2250521f7ee5, 2022-05-04 17:57:51.955892, Tips: [43, 44]\n",
      "Node 50, b3c1d6248cd4d9ba7f7eed8540cef94a, 2022-05-04 17:57:51.955892, Tips: [44, 45]\n",
      "Node 51, fd3d436ea87662e0d873b3c2c753f257, 2022-05-04 17:57:51.955892, Tips: [45, 46]\n",
      "Node 52, efafe6be3096d446544fe1eca9425795, 2022-05-04 17:57:51.955892, Tips: [46, 47]\n",
      "Node 53, 4672679539db54f5362480148f361cdd, 2022-05-04 17:57:51.955892, Tips: [42, 47]\n",
      "Node 54, dc1fa1f17cec41e201508d4346919a6b, 2022-05-04 17:57:51.955892, Tips: [48, 49]\n",
      "Node 55, a77bdf5739fbde9a73b07772773b5dba, 2022-05-04 17:57:51.955892, Tips: [49, 50]\n",
      "Node 56, 2f715fdffa64b0baae33bff8cd9f8671, 2022-05-04 17:57:51.955892, Tips: [50, 51]\n",
      "Node 57, f531df73fe7f36ad38125d6c53ea32e7, 2022-05-04 17:57:51.955892, Tips: [51, 52]\n",
      "Node 58, b78322675221c7dcb25342eaa191369b, 2022-05-04 17:57:51.955892, Tips: [52, 53]\n",
      "Node 59, fb3c61f8837a26da386feb332c551c8c, 2022-05-04 17:57:51.955892, Tips: [48, 54]\n",
      "Node 60, e7d892ef24af6f54c5ca53a00779e529, 2022-05-04 17:57:51.955892, Tips: [54, 55]\n",
      "Node 61, ca8ef322726a482757264894e2f02feb, 2022-05-04 17:57:51.955892, Tips: [55, 56]\n",
      "Node 62, ab4404799486924e3ff07e60e728035c, 2022-05-04 17:57:51.955892, Tips: [56, 57]\n",
      "Node 63, f933984e9d55fe9520aee745a5108582, 2022-05-04 17:57:51.955892, Tips: [57, 58]\n",
      "Node 64, d00bad94bfdac58781beb94c989b2519, 2022-05-04 17:57:51.955892, Tips: [53, 58]\n",
      "Node 65, 0bc638471f9e20939e7e1f9268703f10, 2022-05-04 17:57:51.955892, Tips: [59, 60]\n",
      "Node 66, 9c9943db101a31123bd628b664148edf, 2022-05-04 17:57:51.955892, Tips: [60, 61]\n",
      "Node 67, fe493f058ed0ee084648cc08b561722d, 2022-05-04 17:57:51.955892, Tips: [61, 62]\n",
      "Node 68, c0990a51d907643b742ee40e709d3b0a, 2022-05-04 17:57:51.955892, Tips: [62, 63]\n",
      "Node 69, 80b9b3ad8fb952a98dd9f7d2c1fca664, 2022-05-04 17:57:51.955892, Tips: [63, 64]\n",
      "Node 70, bd1f648be6792cd1073e1a63629f1365, 2022-05-04 17:57:51.955892, Tips: [59, 65]\n",
      "Node 71, e677b2161a0b64415ec3cc2e990d7094, 2022-05-04 17:57:51.955892, Tips: [65, 66]\n",
      "Node 72, a6f20a2edfc981ccd05af9ed1c6e21e5, 2022-05-04 17:57:51.955892, Tips: [66, 67]\n",
      "Node 73, 866f336e50c73eef119b557f4494f8e1, 2022-05-04 17:57:51.955892, Tips: [67, 68]\n",
      "Node 74, da6b22e80a93cabcbff11845c1df8ecd, 2022-05-04 17:57:51.955892, Tips: [68, 69]\n",
      "Node 75, 728b3c6b86d321e1a16a798197780c61, 2022-05-04 17:57:51.955892, Tips: [64, 69]\n",
      "Node 76, 1a6b073df4d7e74a931aad62a624a9a0, 2022-05-04 17:57:51.955892, Tips: [70, 71]\n",
      "Node 77, 03bf6787e48be452228bca857c683e2a, 2022-05-04 17:57:51.955892, Tips: [71, 72]\n",
      "Node 78, eb25331e01d3e9c85f21a2a5a7770216, 2022-05-04 17:57:51.955892, Tips: [72, 73]\n",
      "Node 79, 452c1ef4fe688db21558d6033384ed75, 2022-05-04 17:57:51.955892, Tips: [73, 74]\n",
      "Node 80, 57353c343a509d91d223a49701cd9841, 2022-05-04 17:57:51.955892, Tips: [74, 75]\n",
      "Node 81, 1bc09685a5d62984ddaa74ecb89a9c0d, 2022-05-04 17:57:51.955892, Tips: [70, 76]\n",
      "Node 82, bfb56fcc14c02e2615c94f8d5b022ecd, 2022-05-04 17:57:51.955892, Tips: [76, 77]\n",
      "Node 83, ce646def3297372508eb1cd252986dfd, 2022-05-04 17:57:51.955892, Tips: [77, 78]\n",
      "Node 84, 96f09f3f2023166a8a674bef5c4d8d04, 2022-05-04 17:57:51.955892, Tips: [78, 79]\n",
      "Node 85, 9bddcee640ebf88b39e7e757d1ed7515, 2022-05-04 17:57:51.955892, Tips: [79, 80]\n",
      "Node 86, 8220e1402f15e393e16dbb65c0b3f9b2, 2022-05-04 17:57:51.955892, Tips: [75, 80]\n",
      "Node 87, e47fe20aac83ab6f39f49912e43d3225, 2022-05-04 17:57:51.955892, Tips: [81, 82]\n",
      "Node 88, bd9ae6e7f364b94d4c7a845f8922841f, 2022-05-04 17:57:51.955892, Tips: [82, 83]\n",
      "Node 89, 734d673a50ada6c8bfc3c4637e99ba25, 2022-05-04 17:57:51.955892, Tips: [83, 84]\n",
      "Node 90, cd581df4b8fca543d7fdf25822bd3dd3, 2022-05-04 17:57:51.955892, Tips: [84, 85]\n",
      "Node 91, 918f567f74e5554f7269a331ee11a679, 2022-05-04 17:57:51.955892, Tips: [85, 86]\n",
      "Node 92, 85ec32328a5089894d0f0845c4d8626e, 2022-05-04 17:57:51.955892, Tips: [81, 87]\n",
      "Node 93, 27d145008345d502a7aed3ea2c644713, 2022-05-04 17:57:51.955892, Tips: [87, 88]\n",
      "Node 94, d59fb316de3426edab787437440cea15, 2022-05-04 17:57:51.955892, Tips: [88, 89]\n",
      "Node 95, dcdc454d8c75bb39e163121fb99c0571, 2022-05-04 17:57:51.955892, Tips: [89, 90]\n",
      "Node 96, 7c242b347f017cdd823f54199deaf34e, 2022-05-04 17:57:51.955892, Tips: [90, 91]\n",
      "Node 97, aacaeb298d8d452a24066b0cd2ae73a1, 2022-05-04 17:57:51.955892, Tips: [86, 91]\n",
      "Node 98, e5b0a5a45e4979bea1143539cc1385da, 2022-05-04 17:57:51.955892, Tips: [92, 93]\n",
      "Node 99, 118bd63118d250e08ee7a0e13c2d7b08, 2022-05-04 17:57:51.955892, Tips: [93, 94]\n"
     ]
    }
   ],
   "source": [
    "fnt = SimplifiedFNT.FishingNet(rate)\n",
    "for i in range(size):\n",
    "    fnt.nextNode(secrets.token_hex(16), datetime.now())\n",
    "fnt.printFNT()"
   ],
   "metadata": {
    "collapsed": false,
    "pycharm": {
     "name": "#%%\n"
    }
   }
  },
  {
   "cell_type": "markdown",
   "source": [
    "Find a node and show the result"
   ],
   "metadata": {
    "collapsed": false,
    "pycharm": {
     "name": "#%% md\n"
    }
   }
  },
  {
   "cell_type": "code",
   "execution_count": 34,
   "outputs": [
    {
     "name": "stdout",
     "output_type": "stream",
     "text": [
      "Node 80, 57353c343a509d91d223a49701cd9841, 2022-05-04 17:57:51.955892, Tips: [74, 75]\n"
     ]
    }
   ],
   "source": [
    "fnt.findNode(80)"
   ],
   "metadata": {
    "collapsed": false,
    "pycharm": {
     "name": "#%%\n"
    }
   }
  },
  {
   "cell_type": "markdown",
   "source": [
    "Find tips for a node and show the result"
   ],
   "metadata": {
    "collapsed": false,
    "pycharm": {
     "name": "#%% md\n"
    }
   }
  },
  {
   "cell_type": "code",
   "execution_count": 35,
   "outputs": [
    {
     "name": "stdout",
     "output_type": "stream",
     "text": [
      "Node 84, 96f09f3f2023166a8a674bef5c4d8d04, 2022-05-04 17:57:51.955892, Tips: [78, 79]\n",
      "Node 85, 9bddcee640ebf88b39e7e757d1ed7515, 2022-05-04 17:57:51.955892, Tips: [79, 80]\n"
     ]
    }
   ],
   "source": [
    "fnt.findTips(90)"
   ],
   "metadata": {
    "collapsed": false,
    "pycharm": {
     "name": "#%%\n"
    }
   }
  },
  {
   "cell_type": "markdown",
   "source": [
    "Find the two nodes that approve this node"
   ],
   "metadata": {
    "collapsed": false,
    "pycharm": {
     "name": "#%% md\n"
    }
   }
  },
  {
   "cell_type": "code",
   "execution_count": 36,
   "outputs": [
    {
     "name": "stdout",
     "output_type": "stream",
     "text": [
      "Node 95, dcdc454d8c75bb39e163121fb99c0571, 2022-05-04 17:57:51.955892, Tips: [89, 90]\n",
      "Node 96, 7c242b347f017cdd823f54199deaf34e, 2022-05-04 17:57:51.955892, Tips: [90, 91]\n"
     ]
    }
   ],
   "source": [
    "fnt.findApprover(90)"
   ],
   "metadata": {
    "collapsed": false,
    "pycharm": {
     "name": "#%%\n"
    }
   }
  },
  {
   "cell_type": "markdown",
   "source": [
    "Find the cumulative weight of a node"
   ],
   "metadata": {
    "collapsed": false
   }
  },
  {
   "cell_type": "code",
   "execution_count": 37,
   "outputs": [
    {
     "data": {
      "text/plain": "3"
     },
     "execution_count": 37,
     "metadata": {},
     "output_type": "execute_result"
    }
   ],
   "source": [
    "fnt.findCW(90)"
   ],
   "metadata": {
    "collapsed": false,
    "pycharm": {
     "name": "#%%\n"
    }
   }
  },
  {
   "cell_type": "markdown",
   "source": [
    "Print all nodes that have directly or indirectly approved this node"
   ],
   "metadata": {
    "collapsed": false
   }
  },
  {
   "cell_type": "code",
   "execution_count": 38,
   "outputs": [
    {
     "name": "stdout",
     "output_type": "stream",
     "text": [
      "Node 90, cd581df4b8fca543d7fdf25822bd3dd3, 2022-05-04 17:57:51.955892, Tips: [84, 85]\n",
      "Node 95, dcdc454d8c75bb39e163121fb99c0571, 2022-05-04 17:57:51.955892, Tips: [89, 90]\n",
      "Node 96, 7c242b347f017cdd823f54199deaf34e, 2022-05-04 17:57:51.955892, Tips: [90, 91]\n"
     ]
    }
   ],
   "source": [
    "fnt.findSubnet(90)"
   ],
   "metadata": {
    "collapsed": false,
    "pycharm": {
     "name": "#%%\n"
    }
   }
  },
  {
   "cell_type": "markdown",
   "source": [
    "Disable a node, only disconnect from other nodes, not delete data"
   ],
   "metadata": {
    "collapsed": false
   }
  },
  {
   "cell_type": "code",
   "execution_count": 39,
   "outputs": [
    {
     "name": "stdout",
     "output_type": "stream",
     "text": [
      "Node 0, 6baf5185c440bc8f0044de5d4f1ea306, 2022-05-04 17:57:51.955892, Tips: [None, None]\n",
      "Node 1, d0bb93a583ddca9b0f1adf26552554c7, 2022-05-04 17:57:51.955892, Tips: [0, None]\n",
      "Node 2, 60e058f07f46cd405c094b0a6c1feb95, 2022-05-04 17:57:51.955892, Tips: [0, None]\n",
      "Node 3, c99e297172b6a704c08f9e7d2787f585, 2022-05-04 17:57:51.955892, Tips: [1, None]\n",
      "Node 4, da3a1daf151e4adb149746b544272863, 2022-05-04 17:57:51.955892, Tips: [1, 2]\n",
      "Node 5, f87d14ca9e8d19cee65bc660f33afa4f, 2022-05-04 17:57:51.955892, Tips: [2, None]\n",
      "Node 6, 023fc7f7b90b3ec8bdab24ce70671bb3, 2022-05-04 17:57:51.955892, Tips: [3, None]\n",
      "Node 7, 837afc6d2198481383a4e027f5f9c909, 2022-05-04 17:57:51.955892, Tips: [3, 4]\n",
      "Node 8, 1c4487d1a8437e28c2158e3f1b8c180e, 2022-05-04 17:57:51.955892, Tips: [4, 5]\n",
      "Node 9, 6e5fff167bc9a8e4c92be6467038219f, 2022-05-04 17:57:51.955892, Tips: [5, None]\n",
      "Node 10, c972861329d8fa09f81659b6ffd276cd, 2022-05-04 17:57:51.955892, Tips: [6, None]\n",
      "Node 11, f184af4b3de38841e9fd281193bbce44, 2022-05-04 17:57:51.955892, Tips: [6, 7]\n",
      "Node 12, c291ab351323d86703e11ca2795d6d81, 2022-05-04 17:57:51.955892, Tips: [7, 8]\n",
      "Node 13, 350c8bcf73ed8463766c0a31a0a239f7, 2022-05-04 17:57:51.955892, Tips: [8, 9]\n",
      "Node 14, 20925ee4665556732acaa3c7108a0de2, 2022-05-04 17:57:51.955892, Tips: [9, None]\n",
      "Node 15, 62ed0884a81fa542821b946c2b792007, 2022-05-04 17:57:51.955892, Tips: [10, None]\n",
      "Node 16, 4f9e9fd8c35b05bb1f2b3f53e740ead3, 2022-05-04 17:57:51.955892, Tips: [10, 11]\n",
      "Node 17, 38cc681194a1904f8e6137b6519cd6e4, 2022-05-04 17:57:51.955892, Tips: [11, 12]\n",
      "Node 18, c8f12fc92c1ddab581ecffe0c835b54a, 2022-05-04 17:57:51.955892, Tips: [12, 13]\n",
      "Node 19, 7863058759ae45a180075e254d0388b3, 2022-05-04 17:57:51.955892, Tips: [13, 14]\n",
      "Node 20, 0dea502ec6b19f0165566edc7617cb58, 2022-05-04 17:57:51.955892, Tips: [14, None]\n",
      "Node 21, 2a60570935e96be137e7459f2865db46, 2022-05-04 17:57:51.955892, Tips: [15, 16]\n",
      "Node 22, 571087583422962be5c4e2eec429a8de, 2022-05-04 17:57:51.955892, Tips: [16, 17]\n",
      "Node 23, cf7e425635313c128cc5822d6278a6d3, 2022-05-04 17:57:51.955892, Tips: [17, 18]\n",
      "Node 24, ec7ab0be472ab382799d1082643bf472, 2022-05-04 17:57:51.955892, Tips: [18, 19]\n",
      "Node 25, 6e3b7163dd2dfc76a79e87aef4de6c1b, 2022-05-04 17:57:51.955892, Tips: [19, 20]\n",
      "Node 26, 9e1ffcded9e4d6db7b86bc11a0805ade, 2022-05-04 17:57:51.955892, Tips: [15, 21]\n",
      "Node 27, b151169ce171a022a9251419647e3bf0, 2022-05-04 17:57:51.955892, Tips: [21, 22]\n",
      "Node 28, 8c71b4bc97df95ab4dea7b6c6459b4cf, 2022-05-04 17:57:51.955892, Tips: [22, 23]\n",
      "Node 29, 4c503b317198475bef6a9d96d4bb0bed, 2022-05-04 17:57:51.955892, Tips: [23, 24]\n",
      "Node 30, 1cb7c351d4583f88294db3d64ea2e0c7, 2022-05-04 17:57:51.955892, Tips: [24, 25]\n",
      "Node 31, 5fdfafb1b7469e72bd36be2362b30e76, 2022-05-04 17:57:51.955892, Tips: [20, 25]\n",
      "Node 32, 2153995a96d6053d24a851df86ebd09c, 2022-05-04 17:57:51.955892, Tips: [26, 27]\n",
      "Node 33, c986b8df450e068c904d9697225429c5, 2022-05-04 17:57:51.955892, Tips: [27, 28]\n",
      "Node 34, 51667262cdb7dda94003965b6b1e20d0, 2022-05-04 17:57:51.955892, Tips: [28, 29]\n",
      "Node 35, fdccc348219119f56588636b504be731, 2022-05-04 17:57:51.955892, Tips: [29, 30]\n",
      "Node 36, 5989343caefc655562c069656e962a8c, 2022-05-04 17:57:51.955892, Tips: [30, 31]\n",
      "Node 37, f8e3127c0c8b961e5f45a2021e62ffe6, 2022-05-04 17:57:51.955892, Tips: [26, 32]\n",
      "Node 38, 38b6724fe092f4f7d972ff1a766cfb9a, 2022-05-04 17:57:51.955892, Tips: [32, 33]\n",
      "Node 39, e9c44b14bf69804bb444f97b6a35e0d3, 2022-05-04 17:57:51.955892, Tips: [33, 34]\n",
      "Node 40, c005b5b6d4bfb7deafd325d70f0c1d65, 2022-05-04 17:57:51.955892, Tips: [34, 35]\n",
      "Node 41, 7fd6b713f77ea495507882ae275ce8ce, 2022-05-04 17:57:51.955892, Tips: [35, 36]\n",
      "Node 42, 0dd72d4ad51d44671cff7c28dd1fbb0a, 2022-05-04 17:57:51.955892, Tips: [31, 36]\n",
      "Node 43, 251e970ce6b235c4d518abbdd1770717, 2022-05-04 17:57:51.955892, Tips: [37, 38]\n",
      "Node 44, e908ad0f7ce76d2a05b87ce10e9fee3a, 2022-05-04 17:57:51.955892, Tips: [38, 39]\n",
      "Node 45, cd3839f809b2b2204f4c9892667ea2cb, 2022-05-04 17:57:51.955892, Tips: [39, 40]\n",
      "Node 46, 1b8623898659a2172e88593b9885d7b9, 2022-05-04 17:57:51.955892, Tips: [40, 41]\n",
      "Node 47, 6a6420df1061c316022b2bf5d987695f, 2022-05-04 17:57:51.955892, Tips: [41, 42]\n",
      "Node 48, b02358550d12de31377565440d59d94a, 2022-05-04 17:57:51.955892, Tips: [37, 43]\n",
      "Node 49, 4000e49cd83f5556a04f2250521f7ee5, 2022-05-04 17:57:51.955892, Tips: [43, 44]\n",
      "Node 50, b3c1d6248cd4d9ba7f7eed8540cef94a, 2022-05-04 17:57:51.955892, Tips: [44, 45]\n",
      "Node 51, fd3d436ea87662e0d873b3c2c753f257, 2022-05-04 17:57:51.955892, Tips: [45, 46]\n",
      "Node 52, efafe6be3096d446544fe1eca9425795, 2022-05-04 17:57:51.955892, Tips: [46, 47]\n",
      "Node 53, 4672679539db54f5362480148f361cdd, 2022-05-04 17:57:51.955892, Tips: [42, 47]\n",
      "Node 54, dc1fa1f17cec41e201508d4346919a6b, 2022-05-04 17:57:51.955892, Tips: [48, 49]\n",
      "Node 55, a77bdf5739fbde9a73b07772773b5dba, 2022-05-04 17:57:51.955892, Tips: [49, 50]\n",
      "Node 56, 2f715fdffa64b0baae33bff8cd9f8671, 2022-05-04 17:57:51.955892, Tips: [50, 51]\n",
      "Node 57, f531df73fe7f36ad38125d6c53ea32e7, 2022-05-04 17:57:51.955892, Tips: [51, 52]\n",
      "Node 58, b78322675221c7dcb25342eaa191369b, 2022-05-04 17:57:51.955892, Tips: [52, 53]\n",
      "Node 59, fb3c61f8837a26da386feb332c551c8c, 2022-05-04 17:57:51.955892, Tips: [48, 54]\n",
      "Node 60, e7d892ef24af6f54c5ca53a00779e529, 2022-05-04 17:57:51.955892, Tips: [54, 55]\n",
      "Node 61, ca8ef322726a482757264894e2f02feb, 2022-05-04 17:57:51.955892, Tips: [55, 56]\n",
      "Node 62, ab4404799486924e3ff07e60e728035c, 2022-05-04 17:57:51.955892, Tips: [56, 57]\n",
      "Node 63, f933984e9d55fe9520aee745a5108582, 2022-05-04 17:57:51.955892, Tips: [57, 58]\n",
      "Node 64, d00bad94bfdac58781beb94c989b2519, 2022-05-04 17:57:51.955892, Tips: [53, 58]\n",
      "Node 65, 0bc638471f9e20939e7e1f9268703f10, 2022-05-04 17:57:51.955892, Tips: [59, 60]\n",
      "Node 66, 9c9943db101a31123bd628b664148edf, 2022-05-04 17:57:51.955892, Tips: [60, 61]\n",
      "Node 67, fe493f058ed0ee084648cc08b561722d, 2022-05-04 17:57:51.955892, Tips: [61, 62]\n",
      "Node 68, c0990a51d907643b742ee40e709d3b0a, 2022-05-04 17:57:51.955892, Tips: [62, 63]\n",
      "Node 69, 80b9b3ad8fb952a98dd9f7d2c1fca664, 2022-05-04 17:57:51.955892, Tips: [63, 64]\n",
      "Node 70, bd1f648be6792cd1073e1a63629f1365, 2022-05-04 17:57:51.955892, Tips: [59, 65]\n",
      "Node 71, e677b2161a0b64415ec3cc2e990d7094, 2022-05-04 17:57:51.955892, Tips: [65, 66]\n",
      "Node 72, a6f20a2edfc981ccd05af9ed1c6e21e5, 2022-05-04 17:57:51.955892, Tips: [66, 67]\n",
      "Node 73, 866f336e50c73eef119b557f4494f8e1, 2022-05-04 17:57:51.955892, Tips: [67, 68]\n",
      "Node 74, da6b22e80a93cabcbff11845c1df8ecd, 2022-05-04 17:57:51.955892, Tips: [68, 69]\n",
      "Node 75, 728b3c6b86d321e1a16a798197780c61, 2022-05-04 17:57:51.955892, Tips: [64, 69]\n",
      "Node 76, 1a6b073df4d7e74a931aad62a624a9a0, 2022-05-04 17:57:51.955892, Tips: [70, 71]\n",
      "Node 77, 03bf6787e48be452228bca857c683e2a, 2022-05-04 17:57:51.955892, Tips: [71, 72]\n",
      "Node 78, eb25331e01d3e9c85f21a2a5a7770216, 2022-05-04 17:57:51.955892, Tips: [72, 73]\n",
      "Node 79, 452c1ef4fe688db21558d6033384ed75, 2022-05-04 17:57:51.955892, Tips: [73, 74]\n",
      "Node 80 disabled\n",
      "Node 81, 1bc09685a5d62984ddaa74ecb89a9c0d, 2022-05-04 17:57:51.955892, Tips: [70, 76]\n",
      "Node 82, bfb56fcc14c02e2615c94f8d5b022ecd, 2022-05-04 17:57:51.955892, Tips: [76, 77]\n",
      "Node 83, ce646def3297372508eb1cd252986dfd, 2022-05-04 17:57:51.955892, Tips: [77, 78]\n",
      "Node 84, 96f09f3f2023166a8a674bef5c4d8d04, 2022-05-04 17:57:51.955892, Tips: [78, 79]\n",
      "Node 85, 9bddcee640ebf88b39e7e757d1ed7515, 2022-05-04 17:57:51.955892, Tips: [79, None]\n",
      "Node 86, 8220e1402f15e393e16dbb65c0b3f9b2, 2022-05-04 17:57:51.955892, Tips: [75, None]\n",
      "Node 87, e47fe20aac83ab6f39f49912e43d3225, 2022-05-04 17:57:51.955892, Tips: [81, 82]\n",
      "Node 88, bd9ae6e7f364b94d4c7a845f8922841f, 2022-05-04 17:57:51.955892, Tips: [82, 83]\n",
      "Node 89, 734d673a50ada6c8bfc3c4637e99ba25, 2022-05-04 17:57:51.955892, Tips: [83, 84]\n",
      "Node 90, cd581df4b8fca543d7fdf25822bd3dd3, 2022-05-04 17:57:51.955892, Tips: [84, 85]\n",
      "Node 91, 918f567f74e5554f7269a331ee11a679, 2022-05-04 17:57:51.955892, Tips: [85, 86]\n",
      "Node 92, 85ec32328a5089894d0f0845c4d8626e, 2022-05-04 17:57:51.955892, Tips: [81, 87]\n",
      "Node 93, 27d145008345d502a7aed3ea2c644713, 2022-05-04 17:57:51.955892, Tips: [87, 88]\n",
      "Node 94, d59fb316de3426edab787437440cea15, 2022-05-04 17:57:51.955892, Tips: [88, 89]\n",
      "Node 95, dcdc454d8c75bb39e163121fb99c0571, 2022-05-04 17:57:51.955892, Tips: [89, 90]\n",
      "Node 96, 7c242b347f017cdd823f54199deaf34e, 2022-05-04 17:57:51.955892, Tips: [90, 91]\n",
      "Node 97, aacaeb298d8d452a24066b0cd2ae73a1, 2022-05-04 17:57:51.955892, Tips: [86, 91]\n",
      "Node 98, e5b0a5a45e4979bea1143539cc1385da, 2022-05-04 17:57:51.955892, Tips: [92, 93]\n",
      "Node 99, 118bd63118d250e08ee7a0e13c2d7b08, 2022-05-04 17:57:51.955892, Tips: [93, 94]\n"
     ]
    }
   ],
   "source": [
    "fnt.disableNode(80)\n",
    "fnt.printFNT()"
   ],
   "metadata": {
    "collapsed": false,
    "pycharm": {
     "name": "#%%\n"
    }
   }
  },
  {
   "cell_type": "code",
   "execution_count": 40,
   "outputs": [
    {
     "name": "stdout",
     "output_type": "stream",
     "text": [
      "Node 80, 57353c343a509d91d223a49701cd9841, 2022-05-04 17:57:51.955892, Tips: [74, 75]\n"
     ]
    }
   ],
   "source": [
    "fnt.findNode(80)"
   ],
   "metadata": {
    "collapsed": false,
    "pycharm": {
     "name": "#%%\n"
    }
   }
  },
  {
   "cell_type": "markdown",
   "source": [
    "Get lists of throughput, utilization, and waste rate at each layer"
   ],
   "metadata": {
    "collapsed": false
   }
  },
  {
   "cell_type": "code",
   "execution_count": 41,
   "outputs": [
    {
     "data": {
      "text/plain": "[1, 2, 3, 4, 5, 6, 5, 6, 5, 6, 5, 6, 5, 6, 5, 6, 5, 6, 5, 6, 2]"
     },
     "execution_count": 41,
     "metadata": {},
     "output_type": "execute_result"
    }
   ],
   "source": [
    "fnt.findThroughput()"
   ],
   "metadata": {
    "collapsed": false,
    "pycharm": {
     "name": "#%%\n"
    }
   }
  },
  {
   "cell_type": "code",
   "execution_count": 42,
   "outputs": [
    {
     "data": {
      "text/plain": "[0.1667,\n 0.3333,\n 0.5,\n 0.6667,\n 0.8333,\n 1.0,\n 0.8333,\n 1.0,\n 0.8333,\n 1.0,\n 0.8333,\n 1.0,\n 0.8333,\n 1.0,\n 0.8333,\n 1.0,\n 0.8333,\n 1.0,\n 0.8333,\n 1.0,\n 0.3333]"
     },
     "execution_count": 42,
     "metadata": {},
     "output_type": "execute_result"
    }
   ],
   "source": [
    "fnt.findUtilization()"
   ],
   "metadata": {
    "collapsed": false,
    "pycharm": {
     "name": "#%%\n"
    }
   }
  },
  {
   "cell_type": "code",
   "execution_count": 43,
   "outputs": [
    {
     "data": {
      "text/plain": "[0.8333,\n 0.6667,\n 0.5,\n 0.3333,\n 0.1667,\n 0.0,\n 0.1667,\n 0.0,\n 0.1667,\n 0.0,\n 0.1667,\n 0.0,\n 0.1667,\n 0.0,\n 0.1667,\n 0.0,\n 0.1667,\n 0.0,\n 0.1667,\n 0.0,\n 0.6667]"
     },
     "execution_count": 43,
     "metadata": {},
     "output_type": "execute_result"
    }
   ],
   "source": [
    "fnt.findWaste()"
   ],
   "metadata": {
    "collapsed": false,
    "pycharm": {
     "name": "#%%\n"
    }
   }
  },
  {
   "cell_type": "markdown",
   "source": [
    "Get cumulative waste rate"
   ],
   "metadata": {
    "collapsed": false
   }
  },
  {
   "cell_type": "code",
   "execution_count": 44,
   "outputs": [
    {
     "data": {
      "text/plain": "[0.8333,\n 0.75,\n 0.6667,\n 0.5833,\n 0.5,\n 0.4167,\n 0.381,\n 0.3333,\n 0.3148,\n 0.2833,\n 0.2727,\n 0.25,\n 0.2436,\n 0.2262,\n 0.2222,\n 0.2083,\n 0.2059,\n 0.1944,\n 0.193,\n 0.1833,\n 0.2063]"
     },
     "execution_count": 44,
     "metadata": {},
     "output_type": "execute_result"
    }
   ],
   "source": [
    "fnt.findCumWaste()"
   ],
   "metadata": {
    "collapsed": false,
    "pycharm": {
     "name": "#%%\n"
    }
   }
  },
  {
   "cell_type": "markdown",
   "source": [
    "Get the waste rate of entire network"
   ],
   "metadata": {
    "collapsed": false
   }
  },
  {
   "cell_type": "code",
   "execution_count": 45,
   "outputs": [
    {
     "data": {
      "text/plain": "'18.1548%'"
     },
     "execution_count": 45,
     "metadata": {},
     "output_type": "execute_result"
    }
   ],
   "source": [
    "fnt.findWasteRate()"
   ],
   "metadata": {
    "collapsed": false,
    "pycharm": {
     "name": "#%%\n"
    }
   }
  }
 ],
 "metadata": {
  "kernelspec": {
   "display_name": "Python 3",
   "language": "python",
   "name": "python3"
  },
  "language_info": {
   "codemirror_mode": {
    "name": "ipython",
    "version": 2
   },
   "file_extension": ".py",
   "mimetype": "text/x-python",
   "name": "python",
   "nbconvert_exporter": "python",
   "pygments_lexer": "ipython2",
   "version": "2.7.6"
  }
 },
 "nbformat": 4,
 "nbformat_minor": 0
}