{
 "cells": [
  {
   "cell_type": "markdown",
   "metadata": {
    "collapsed": true,
    "pycharm": {
     "name": "#%% md\n"
    }
   },
   "source": [
    "Experiments and Feature Showcases"
   ]
  },
  {
   "cell_type": "code",
   "execution_count": 1,
   "outputs": [],
   "source": [
    "import FNTVer1\n",
    "import secrets\n",
    "from datetime import datetime"
   ],
   "metadata": {
    "collapsed": false,
    "pycharm": {
     "name": "#%%\n"
    }
   }
  },
  {
   "cell_type": "markdown",
   "source": [
    "Define rate and number of nodes"
   ],
   "metadata": {
    "collapsed": false,
    "pycharm": {
     "name": "#%% md\n"
    }
   }
  },
  {
   "cell_type": "code",
   "execution_count": 2,
   "outputs": [],
   "source": [
    "rate = 6\n",
    "size = 100"
   ],
   "metadata": {
    "collapsed": false,
    "pycharm": {
     "name": "#%%\n"
    }
   }
  },
  {
   "cell_type": "markdown",
   "source": [
    "Create a FishingNet, add nodes"
   ],
   "metadata": {
    "collapsed": false,
    "pycharm": {
     "name": "#%% md\n"
    }
   }
  },
  {
   "cell_type": "code",
   "execution_count": 3,
   "outputs": [
    {
     "name": "stdout",
     "output_type": "stream",
     "text": [
      "Node 0, 78f7b23a7915946e82e05f4484896a13, 2022-06-22 16:31:21.219076, Tips: [None, None]\n",
      "Node 1, c86d9ccb2c8183df6b97b39c561701a4, 2022-06-22 16:31:21.219076, Tips: [0, None]\n",
      "Node 2, eeb56e9a12a5b895de411343aab8ca99, 2022-06-22 16:31:21.219076, Tips: [0, None]\n",
      "Node 3, ce1689901da7b5cfdb62b12982913a19, 2022-06-22 16:31:21.219076, Tips: [1, None]\n",
      "Node 4, 2ff0216d3e87f76eb01d4c892fbe6744, 2022-06-22 16:31:21.219076, Tips: [1, 2]\n",
      "Node 5, b5fb67d18b84b9f2e714b9175b8740a1, 2022-06-22 16:31:21.219076, Tips: [2, None]\n",
      "Node 6, a11752e7ea0b6cf89f9bef3b6e8f7158, 2022-06-22 16:31:21.219076, Tips: [3, None]\n",
      "Node 7, e8efbbd126255f3913e873694ec37c45, 2022-06-22 16:31:21.219076, Tips: [3, 4]\n",
      "Node 8, 90cbd349465830e30409fa9f1248a6c7, 2022-06-22 16:31:21.219076, Tips: [4, 5]\n",
      "Node 9, 423b801dcf9fafc7c3c7e422f5abb4e3, 2022-06-22 16:31:21.219076, Tips: [5, None]\n",
      "Node 10, c0711f91b7f7547494e6ea90cc3b83cb, 2022-06-22 16:31:21.219076, Tips: [6, None]\n",
      "Node 11, 271792ca89db0215c87a0bba6019e321, 2022-06-22 16:31:21.219076, Tips: [6, 7]\n",
      "Node 12, 6ba92e9e3440e4fd8635683840d0732c, 2022-06-22 16:31:21.219076, Tips: [7, 8]\n",
      "Node 13, 6d40b11ff67ff0758fdb3a09c4758ba7, 2022-06-22 16:31:21.219076, Tips: [8, 9]\n",
      "Node 14, 9913734e64662ea3e1755b1c3172acbc, 2022-06-22 16:31:21.219076, Tips: [9, None]\n",
      "Node 15, e85ea288ff894b9583444ce826f39dc8, 2022-06-22 16:31:21.219076, Tips: [10, None]\n",
      "Node 16, 490e02f0fa2480b0266dec46d8137bed, 2022-06-22 16:31:21.219076, Tips: [10, 11]\n",
      "Node 17, 0a304939ba0ddd9ff035526d64d03cc5, 2022-06-22 16:31:21.219076, Tips: [11, 12]\n",
      "Node 18, 34a7c38173f22f142bcbabab8454fd67, 2022-06-22 16:31:21.219076, Tips: [12, 13]\n",
      "Node 19, 0da5b9a5b54da16e707956d9994f84e4, 2022-06-22 16:31:21.219076, Tips: [13, 14]\n",
      "Node 20, eb1d172427d173e261d25dc0c2b8cf1b, 2022-06-22 16:31:21.219076, Tips: [14, None]\n",
      "Node 21, 55c95e43a1efaec780d2fa526f1069a0, 2022-06-22 16:31:21.219076, Tips: [15, 16]\n",
      "Node 22, 91aa2d178d8758a1d7abefeb19ab7853, 2022-06-22 16:31:21.219076, Tips: [16, 17]\n",
      "Node 23, 81346a6169ef0b2c8295fc3552f9c2bc, 2022-06-22 16:31:21.219076, Tips: [17, 18]\n",
      "Node 24, ba79f620e3f14fbb89db5a31f85fb554, 2022-06-22 16:31:21.219076, Tips: [18, 19]\n",
      "Node 25, 7f2110965c4e4f76aae4ea207f8f666c, 2022-06-22 16:31:21.219076, Tips: [19, 20]\n",
      "Node 26, 11e42984cc48deabbde0749cc88795f5, 2022-06-22 16:31:21.219076, Tips: [15, 21]\n",
      "Node 27, 97c9eadc962ac0382dca73cbea0b2b63, 2022-06-22 16:31:21.219076, Tips: [21, 22]\n",
      "Node 28, 6ee24aed454be322d824efbe041817c4, 2022-06-22 16:31:21.219076, Tips: [22, 23]\n",
      "Node 29, 5e10e94772b4e66280164bcad378d75b, 2022-06-22 16:31:21.219076, Tips: [23, 24]\n",
      "Node 30, d1671992e0743b31157df3d8fc02bdbe, 2022-06-22 16:31:21.219076, Tips: [24, 25]\n",
      "Node 31, 400dbee9ab2ed5c7703c9113abab8053, 2022-06-22 16:31:21.219076, Tips: [20, 25]\n",
      "Node 32, 3e78e3b44a2362a46be76c822eb225a5, 2022-06-22 16:31:21.219076, Tips: [26, 27]\n",
      "Node 33, 151d6eddf14047507adf8f42af1b868c, 2022-06-22 16:31:21.219076, Tips: [27, 28]\n",
      "Node 34, 4f0b1c295a00eec878706e9332822223, 2022-06-22 16:31:21.219076, Tips: [28, 29]\n",
      "Node 35, 7500b2a5b214baffff6d09ec2f4b5a82, 2022-06-22 16:31:21.219076, Tips: [29, 30]\n",
      "Node 36, cedd27c431361ab08fee7b0e3e4ad84c, 2022-06-22 16:31:21.219076, Tips: [30, 31]\n",
      "Node 37, c56509857d1c14b4a3bd5f4c43565f03, 2022-06-22 16:31:21.219076, Tips: [26, 32]\n",
      "Node 38, 80880d24f4862871ea3eca0b43950f21, 2022-06-22 16:31:21.219076, Tips: [32, 33]\n",
      "Node 39, d6991edcddc6211c96d59d34e9dc7198, 2022-06-22 16:31:21.219076, Tips: [33, 34]\n",
      "Node 40, 1974638e147fbedf30492eb4e39cd851, 2022-06-22 16:31:21.219076, Tips: [34, 35]\n",
      "Node 41, 905145310dc4993991b6bde28e9ea16d, 2022-06-22 16:31:21.219076, Tips: [35, 36]\n",
      "Node 42, 658e70f3d6fa7b5673dca8e8d74a572d, 2022-06-22 16:31:21.219076, Tips: [31, 36]\n",
      "Node 43, 00686cee32c049249fca1c6c940401c9, 2022-06-22 16:31:21.219076, Tips: [37, 38]\n",
      "Node 44, 5d40b29b69a9fabe3adb5574679afd88, 2022-06-22 16:31:21.219076, Tips: [38, 39]\n",
      "Node 45, b5ec8eea72587fcfa200c489967548af, 2022-06-22 16:31:21.219076, Tips: [39, 40]\n",
      "Node 46, 858b23b2e4b5f748537fb2c573209705, 2022-06-22 16:31:21.219076, Tips: [40, 41]\n",
      "Node 47, f8f1467eb166913440ca36b5fea459c8, 2022-06-22 16:31:21.219076, Tips: [41, 42]\n",
      "Node 48, a945b038074cf98d4cd038c0a480a699, 2022-06-22 16:31:21.219076, Tips: [37, 43]\n",
      "Node 49, 9939232c7cab7deac8ed099a012921a8, 2022-06-22 16:31:21.219076, Tips: [43, 44]\n",
      "Node 50, f8e9b826e032dd6538e74cbfffe5fd32, 2022-06-22 16:31:21.219076, Tips: [44, 45]\n",
      "Node 51, 75773c18a73838101624755aa429677d, 2022-06-22 16:31:21.219076, Tips: [45, 46]\n",
      "Node 52, 55b481c7d0589182cfdc884c771ae6af, 2022-06-22 16:31:21.219076, Tips: [46, 47]\n",
      "Node 53, 66e2bff454e3f3fcb071c2ec43a58c6d, 2022-06-22 16:31:21.219076, Tips: [42, 47]\n",
      "Node 54, 7675276743e00cb73668dd08e03715c0, 2022-06-22 16:31:21.219076, Tips: [48, 49]\n",
      "Node 55, ac507ef0d4870090ed11dcf4d683a451, 2022-06-22 16:31:21.219076, Tips: [49, 50]\n",
      "Node 56, 23a64e2a676ddad29652e05f44a00b02, 2022-06-22 16:31:21.219076, Tips: [50, 51]\n",
      "Node 57, 658782090b2024a2e4f545a34d80fc08, 2022-06-22 16:31:21.219076, Tips: [51, 52]\n",
      "Node 58, 3a97fc233768a5295260f8cc74c3af9c, 2022-06-22 16:31:21.220071, Tips: [52, 53]\n",
      "Node 59, 8b332d0810e33d9c1120aeee78d7b69d, 2022-06-22 16:31:21.220071, Tips: [48, 54]\n",
      "Node 60, a963d0106ccffa72ba82d5c7d5f72443, 2022-06-22 16:31:21.220071, Tips: [54, 55]\n",
      "Node 61, 0d79420f3e25312cdd7de6adff0b9750, 2022-06-22 16:31:21.220071, Tips: [55, 56]\n",
      "Node 62, b0c9c8ea526e1189dd70b69c309cf1b9, 2022-06-22 16:31:21.220071, Tips: [56, 57]\n",
      "Node 63, 3a3247e682fbe2d60c07cb15ba6a1ad7, 2022-06-22 16:31:21.220071, Tips: [57, 58]\n",
      "Node 64, 5b70a31bfc0b699c72c0448ba2452f98, 2022-06-22 16:31:21.220071, Tips: [53, 58]\n",
      "Node 65, a69da922c2236fc44a047866040c0ff6, 2022-06-22 16:31:21.220071, Tips: [59, 60]\n",
      "Node 66, 28e3ff7def82160a91180e8b02477f01, 2022-06-22 16:31:21.220071, Tips: [60, 61]\n",
      "Node 67, c93760585b28b62ed959fef243a99a73, 2022-06-22 16:31:21.220071, Tips: [61, 62]\n",
      "Node 68, 8dd72f8ce62de1c20eed185555532f76, 2022-06-22 16:31:21.220071, Tips: [62, 63]\n",
      "Node 69, c4904cbc5e475fca2c6eaf4e6394369f, 2022-06-22 16:31:21.220071, Tips: [63, 64]\n",
      "Node 70, 12c30fffb90073726524f188f07c3860, 2022-06-22 16:31:21.220071, Tips: [59, 65]\n",
      "Node 71, 56a785c1652dff3167d32ad922e28db7, 2022-06-22 16:31:21.220071, Tips: [65, 66]\n",
      "Node 72, cd5625717f9a9c7897958b85691fc6ab, 2022-06-22 16:31:21.220071, Tips: [66, 67]\n",
      "Node 73, 4420c26988c8f2e15671191bede298e9, 2022-06-22 16:31:21.220071, Tips: [67, 68]\n",
      "Node 74, 54bfa3e8ee522ee798135b9ec914f4be, 2022-06-22 16:31:21.220071, Tips: [68, 69]\n",
      "Node 75, ae912e0232b40995fab13a58edaa44a3, 2022-06-22 16:31:21.220071, Tips: [64, 69]\n",
      "Node 76, cf8083002f9c794aeeae1d00ae9fce20, 2022-06-22 16:31:21.220071, Tips: [70, 71]\n",
      "Node 77, d202ff2de6c825f7d6293c4838f077b2, 2022-06-22 16:31:21.220071, Tips: [71, 72]\n",
      "Node 78, c0c1fd5517cedc9d7a905b78e9289b86, 2022-06-22 16:31:21.220071, Tips: [72, 73]\n",
      "Node 79, 720bc2cdfd64a40ccf676086a740f628, 2022-06-22 16:31:21.220071, Tips: [73, 74]\n",
      "Node 80, 205f73f9b08f6a937fd6bddbb8ad1f3c, 2022-06-22 16:31:21.220071, Tips: [74, 75]\n",
      "Node 81, 09c7f4786a96253c68ea4fa8ad6fe9af, 2022-06-22 16:31:21.220071, Tips: [70, 76]\n",
      "Node 82, 3799cf51c021af14c1f1389f0fdc6e0f, 2022-06-22 16:31:21.220071, Tips: [76, 77]\n",
      "Node 83, 71042b15a573b6d92b1df4ec92555c7a, 2022-06-22 16:31:21.220071, Tips: [77, 78]\n",
      "Node 84, 71f4bc43e36b7eb4bae95d44f329ac6f, 2022-06-22 16:31:21.220071, Tips: [78, 79]\n",
      "Node 85, 9cff9f179f1526447ef2b3b8be85a700, 2022-06-22 16:31:21.220071, Tips: [79, 80]\n",
      "Node 86, d055c874e3d66e057f548dfa6b2ff6da, 2022-06-22 16:31:21.220071, Tips: [75, 80]\n",
      "Node 87, 71f84745977b677671f84c678fe693d9, 2022-06-22 16:31:21.220071, Tips: [81, 82]\n",
      "Node 88, c7f47dd54660c3fbbe47f4dc16270a06, 2022-06-22 16:31:21.220071, Tips: [82, 83]\n",
      "Node 89, 97f9c6a7e831c8667db9e15a554b9b39, 2022-06-22 16:31:21.220071, Tips: [83, 84]\n",
      "Node 90, 5dd2d87d49c4e02d7a94974232406ec5, 2022-06-22 16:31:21.220071, Tips: [84, 85]\n",
      "Node 91, 01d16203263ae7c3165bbd9357995052, 2022-06-22 16:31:21.220071, Tips: [85, 86]\n",
      "Node 92, d15121e6cd6fd0bed2c2211a74246811, 2022-06-22 16:31:21.220071, Tips: [81, 87]\n",
      "Node 93, 71100e079a025d6a283e04107f1b412b, 2022-06-22 16:31:21.220071, Tips: [87, 88]\n",
      "Node 94, 0d9a18bd1eb990b97df19516455fefcb, 2022-06-22 16:31:21.220071, Tips: [88, 89]\n",
      "Node 95, 382e460311d23252d86a6181f2c69611, 2022-06-22 16:31:21.220071, Tips: [89, 90]\n",
      "Node 96, f5d0ba099ee14bbf9fe90387dcb1fec7, 2022-06-22 16:31:21.220071, Tips: [90, 91]\n",
      "Node 97, 3ea64e73d33783f48fbf348daa2ec62e, 2022-06-22 16:31:21.220071, Tips: [86, 91]\n",
      "Node 98, 986645b4972023fd187336ec3ab88999, 2022-06-22 16:31:21.220071, Tips: [92, 93]\n",
      "Node 99, 3e1a2e2f297744992a4e1c801d0e77e5, 2022-06-22 16:31:21.220071, Tips: [93, 94]\n"
     ]
    }
   ],
   "source": [
    "fnt = FNTVer1.FishingNet(rate)\n",
    "for i in range(size):\n",
    "    fnt.nextNode(secrets.token_hex(16), datetime.now())\n",
    "fnt.printFNT()"
   ],
   "metadata": {
    "collapsed": false,
    "pycharm": {
     "name": "#%%\n"
    }
   }
  },
  {
   "cell_type": "markdown",
   "source": [
    "Find a node and show the result"
   ],
   "metadata": {
    "collapsed": false,
    "pycharm": {
     "name": "#%% md\n"
    }
   }
  },
  {
   "cell_type": "code",
   "execution_count": 4,
   "outputs": [
    {
     "name": "stdout",
     "output_type": "stream",
     "text": [
      "Node 80, 205f73f9b08f6a937fd6bddbb8ad1f3c, 2022-06-22 16:31:21.220071, Tips: [74, 75]\n"
     ]
    }
   ],
   "source": [
    "fnt.findNode(80)"
   ],
   "metadata": {
    "collapsed": false,
    "pycharm": {
     "name": "#%%\n"
    }
   }
  },
  {
   "cell_type": "markdown",
   "source": [
    "Find tips for a node and show the result"
   ],
   "metadata": {
    "collapsed": false,
    "pycharm": {
     "name": "#%% md\n"
    }
   }
  },
  {
   "cell_type": "code",
   "execution_count": 5,
   "outputs": [
    {
     "name": "stdout",
     "output_type": "stream",
     "text": [
      "Node 84, 71f4bc43e36b7eb4bae95d44f329ac6f, 2022-06-22 16:31:21.220071, Tips: [78, 79]\n",
      "Node 85, 9cff9f179f1526447ef2b3b8be85a700, 2022-06-22 16:31:21.220071, Tips: [79, 80]\n"
     ]
    }
   ],
   "source": [
    "fnt.findTips(90)"
   ],
   "metadata": {
    "collapsed": false,
    "pycharm": {
     "name": "#%%\n"
    }
   }
  },
  {
   "cell_type": "markdown",
   "source": [
    "Find the two nodes that approve this node"
   ],
   "metadata": {
    "collapsed": false,
    "pycharm": {
     "name": "#%% md\n"
    }
   }
  },
  {
   "cell_type": "code",
   "execution_count": 6,
   "outputs": [
    {
     "name": "stdout",
     "output_type": "stream",
     "text": [
      "Node 95, 382e460311d23252d86a6181f2c69611, 2022-06-22 16:31:21.220071, Tips: [89, 90]\n",
      "Node 96, f5d0ba099ee14bbf9fe90387dcb1fec7, 2022-06-22 16:31:21.220071, Tips: [90, 91]\n"
     ]
    }
   ],
   "source": [
    "fnt.findApprover(90)"
   ],
   "metadata": {
    "collapsed": false,
    "pycharm": {
     "name": "#%%\n"
    }
   }
  },
  {
   "cell_type": "markdown",
   "source": [
    "Find the cumulative weight of a node"
   ],
   "metadata": {
    "collapsed": false,
    "pycharm": {
     "name": "#%% md\n"
    }
   }
  },
  {
   "cell_type": "code",
   "execution_count": 7,
   "outputs": [
    {
     "data": {
      "text/plain": "3"
     },
     "execution_count": 7,
     "metadata": {},
     "output_type": "execute_result"
    }
   ],
   "source": [
    "fnt.findCW(90)"
   ],
   "metadata": {
    "collapsed": false,
    "pycharm": {
     "name": "#%%\n"
    }
   }
  },
  {
   "cell_type": "markdown",
   "source": [
    "Print all nodes that have directly or indirectly approved this node"
   ],
   "metadata": {
    "collapsed": false,
    "pycharm": {
     "name": "#%% md\n"
    }
   }
  },
  {
   "cell_type": "code",
   "execution_count": 8,
   "outputs": [
    {
     "name": "stdout",
     "output_type": "stream",
     "text": [
      "Node 90, 5dd2d87d49c4e02d7a94974232406ec5, 2022-06-22 16:31:21.220071, Tips: [84, 85]\n",
      "Node 95, 382e460311d23252d86a6181f2c69611, 2022-06-22 16:31:21.220071, Tips: [89, 90]\n",
      "Node 96, f5d0ba099ee14bbf9fe90387dcb1fec7, 2022-06-22 16:31:21.220071, Tips: [90, 91]\n"
     ]
    }
   ],
   "source": [
    "fnt.findSubnet(90)"
   ],
   "metadata": {
    "collapsed": false,
    "pycharm": {
     "name": "#%%\n"
    }
   }
  },
  {
   "cell_type": "markdown",
   "source": [
    "Disable a node, only disconnect from other nodes, not delete data"
   ],
   "metadata": {
    "collapsed": false,
    "pycharm": {
     "name": "#%% md\n"
    }
   }
  },
  {
   "cell_type": "code",
   "execution_count": 9,
   "outputs": [
    {
     "name": "stdout",
     "output_type": "stream",
     "text": [
      "Node 0, 78f7b23a7915946e82e05f4484896a13, 2022-06-22 16:31:21.219076, Tips: [None, None]\n",
      "Node 1, c86d9ccb2c8183df6b97b39c561701a4, 2022-06-22 16:31:21.219076, Tips: [0, None]\n",
      "Node 2, eeb56e9a12a5b895de411343aab8ca99, 2022-06-22 16:31:21.219076, Tips: [0, None]\n",
      "Node 3, ce1689901da7b5cfdb62b12982913a19, 2022-06-22 16:31:21.219076, Tips: [1, None]\n",
      "Node 4, 2ff0216d3e87f76eb01d4c892fbe6744, 2022-06-22 16:31:21.219076, Tips: [1, 2]\n",
      "Node 5, b5fb67d18b84b9f2e714b9175b8740a1, 2022-06-22 16:31:21.219076, Tips: [2, None]\n",
      "Node 6, a11752e7ea0b6cf89f9bef3b6e8f7158, 2022-06-22 16:31:21.219076, Tips: [3, None]\n",
      "Node 7, e8efbbd126255f3913e873694ec37c45, 2022-06-22 16:31:21.219076, Tips: [3, 4]\n",
      "Node 8, 90cbd349465830e30409fa9f1248a6c7, 2022-06-22 16:31:21.219076, Tips: [4, 5]\n",
      "Node 9, 423b801dcf9fafc7c3c7e422f5abb4e3, 2022-06-22 16:31:21.219076, Tips: [5, None]\n",
      "Node 10, c0711f91b7f7547494e6ea90cc3b83cb, 2022-06-22 16:31:21.219076, Tips: [6, None]\n",
      "Node 11, 271792ca89db0215c87a0bba6019e321, 2022-06-22 16:31:21.219076, Tips: [6, 7]\n",
      "Node 12, 6ba92e9e3440e4fd8635683840d0732c, 2022-06-22 16:31:21.219076, Tips: [7, 8]\n",
      "Node 13, 6d40b11ff67ff0758fdb3a09c4758ba7, 2022-06-22 16:31:21.219076, Tips: [8, 9]\n",
      "Node 14, 9913734e64662ea3e1755b1c3172acbc, 2022-06-22 16:31:21.219076, Tips: [9, None]\n",
      "Node 15, e85ea288ff894b9583444ce826f39dc8, 2022-06-22 16:31:21.219076, Tips: [10, None]\n",
      "Node 16, 490e02f0fa2480b0266dec46d8137bed, 2022-06-22 16:31:21.219076, Tips: [10, 11]\n",
      "Node 17, 0a304939ba0ddd9ff035526d64d03cc5, 2022-06-22 16:31:21.219076, Tips: [11, 12]\n",
      "Node 18, 34a7c38173f22f142bcbabab8454fd67, 2022-06-22 16:31:21.219076, Tips: [12, 13]\n",
      "Node 19, 0da5b9a5b54da16e707956d9994f84e4, 2022-06-22 16:31:21.219076, Tips: [13, 14]\n",
      "Node 20, eb1d172427d173e261d25dc0c2b8cf1b, 2022-06-22 16:31:21.219076, Tips: [14, None]\n",
      "Node 21, 55c95e43a1efaec780d2fa526f1069a0, 2022-06-22 16:31:21.219076, Tips: [15, 16]\n",
      "Node 22, 91aa2d178d8758a1d7abefeb19ab7853, 2022-06-22 16:31:21.219076, Tips: [16, 17]\n",
      "Node 23, 81346a6169ef0b2c8295fc3552f9c2bc, 2022-06-22 16:31:21.219076, Tips: [17, 18]\n",
      "Node 24, ba79f620e3f14fbb89db5a31f85fb554, 2022-06-22 16:31:21.219076, Tips: [18, 19]\n",
      "Node 25, 7f2110965c4e4f76aae4ea207f8f666c, 2022-06-22 16:31:21.219076, Tips: [19, 20]\n",
      "Node 26, 11e42984cc48deabbde0749cc88795f5, 2022-06-22 16:31:21.219076, Tips: [15, 21]\n",
      "Node 27, 97c9eadc962ac0382dca73cbea0b2b63, 2022-06-22 16:31:21.219076, Tips: [21, 22]\n",
      "Node 28, 6ee24aed454be322d824efbe041817c4, 2022-06-22 16:31:21.219076, Tips: [22, 23]\n",
      "Node 29, 5e10e94772b4e66280164bcad378d75b, 2022-06-22 16:31:21.219076, Tips: [23, 24]\n",
      "Node 30, d1671992e0743b31157df3d8fc02bdbe, 2022-06-22 16:31:21.219076, Tips: [24, 25]\n",
      "Node 31, 400dbee9ab2ed5c7703c9113abab8053, 2022-06-22 16:31:21.219076, Tips: [20, 25]\n",
      "Node 32, 3e78e3b44a2362a46be76c822eb225a5, 2022-06-22 16:31:21.219076, Tips: [26, 27]\n",
      "Node 33, 151d6eddf14047507adf8f42af1b868c, 2022-06-22 16:31:21.219076, Tips: [27, 28]\n",
      "Node 34, 4f0b1c295a00eec878706e9332822223, 2022-06-22 16:31:21.219076, Tips: [28, 29]\n",
      "Node 35, 7500b2a5b214baffff6d09ec2f4b5a82, 2022-06-22 16:31:21.219076, Tips: [29, 30]\n",
      "Node 36, cedd27c431361ab08fee7b0e3e4ad84c, 2022-06-22 16:31:21.219076, Tips: [30, 31]\n",
      "Node 37, c56509857d1c14b4a3bd5f4c43565f03, 2022-06-22 16:31:21.219076, Tips: [26, 32]\n",
      "Node 38, 80880d24f4862871ea3eca0b43950f21, 2022-06-22 16:31:21.219076, Tips: [32, 33]\n",
      "Node 39, d6991edcddc6211c96d59d34e9dc7198, 2022-06-22 16:31:21.219076, Tips: [33, 34]\n",
      "Node 40, 1974638e147fbedf30492eb4e39cd851, 2022-06-22 16:31:21.219076, Tips: [34, 35]\n",
      "Node 41, 905145310dc4993991b6bde28e9ea16d, 2022-06-22 16:31:21.219076, Tips: [35, 36]\n",
      "Node 42, 658e70f3d6fa7b5673dca8e8d74a572d, 2022-06-22 16:31:21.219076, Tips: [31, 36]\n",
      "Node 43, 00686cee32c049249fca1c6c940401c9, 2022-06-22 16:31:21.219076, Tips: [37, 38]\n",
      "Node 44, 5d40b29b69a9fabe3adb5574679afd88, 2022-06-22 16:31:21.219076, Tips: [38, 39]\n",
      "Node 45, b5ec8eea72587fcfa200c489967548af, 2022-06-22 16:31:21.219076, Tips: [39, 40]\n",
      "Node 46, 858b23b2e4b5f748537fb2c573209705, 2022-06-22 16:31:21.219076, Tips: [40, 41]\n",
      "Node 47, f8f1467eb166913440ca36b5fea459c8, 2022-06-22 16:31:21.219076, Tips: [41, 42]\n",
      "Node 48, a945b038074cf98d4cd038c0a480a699, 2022-06-22 16:31:21.219076, Tips: [37, 43]\n",
      "Node 49, 9939232c7cab7deac8ed099a012921a8, 2022-06-22 16:31:21.219076, Tips: [43, 44]\n",
      "Node 50, f8e9b826e032dd6538e74cbfffe5fd32, 2022-06-22 16:31:21.219076, Tips: [44, 45]\n",
      "Node 51, 75773c18a73838101624755aa429677d, 2022-06-22 16:31:21.219076, Tips: [45, 46]\n",
      "Node 52, 55b481c7d0589182cfdc884c771ae6af, 2022-06-22 16:31:21.219076, Tips: [46, 47]\n",
      "Node 53, 66e2bff454e3f3fcb071c2ec43a58c6d, 2022-06-22 16:31:21.219076, Tips: [42, 47]\n",
      "Node 54, 7675276743e00cb73668dd08e03715c0, 2022-06-22 16:31:21.219076, Tips: [48, 49]\n",
      "Node 55, ac507ef0d4870090ed11dcf4d683a451, 2022-06-22 16:31:21.219076, Tips: [49, 50]\n",
      "Node 56, 23a64e2a676ddad29652e05f44a00b02, 2022-06-22 16:31:21.219076, Tips: [50, 51]\n",
      "Node 57, 658782090b2024a2e4f545a34d80fc08, 2022-06-22 16:31:21.219076, Tips: [51, 52]\n",
      "Node 58, 3a97fc233768a5295260f8cc74c3af9c, 2022-06-22 16:31:21.220071, Tips: [52, 53]\n",
      "Node 59, 8b332d0810e33d9c1120aeee78d7b69d, 2022-06-22 16:31:21.220071, Tips: [48, 54]\n",
      "Node 60, a963d0106ccffa72ba82d5c7d5f72443, 2022-06-22 16:31:21.220071, Tips: [54, 55]\n",
      "Node 61, 0d79420f3e25312cdd7de6adff0b9750, 2022-06-22 16:31:21.220071, Tips: [55, 56]\n",
      "Node 62, b0c9c8ea526e1189dd70b69c309cf1b9, 2022-06-22 16:31:21.220071, Tips: [56, 57]\n",
      "Node 63, 3a3247e682fbe2d60c07cb15ba6a1ad7, 2022-06-22 16:31:21.220071, Tips: [57, 58]\n",
      "Node 64, 5b70a31bfc0b699c72c0448ba2452f98, 2022-06-22 16:31:21.220071, Tips: [53, 58]\n",
      "Node 65, a69da922c2236fc44a047866040c0ff6, 2022-06-22 16:31:21.220071, Tips: [59, 60]\n",
      "Node 66, 28e3ff7def82160a91180e8b02477f01, 2022-06-22 16:31:21.220071, Tips: [60, 61]\n",
      "Node 67, c93760585b28b62ed959fef243a99a73, 2022-06-22 16:31:21.220071, Tips: [61, 62]\n",
      "Node 68, 8dd72f8ce62de1c20eed185555532f76, 2022-06-22 16:31:21.220071, Tips: [62, 63]\n",
      "Node 69, c4904cbc5e475fca2c6eaf4e6394369f, 2022-06-22 16:31:21.220071, Tips: [63, 64]\n",
      "Node 70, 12c30fffb90073726524f188f07c3860, 2022-06-22 16:31:21.220071, Tips: [59, 65]\n",
      "Node 71, 56a785c1652dff3167d32ad922e28db7, 2022-06-22 16:31:21.220071, Tips: [65, 66]\n",
      "Node 72, cd5625717f9a9c7897958b85691fc6ab, 2022-06-22 16:31:21.220071, Tips: [66, 67]\n",
      "Node 73, 4420c26988c8f2e15671191bede298e9, 2022-06-22 16:31:21.220071, Tips: [67, 68]\n",
      "Node 74, 54bfa3e8ee522ee798135b9ec914f4be, 2022-06-22 16:31:21.220071, Tips: [68, 69]\n",
      "Node 75, ae912e0232b40995fab13a58edaa44a3, 2022-06-22 16:31:21.220071, Tips: [64, 69]\n",
      "Node 76, cf8083002f9c794aeeae1d00ae9fce20, 2022-06-22 16:31:21.220071, Tips: [70, 71]\n",
      "Node 77, d202ff2de6c825f7d6293c4838f077b2, 2022-06-22 16:31:21.220071, Tips: [71, 72]\n",
      "Node 78, c0c1fd5517cedc9d7a905b78e9289b86, 2022-06-22 16:31:21.220071, Tips: [72, 73]\n",
      "Node 79, 720bc2cdfd64a40ccf676086a740f628, 2022-06-22 16:31:21.220071, Tips: [73, 74]\n",
      "Node 80 disabled\n",
      "Node 81, 09c7f4786a96253c68ea4fa8ad6fe9af, 2022-06-22 16:31:21.220071, Tips: [70, 76]\n",
      "Node 82, 3799cf51c021af14c1f1389f0fdc6e0f, 2022-06-22 16:31:21.220071, Tips: [76, 77]\n",
      "Node 83, 71042b15a573b6d92b1df4ec92555c7a, 2022-06-22 16:31:21.220071, Tips: [77, 78]\n",
      "Node 84, 71f4bc43e36b7eb4bae95d44f329ac6f, 2022-06-22 16:31:21.220071, Tips: [78, 79]\n",
      "Node 85, 9cff9f179f1526447ef2b3b8be85a700, 2022-06-22 16:31:21.220071, Tips: [79, None]\n",
      "Node 86, d055c874e3d66e057f548dfa6b2ff6da, 2022-06-22 16:31:21.220071, Tips: [75, None]\n",
      "Node 87, 71f84745977b677671f84c678fe693d9, 2022-06-22 16:31:21.220071, Tips: [81, 82]\n",
      "Node 88, c7f47dd54660c3fbbe47f4dc16270a06, 2022-06-22 16:31:21.220071, Tips: [82, 83]\n",
      "Node 89, 97f9c6a7e831c8667db9e15a554b9b39, 2022-06-22 16:31:21.220071, Tips: [83, 84]\n",
      "Node 90, 5dd2d87d49c4e02d7a94974232406ec5, 2022-06-22 16:31:21.220071, Tips: [84, 85]\n",
      "Node 91, 01d16203263ae7c3165bbd9357995052, 2022-06-22 16:31:21.220071, Tips: [85, 86]\n",
      "Node 92, d15121e6cd6fd0bed2c2211a74246811, 2022-06-22 16:31:21.220071, Tips: [81, 87]\n",
      "Node 93, 71100e079a025d6a283e04107f1b412b, 2022-06-22 16:31:21.220071, Tips: [87, 88]\n",
      "Node 94, 0d9a18bd1eb990b97df19516455fefcb, 2022-06-22 16:31:21.220071, Tips: [88, 89]\n",
      "Node 95, 382e460311d23252d86a6181f2c69611, 2022-06-22 16:31:21.220071, Tips: [89, 90]\n",
      "Node 96, f5d0ba099ee14bbf9fe90387dcb1fec7, 2022-06-22 16:31:21.220071, Tips: [90, 91]\n",
      "Node 97, 3ea64e73d33783f48fbf348daa2ec62e, 2022-06-22 16:31:21.220071, Tips: [86, 91]\n",
      "Node 98, 986645b4972023fd187336ec3ab88999, 2022-06-22 16:31:21.220071, Tips: [92, 93]\n",
      "Node 99, 3e1a2e2f297744992a4e1c801d0e77e5, 2022-06-22 16:31:21.220071, Tips: [93, 94]\n"
     ]
    }
   ],
   "source": [
    "fnt.disableNode(80)\n",
    "fnt.printFNT()"
   ],
   "metadata": {
    "collapsed": false,
    "pycharm": {
     "name": "#%%\n"
    }
   }
  },
  {
   "cell_type": "code",
   "execution_count": 10,
   "outputs": [
    {
     "name": "stdout",
     "output_type": "stream",
     "text": [
      "Node 80, 205f73f9b08f6a937fd6bddbb8ad1f3c, 2022-06-22 16:31:21.220071, Tips: [74, 75]\n"
     ]
    }
   ],
   "source": [
    "fnt.findNode(80)"
   ],
   "metadata": {
    "collapsed": false,
    "pycharm": {
     "name": "#%%\n"
    }
   }
  },
  {
   "cell_type": "markdown",
   "source": [
    "Get lists of throughput, utilization, and waste rate at each layer"
   ],
   "metadata": {
    "collapsed": false,
    "pycharm": {
     "name": "#%% md\n"
    }
   }
  },
  {
   "cell_type": "code",
   "execution_count": 11,
   "outputs": [
    {
     "data": {
      "text/plain": "[1, 2, 3, 4, 5, 6, 5, 6, 5, 6, 5, 6, 5, 6, 5, 6, 5, 6, 5, 6, 2]"
     },
     "execution_count": 11,
     "metadata": {},
     "output_type": "execute_result"
    }
   ],
   "source": [
    "fnt.findThroughput()"
   ],
   "metadata": {
    "collapsed": false,
    "pycharm": {
     "name": "#%%\n"
    }
   }
  },
  {
   "cell_type": "code",
   "execution_count": 12,
   "outputs": [
    {
     "data": {
      "text/plain": "[0.1667,\n 0.3333,\n 0.5,\n 0.6667,\n 0.8333,\n 1.0,\n 0.8333,\n 1.0,\n 0.8333,\n 1.0,\n 0.8333,\n 1.0,\n 0.8333,\n 1.0,\n 0.8333,\n 1.0,\n 0.8333,\n 1.0,\n 0.8333,\n 1.0,\n 0.3333]"
     },
     "execution_count": 12,
     "metadata": {},
     "output_type": "execute_result"
    }
   ],
   "source": [
    "fnt.findUtilization()"
   ],
   "metadata": {
    "collapsed": false,
    "pycharm": {
     "name": "#%%\n"
    }
   }
  },
  {
   "cell_type": "code",
   "execution_count": 13,
   "outputs": [
    {
     "data": {
      "text/plain": "[0.8333,\n 0.6667,\n 0.5,\n 0.3333,\n 0.1667,\n 0.0,\n 0.1667,\n 0.0,\n 0.1667,\n 0.0,\n 0.1667,\n 0.0,\n 0.1667,\n 0.0,\n 0.1667,\n 0.0,\n 0.1667,\n 0.0,\n 0.1667,\n 0.0,\n 0.6667]"
     },
     "execution_count": 13,
     "metadata": {},
     "output_type": "execute_result"
    }
   ],
   "source": [
    "fnt.findWaste()"
   ],
   "metadata": {
    "collapsed": false,
    "pycharm": {
     "name": "#%%\n"
    }
   }
  },
  {
   "cell_type": "markdown",
   "source": [
    "Get cumulative waste rate"
   ],
   "metadata": {
    "collapsed": false,
    "pycharm": {
     "name": "#%% md\n"
    }
   }
  },
  {
   "cell_type": "code",
   "execution_count": 14,
   "outputs": [
    {
     "data": {
      "text/plain": "[0.8333,\n 0.75,\n 0.6667,\n 0.5833,\n 0.5,\n 0.4167,\n 0.381,\n 0.3333,\n 0.3148,\n 0.2833,\n 0.2727,\n 0.25,\n 0.2436,\n 0.2262,\n 0.2222,\n 0.2083,\n 0.2059,\n 0.1944,\n 0.193,\n 0.1833,\n 0.2063]"
     },
     "execution_count": 14,
     "metadata": {},
     "output_type": "execute_result"
    }
   ],
   "source": [
    "fnt.findCumWaste()"
   ],
   "metadata": {
    "collapsed": false,
    "pycharm": {
     "name": "#%%\n"
    }
   }
  },
  {
   "cell_type": "markdown",
   "source": [
    "Get the waste rate of entire network"
   ],
   "metadata": {
    "collapsed": false,
    "pycharm": {
     "name": "#%% md\n"
    }
   }
  },
  {
   "cell_type": "code",
   "execution_count": 15,
   "outputs": [
    {
     "data": {
      "text/plain": "'18.1548%'"
     },
     "execution_count": 15,
     "metadata": {},
     "output_type": "execute_result"
    }
   ],
   "source": [
    "fnt.findWasteRate()"
   ],
   "metadata": {
    "collapsed": false,
    "pycharm": {
     "name": "#%%\n"
    }
   }
  }
 ],
 "metadata": {
  "kernelspec": {
   "display_name": "Python 3",
   "language": "python",
   "name": "python3"
  },
  "language_info": {
   "codemirror_mode": {
    "name": "ipython",
    "version": 2
   },
   "file_extension": ".py",
   "mimetype": "text/x-python",
   "name": "python",
   "nbconvert_exporter": "python",
   "pygments_lexer": "ipython2",
   "version": "2.7.6"
  }
 },
 "nbformat": 4,
 "nbformat_minor": 0
}