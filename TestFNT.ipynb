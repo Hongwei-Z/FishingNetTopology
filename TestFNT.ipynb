{
 "cells": [
  {
   "cell_type": "markdown",
   "metadata": {
    "collapsed": true,
    "pycharm": {
     "name": "#%% md\n"
    }
   },
   "source": [
    "Experiments and Feature Showcases"
   ]
  },
  {
   "cell_type": "code",
   "execution_count": 1,
   "outputs": [],
   "source": [
    "import FNT\n",
    "import secrets\n",
    "from datetime import datetime"
   ],
   "metadata": {
    "collapsed": false,
    "pycharm": {
     "name": "#%%\n"
    }
   }
  },
  {
   "cell_type": "markdown",
   "source": [
    "Define rate and number of nodes"
   ],
   "metadata": {
    "collapsed": false
   }
  },
  {
   "cell_type": "code",
   "execution_count": 2,
   "outputs": [],
   "source": [
    "rate = 6\n",
    "size = 100"
   ],
   "metadata": {
    "collapsed": false,
    "pycharm": {
     "name": "#%%\n"
    }
   }
  },
  {
   "cell_type": "markdown",
   "source": [
    "Create a FishingNet, add nodes"
   ],
   "metadata": {
    "collapsed": false
   }
  },
  {
   "cell_type": "code",
   "execution_count": 3,
   "outputs": [
    {
     "name": "stdout",
     "output_type": "stream",
     "text": [
      "Node 0, a6ba97f73820d2f0056e57f97106c7ee, 2022-04-02 16:26:19.467581, Tips: [None, None]\n",
      "Node 1, 4e85905702c2f568e93c14a6b44de08d, 2022-04-02 16:26:19.467581, Tips: [0, None]\n",
      "Node 2, 2f9300b47072b2823ebb884f714da6d5, 2022-04-02 16:26:19.467581, Tips: [0, None]\n",
      "Node 3, 0835528ed746302f83f818e396df781e, 2022-04-02 16:26:19.467581, Tips: [1, None]\n",
      "Node 4, dbab2725819e61f39c94e525db20961d, 2022-04-02 16:26:19.467581, Tips: [1, 2]\n",
      "Node 5, 9cfb772a4003c8bc99f6dad6bbe3b45c, 2022-04-02 16:26:19.467581, Tips: [2, None]\n",
      "Node 6, 513f2c77d17a89911320e03c7acc43d9, 2022-04-02 16:26:19.467581, Tips: [3, None]\n",
      "Node 7, 6571f689e1a3c7cc498d5cb632002554, 2022-04-02 16:26:19.467581, Tips: [3, 4]\n",
      "Node 8, f9471db7f692d1572f893c83bd9e4716, 2022-04-02 16:26:19.467581, Tips: [4, 5]\n",
      "Node 9, 2ed4343188a13fdbfd517567cdbfa55b, 2022-04-02 16:26:19.467581, Tips: [5, None]\n",
      "Node 10, dab9b4515dd8c5b319c55a6462970197, 2022-04-02 16:26:19.467581, Tips: [6, None]\n",
      "Node 11, ee7d031498fd2e2f1fe2b51d5e1bd0e0, 2022-04-02 16:26:19.467581, Tips: [6, 7]\n",
      "Node 12, 0b382dfc253acfc27403bc265fda427f, 2022-04-02 16:26:19.467581, Tips: [7, 8]\n",
      "Node 13, 399ab73417453b532d03082cb464468a, 2022-04-02 16:26:19.467581, Tips: [8, 9]\n",
      "Node 14, 79eae2eb15ebe91aeedd05f164d4b986, 2022-04-02 16:26:19.467581, Tips: [9, None]\n",
      "Node 15, 3f023a18aeffcf01a5ffe4017f531442, 2022-04-02 16:26:19.467581, Tips: [10, None]\n",
      "Node 16, b7317394153d790c0935980943bff9b8, 2022-04-02 16:26:19.467581, Tips: [10, 11]\n",
      "Node 17, 5a6f62eff7b56a0916586c969cef63a6, 2022-04-02 16:26:19.467581, Tips: [11, 12]\n",
      "Node 18, 3df98e109c0eccf446136a4dff32f0bf, 2022-04-02 16:26:19.467581, Tips: [12, 13]\n",
      "Node 19, 1517a7870139081646e24288265f4142, 2022-04-02 16:26:19.467581, Tips: [13, 14]\n",
      "Node 20, 72a9c756c4a00cfd0ee837be3a79a91f, 2022-04-02 16:26:19.467581, Tips: [14, None]\n",
      "Node 21, 6b21acbb125c664f246ac73fc6728f7c, 2022-04-02 16:26:19.467581, Tips: [15, 16]\n",
      "Node 22, 5b89f565f49dd9a7f945fea19124c814, 2022-04-02 16:26:19.467581, Tips: [16, 17]\n",
      "Node 23, 848772cf860569a9773795406a286f6f, 2022-04-02 16:26:19.467581, Tips: [17, 18]\n",
      "Node 24, 78d59545244ed3476c639e0647a9c0d4, 2022-04-02 16:26:19.467581, Tips: [18, 19]\n",
      "Node 25, 970936813bf0acc07830cf5fea1d4b2f, 2022-04-02 16:26:19.467581, Tips: [19, 20]\n",
      "Node 26, 23704f51d16405a674c5ea5a7fdb785d, 2022-04-02 16:26:19.467581, Tips: [15, 21]\n",
      "Node 27, e25c76fe76d4c32d1a663a50eb9a9b77, 2022-04-02 16:26:19.467581, Tips: [21, 22]\n",
      "Node 28, 2b7eb1d3125be8d5ab7ddb3ba8b6b9d8, 2022-04-02 16:26:19.467581, Tips: [22, 23]\n",
      "Node 29, e1aa6388026217addaca860558517749, 2022-04-02 16:26:19.467581, Tips: [23, 24]\n",
      "Node 30, d379107bad57a5f18918c877229594a7, 2022-04-02 16:26:19.468514, Tips: [24, 25]\n",
      "Node 31, 988708dd5d389375819368a91dc5b57f, 2022-04-02 16:26:19.468514, Tips: [20, 25]\n",
      "Node 32, ea506b2d3bba84957f34bf4c6abec920, 2022-04-02 16:26:19.468514, Tips: [26, 27]\n",
      "Node 33, a55fda93c2005d08401cf8dbd6792b86, 2022-04-02 16:26:19.468514, Tips: [27, 28]\n",
      "Node 34, f38a940a1d180cd018a966b6bfdf07ef, 2022-04-02 16:26:19.468514, Tips: [28, 29]\n",
      "Node 35, 3e953c1a809fd03a4770888e906ed949, 2022-04-02 16:26:19.468514, Tips: [29, 30]\n",
      "Node 36, bf8e15fc24fa406656878e1bf557d88e, 2022-04-02 16:26:19.468514, Tips: [30, 31]\n",
      "Node 37, a50495d09166dfd4765445b5ce2f48d6, 2022-04-02 16:26:19.468514, Tips: [26, 32]\n",
      "Node 38, 8105befeb5db5aa4ad968ddc4a8388f2, 2022-04-02 16:26:19.468514, Tips: [32, 33]\n",
      "Node 39, e379a072fa09c74e3a9cdfb14c147303, 2022-04-02 16:26:19.468514, Tips: [33, 34]\n",
      "Node 40, 31780ee859603561a594e1637c45e843, 2022-04-02 16:26:19.468514, Tips: [34, 35]\n",
      "Node 41, ca242f58fcd2de4450852d8df3ee5d93, 2022-04-02 16:26:19.468514, Tips: [35, 36]\n",
      "Node 42, 62130fc27c5ab2dc8e27f4402554c163, 2022-04-02 16:26:19.468514, Tips: [31, 36]\n",
      "Node 43, cc01b1263754489cbd62298374f95fa0, 2022-04-02 16:26:19.468514, Tips: [37, 38]\n",
      "Node 44, ec899b66e0a45efba54cd6652f63c61d, 2022-04-02 16:26:19.468514, Tips: [38, 39]\n",
      "Node 45, 57ce89b4292eee3fd3e39a1689c993ee, 2022-04-02 16:26:19.468514, Tips: [39, 40]\n",
      "Node 46, 594c18b39655114ef2ceacc7bed6ebbc, 2022-04-02 16:26:19.468514, Tips: [40, 41]\n",
      "Node 47, 44296c64b71ef112bdac1d53d493bdba, 2022-04-02 16:26:19.468514, Tips: [41, 42]\n",
      "Node 48, 738a2192e2287efe335b06caf52f73f5, 2022-04-02 16:26:19.468514, Tips: [37, 43]\n",
      "Node 49, f7ecd44da34eb41b51661e22c55ce108, 2022-04-02 16:26:19.468514, Tips: [43, 44]\n",
      "Node 50, 0189592dd2b9a78311abc4a8ed037967, 2022-04-02 16:26:19.468514, Tips: [44, 45]\n",
      "Node 51, 504b5c5e784271f51fcbbc558d915205, 2022-04-02 16:26:19.468514, Tips: [45, 46]\n",
      "Node 52, d5e56038a08b3d66749fa43f40c18d5d, 2022-04-02 16:26:19.468514, Tips: [46, 47]\n",
      "Node 53, 231739aeb7707ad635f314e02dd0abad, 2022-04-02 16:26:19.468514, Tips: [42, 47]\n",
      "Node 54, b45063ee44b9c1bdd932081a8a10a7ae, 2022-04-02 16:26:19.468514, Tips: [48, 49]\n",
      "Node 55, 0d6865f04521cdd84b05e31716b6c653, 2022-04-02 16:26:19.468514, Tips: [49, 50]\n",
      "Node 56, afa8742bbc599a9570d80baca091d9cd, 2022-04-02 16:26:19.468514, Tips: [50, 51]\n",
      "Node 57, f273b4f3cc7fc1bb4d1f17777e1d245d, 2022-04-02 16:26:19.468514, Tips: [51, 52]\n",
      "Node 58, 16794bbb183b099e8171e0cb40f419b6, 2022-04-02 16:26:19.468514, Tips: [52, 53]\n",
      "Node 59, 661ace063d3b357e7b3c27517b284fea, 2022-04-02 16:26:19.468514, Tips: [48, 54]\n",
      "Node 60, f23399bd13d6209124002db45a848b8e, 2022-04-02 16:26:19.468514, Tips: [54, 55]\n",
      "Node 61, e46207f51b00b8d0f188082412a2c0df, 2022-04-02 16:26:19.468514, Tips: [55, 56]\n",
      "Node 62, b86a04025dfd2f243bdb4e149488dc1c, 2022-04-02 16:26:19.468514, Tips: [56, 57]\n",
      "Node 63, b793dd06bcc61a5073d2c2df846aa048, 2022-04-02 16:26:19.468514, Tips: [57, 58]\n",
      "Node 64, 249afdd843b063304d627fcdbfd4dd6e, 2022-04-02 16:26:19.468514, Tips: [53, 58]\n",
      "Node 65, 7ed52d3de369d2c8161061ddf01810bb, 2022-04-02 16:26:19.468514, Tips: [59, 60]\n",
      "Node 66, 43633a12b33ac76ad1df08532bdf3211, 2022-04-02 16:26:19.468514, Tips: [60, 61]\n",
      "Node 67, 228ff3994a5ff371b95d65f5472c309a, 2022-04-02 16:26:19.468514, Tips: [61, 62]\n",
      "Node 68, 15143fb08794d200ffc94b038664debd, 2022-04-02 16:26:19.468514, Tips: [62, 63]\n",
      "Node 69, 4b10edb38f432b44e8acd2abc9409561, 2022-04-02 16:26:19.468514, Tips: [63, 64]\n",
      "Node 70, 477a8e89cd7709e20fa49611ee14bf6c, 2022-04-02 16:26:19.468514, Tips: [59, 65]\n",
      "Node 71, d49907bf0c4e67a30faa1a3bdc12dd7c, 2022-04-02 16:26:19.468514, Tips: [65, 66]\n",
      "Node 72, 883f74fa3dfb934d5c0a6802cdc987f9, 2022-04-02 16:26:19.468514, Tips: [66, 67]\n",
      "Node 73, edfbcfea073d5b2b7314259c66d82347, 2022-04-02 16:26:19.468514, Tips: [67, 68]\n",
      "Node 74, 96f56182540985881f6c2b7aee87b6c8, 2022-04-02 16:26:19.468514, Tips: [68, 69]\n",
      "Node 75, b96bf6927a7b00fd2b4a3a3b98e2b82d, 2022-04-02 16:26:19.468514, Tips: [64, 69]\n",
      "Node 76, 5651b20240b5de6b6ee90b6db031c949, 2022-04-02 16:26:19.468514, Tips: [70, 71]\n",
      "Node 77, b476234412b290529f0214309def337e, 2022-04-02 16:26:19.468514, Tips: [71, 72]\n",
      "Node 78, bb9e0a878ce88df83e87281083c4cdd2, 2022-04-02 16:26:19.468514, Tips: [72, 73]\n",
      "Node 79, 2f194a22e971b91cc17466a6aef1a4f5, 2022-04-02 16:26:19.468514, Tips: [73, 74]\n",
      "Node 80, aa271ce293218e8fbb0b4b3bbf258731, 2022-04-02 16:26:19.468514, Tips: [74, 75]\n",
      "Node 81, 0747820c324066f4f623eda4c88cfd0c, 2022-04-02 16:26:19.468514, Tips: [70, 76]\n",
      "Node 82, 9340dfd1f8932f1647fe86bd9122957c, 2022-04-02 16:26:19.469037, Tips: [76, 77]\n",
      "Node 83, 92b7a50c1487918ef96e36afb293162e, 2022-04-02 16:26:19.469037, Tips: [77, 78]\n",
      "Node 84, f7f72ffa380c6bc72fcc6849eb17b4c0, 2022-04-02 16:26:19.469037, Tips: [78, 79]\n",
      "Node 85, e7004c3a3c6f8e933544dfbed413ffd1, 2022-04-02 16:26:19.469037, Tips: [79, 80]\n",
      "Node 86, 31ee40cea39f90dd7af03b18e3bd364f, 2022-04-02 16:26:19.469037, Tips: [75, 80]\n",
      "Node 87, 095dd9a2364fd69ef6d1c71bb4d2ad48, 2022-04-02 16:26:19.469037, Tips: [81, 82]\n",
      "Node 88, 1c9d27f3958b446cf7a27e6f69e5036d, 2022-04-02 16:26:19.469037, Tips: [82, 83]\n",
      "Node 89, a3fcf4f7cd40f3ee4520d68aa8b287a4, 2022-04-02 16:26:19.469037, Tips: [83, 84]\n",
      "Node 90, f5342cd32b23b9456176d4c59315f059, 2022-04-02 16:26:19.469037, Tips: [84, 85]\n",
      "Node 91, 970f082be1320f43fe756931d30a1847, 2022-04-02 16:26:19.469037, Tips: [85, 86]\n",
      "Node 92, c9a690af6592995fa98567c089cfd4d4, 2022-04-02 16:26:19.469037, Tips: [81, 87]\n",
      "Node 93, bb37f48d6df75692f67bc7f46f5e377e, 2022-04-02 16:26:19.469037, Tips: [87, 88]\n",
      "Node 94, 24e16c864bf54ce134564dd5f298d24e, 2022-04-02 16:26:19.469037, Tips: [88, 89]\n",
      "Node 95, 2e319a94f2aebdd1320688fc7aced048, 2022-04-02 16:26:19.469037, Tips: [89, 90]\n",
      "Node 96, 35d0faf4c2252b9fb1b663e4a8afee6b, 2022-04-02 16:26:19.469037, Tips: [90, 91]\n",
      "Node 97, 28aed714edf88add576aa8c4f8fa9257, 2022-04-02 16:26:19.469037, Tips: [86, 91]\n",
      "Node 98, 522377b1339db619f2ddac11df3a4980, 2022-04-02 16:26:19.469037, Tips: [92, 93]\n",
      "Node 99, 4188080f3ed82121dbb98fb898434358, 2022-04-02 16:26:19.469037, Tips: [93, 94]\n"
     ]
    }
   ],
   "source": [
    "fnt = FNT.FishingNet(rate)\n",
    "for i in range(size):\n",
    "    fnt.nextNode(secrets.token_hex(16), datetime.now())\n",
    "fnt.printFNT()"
   ],
   "metadata": {
    "collapsed": false,
    "pycharm": {
     "name": "#%%\n"
    }
   }
  },
  {
   "cell_type": "markdown",
   "source": [
    "Find a node and show the result"
   ],
   "metadata": {
    "collapsed": false,
    "pycharm": {
     "name": "#%% md\n"
    }
   }
  },
  {
   "cell_type": "code",
   "execution_count": 4,
   "outputs": [
    {
     "name": "stdout",
     "output_type": "stream",
     "text": [
      "Node 80, aa271ce293218e8fbb0b4b3bbf258731, 2022-04-02 16:26:19.468514, Tips: [74, 75]\n"
     ]
    }
   ],
   "source": [
    "fnt.findNode(80)"
   ],
   "metadata": {
    "collapsed": false,
    "pycharm": {
     "name": "#%%\n"
    }
   }
  },
  {
   "cell_type": "markdown",
   "source": [
    "Find tips for a node and show the result"
   ],
   "metadata": {
    "collapsed": false,
    "pycharm": {
     "name": "#%% md\n"
    }
   }
  },
  {
   "cell_type": "code",
   "execution_count": 5,
   "outputs": [
    {
     "name": "stdout",
     "output_type": "stream",
     "text": [
      "Node 84, f7f72ffa380c6bc72fcc6849eb17b4c0, 2022-04-02 16:26:19.469037, Tips: [78, 79]\n",
      "Node 85, e7004c3a3c6f8e933544dfbed413ffd1, 2022-04-02 16:26:19.469037, Tips: [79, 80]\n"
     ]
    }
   ],
   "source": [
    "fnt.findTips(90)"
   ],
   "metadata": {
    "collapsed": false,
    "pycharm": {
     "name": "#%%\n"
    }
   }
  },
  {
   "cell_type": "markdown",
   "source": [
    "Find the two nodes that approve this node"
   ],
   "metadata": {
    "collapsed": false,
    "pycharm": {
     "name": "#%% md\n"
    }
   }
  },
  {
   "cell_type": "code",
   "execution_count": 6,
   "outputs": [
    {
     "name": "stdout",
     "output_type": "stream",
     "text": [
      "Node 95, 2e319a94f2aebdd1320688fc7aced048, 2022-04-02 16:26:19.469037, Tips: [89, 90]\n",
      "Node 96, 35d0faf4c2252b9fb1b663e4a8afee6b, 2022-04-02 16:26:19.469037, Tips: [90, 91]\n"
     ]
    }
   ],
   "source": [
    "fnt.findApprover(90)"
   ],
   "metadata": {
    "collapsed": false,
    "pycharm": {
     "name": "#%%\n"
    }
   }
  },
  {
   "cell_type": "markdown",
   "source": [
    "Find the cumulative weight of a node"
   ],
   "metadata": {
    "collapsed": false
   }
  },
  {
   "cell_type": "code",
   "execution_count": 7,
   "outputs": [
    {
     "data": {
      "text/plain": "3"
     },
     "execution_count": 7,
     "metadata": {},
     "output_type": "execute_result"
    }
   ],
   "source": [
    "fnt.findCW(90)"
   ],
   "metadata": {
    "collapsed": false,
    "pycharm": {
     "name": "#%%\n"
    }
   }
  },
  {
   "cell_type": "markdown",
   "source": [
    "Print all nodes that have directly or indirectly approved this node"
   ],
   "metadata": {
    "collapsed": false
   }
  },
  {
   "cell_type": "code",
   "execution_count": 8,
   "outputs": [
    {
     "name": "stdout",
     "output_type": "stream",
     "text": [
      "Node 90, f5342cd32b23b9456176d4c59315f059, 2022-04-02 16:26:19.469037, Tips: [84, 85]\n",
      "Node 95, 2e319a94f2aebdd1320688fc7aced048, 2022-04-02 16:26:19.469037, Tips: [89, 90]\n",
      "Node 96, 35d0faf4c2252b9fb1b663e4a8afee6b, 2022-04-02 16:26:19.469037, Tips: [90, 91]\n"
     ]
    }
   ],
   "source": [
    "fnt.findSubnet(90)"
   ],
   "metadata": {
    "collapsed": false,
    "pycharm": {
     "name": "#%%\n"
    }
   }
  },
  {
   "cell_type": "markdown",
   "source": [
    "Disable a node, only disconnect from other nodes, not delete data"
   ],
   "metadata": {
    "collapsed": false
   }
  },
  {
   "cell_type": "code",
   "execution_count": 9,
   "outputs": [
    {
     "name": "stdout",
     "output_type": "stream",
     "text": [
      "Node 0, a6ba97f73820d2f0056e57f97106c7ee, 2022-04-02 16:26:19.467581, Tips: [None, None]\n",
      "Node 1, 4e85905702c2f568e93c14a6b44de08d, 2022-04-02 16:26:19.467581, Tips: [0, None]\n",
      "Node 2, 2f9300b47072b2823ebb884f714da6d5, 2022-04-02 16:26:19.467581, Tips: [0, None]\n",
      "Node 3, 0835528ed746302f83f818e396df781e, 2022-04-02 16:26:19.467581, Tips: [1, None]\n",
      "Node 4, dbab2725819e61f39c94e525db20961d, 2022-04-02 16:26:19.467581, Tips: [1, 2]\n",
      "Node 5, 9cfb772a4003c8bc99f6dad6bbe3b45c, 2022-04-02 16:26:19.467581, Tips: [2, None]\n",
      "Node 6, 513f2c77d17a89911320e03c7acc43d9, 2022-04-02 16:26:19.467581, Tips: [3, None]\n",
      "Node 7, 6571f689e1a3c7cc498d5cb632002554, 2022-04-02 16:26:19.467581, Tips: [3, 4]\n",
      "Node 8, f9471db7f692d1572f893c83bd9e4716, 2022-04-02 16:26:19.467581, Tips: [4, 5]\n",
      "Node 9, 2ed4343188a13fdbfd517567cdbfa55b, 2022-04-02 16:26:19.467581, Tips: [5, None]\n",
      "Node 10, dab9b4515dd8c5b319c55a6462970197, 2022-04-02 16:26:19.467581, Tips: [6, None]\n",
      "Node 11, ee7d031498fd2e2f1fe2b51d5e1bd0e0, 2022-04-02 16:26:19.467581, Tips: [6, 7]\n",
      "Node 12, 0b382dfc253acfc27403bc265fda427f, 2022-04-02 16:26:19.467581, Tips: [7, 8]\n",
      "Node 13, 399ab73417453b532d03082cb464468a, 2022-04-02 16:26:19.467581, Tips: [8, 9]\n",
      "Node 14, 79eae2eb15ebe91aeedd05f164d4b986, 2022-04-02 16:26:19.467581, Tips: [9, None]\n",
      "Node 15, 3f023a18aeffcf01a5ffe4017f531442, 2022-04-02 16:26:19.467581, Tips: [10, None]\n",
      "Node 16, b7317394153d790c0935980943bff9b8, 2022-04-02 16:26:19.467581, Tips: [10, 11]\n",
      "Node 17, 5a6f62eff7b56a0916586c969cef63a6, 2022-04-02 16:26:19.467581, Tips: [11, 12]\n",
      "Node 18, 3df98e109c0eccf446136a4dff32f0bf, 2022-04-02 16:26:19.467581, Tips: [12, 13]\n",
      "Node 19, 1517a7870139081646e24288265f4142, 2022-04-02 16:26:19.467581, Tips: [13, 14]\n",
      "Node 20, 72a9c756c4a00cfd0ee837be3a79a91f, 2022-04-02 16:26:19.467581, Tips: [14, None]\n",
      "Node 21, 6b21acbb125c664f246ac73fc6728f7c, 2022-04-02 16:26:19.467581, Tips: [15, 16]\n",
      "Node 22, 5b89f565f49dd9a7f945fea19124c814, 2022-04-02 16:26:19.467581, Tips: [16, 17]\n",
      "Node 23, 848772cf860569a9773795406a286f6f, 2022-04-02 16:26:19.467581, Tips: [17, 18]\n",
      "Node 24, 78d59545244ed3476c639e0647a9c0d4, 2022-04-02 16:26:19.467581, Tips: [18, 19]\n",
      "Node 25, 970936813bf0acc07830cf5fea1d4b2f, 2022-04-02 16:26:19.467581, Tips: [19, 20]\n",
      "Node 26, 23704f51d16405a674c5ea5a7fdb785d, 2022-04-02 16:26:19.467581, Tips: [15, 21]\n",
      "Node 27, e25c76fe76d4c32d1a663a50eb9a9b77, 2022-04-02 16:26:19.467581, Tips: [21, 22]\n",
      "Node 28, 2b7eb1d3125be8d5ab7ddb3ba8b6b9d8, 2022-04-02 16:26:19.467581, Tips: [22, 23]\n",
      "Node 29, e1aa6388026217addaca860558517749, 2022-04-02 16:26:19.467581, Tips: [23, 24]\n",
      "Node 30, d379107bad57a5f18918c877229594a7, 2022-04-02 16:26:19.468514, Tips: [24, 25]\n",
      "Node 31, 988708dd5d389375819368a91dc5b57f, 2022-04-02 16:26:19.468514, Tips: [20, 25]\n",
      "Node 32, ea506b2d3bba84957f34bf4c6abec920, 2022-04-02 16:26:19.468514, Tips: [26, 27]\n",
      "Node 33, a55fda93c2005d08401cf8dbd6792b86, 2022-04-02 16:26:19.468514, Tips: [27, 28]\n",
      "Node 34, f38a940a1d180cd018a966b6bfdf07ef, 2022-04-02 16:26:19.468514, Tips: [28, 29]\n",
      "Node 35, 3e953c1a809fd03a4770888e906ed949, 2022-04-02 16:26:19.468514, Tips: [29, 30]\n",
      "Node 36, bf8e15fc24fa406656878e1bf557d88e, 2022-04-02 16:26:19.468514, Tips: [30, 31]\n",
      "Node 37, a50495d09166dfd4765445b5ce2f48d6, 2022-04-02 16:26:19.468514, Tips: [26, 32]\n",
      "Node 38, 8105befeb5db5aa4ad968ddc4a8388f2, 2022-04-02 16:26:19.468514, Tips: [32, 33]\n",
      "Node 39, e379a072fa09c74e3a9cdfb14c147303, 2022-04-02 16:26:19.468514, Tips: [33, 34]\n",
      "Node 40, 31780ee859603561a594e1637c45e843, 2022-04-02 16:26:19.468514, Tips: [34, 35]\n",
      "Node 41, ca242f58fcd2de4450852d8df3ee5d93, 2022-04-02 16:26:19.468514, Tips: [35, 36]\n",
      "Node 42, 62130fc27c5ab2dc8e27f4402554c163, 2022-04-02 16:26:19.468514, Tips: [31, 36]\n",
      "Node 43, cc01b1263754489cbd62298374f95fa0, 2022-04-02 16:26:19.468514, Tips: [37, 38]\n",
      "Node 44, ec899b66e0a45efba54cd6652f63c61d, 2022-04-02 16:26:19.468514, Tips: [38, 39]\n",
      "Node 45, 57ce89b4292eee3fd3e39a1689c993ee, 2022-04-02 16:26:19.468514, Tips: [39, 40]\n",
      "Node 46, 594c18b39655114ef2ceacc7bed6ebbc, 2022-04-02 16:26:19.468514, Tips: [40, 41]\n",
      "Node 47, 44296c64b71ef112bdac1d53d493bdba, 2022-04-02 16:26:19.468514, Tips: [41, 42]\n",
      "Node 48, 738a2192e2287efe335b06caf52f73f5, 2022-04-02 16:26:19.468514, Tips: [37, 43]\n",
      "Node 49, f7ecd44da34eb41b51661e22c55ce108, 2022-04-02 16:26:19.468514, Tips: [43, 44]\n",
      "Node 50, 0189592dd2b9a78311abc4a8ed037967, 2022-04-02 16:26:19.468514, Tips: [44, 45]\n",
      "Node 51, 504b5c5e784271f51fcbbc558d915205, 2022-04-02 16:26:19.468514, Tips: [45, 46]\n",
      "Node 52, d5e56038a08b3d66749fa43f40c18d5d, 2022-04-02 16:26:19.468514, Tips: [46, 47]\n",
      "Node 53, 231739aeb7707ad635f314e02dd0abad, 2022-04-02 16:26:19.468514, Tips: [42, 47]\n",
      "Node 54, b45063ee44b9c1bdd932081a8a10a7ae, 2022-04-02 16:26:19.468514, Tips: [48, 49]\n",
      "Node 55, 0d6865f04521cdd84b05e31716b6c653, 2022-04-02 16:26:19.468514, Tips: [49, 50]\n",
      "Node 56, afa8742bbc599a9570d80baca091d9cd, 2022-04-02 16:26:19.468514, Tips: [50, 51]\n",
      "Node 57, f273b4f3cc7fc1bb4d1f17777e1d245d, 2022-04-02 16:26:19.468514, Tips: [51, 52]\n",
      "Node 58, 16794bbb183b099e8171e0cb40f419b6, 2022-04-02 16:26:19.468514, Tips: [52, 53]\n",
      "Node 59, 661ace063d3b357e7b3c27517b284fea, 2022-04-02 16:26:19.468514, Tips: [48, 54]\n",
      "Node 60, f23399bd13d6209124002db45a848b8e, 2022-04-02 16:26:19.468514, Tips: [54, 55]\n",
      "Node 61, e46207f51b00b8d0f188082412a2c0df, 2022-04-02 16:26:19.468514, Tips: [55, 56]\n",
      "Node 62, b86a04025dfd2f243bdb4e149488dc1c, 2022-04-02 16:26:19.468514, Tips: [56, 57]\n",
      "Node 63, b793dd06bcc61a5073d2c2df846aa048, 2022-04-02 16:26:19.468514, Tips: [57, 58]\n",
      "Node 64, 249afdd843b063304d627fcdbfd4dd6e, 2022-04-02 16:26:19.468514, Tips: [53, 58]\n",
      "Node 65, 7ed52d3de369d2c8161061ddf01810bb, 2022-04-02 16:26:19.468514, Tips: [59, 60]\n",
      "Node 66, 43633a12b33ac76ad1df08532bdf3211, 2022-04-02 16:26:19.468514, Tips: [60, 61]\n",
      "Node 67, 228ff3994a5ff371b95d65f5472c309a, 2022-04-02 16:26:19.468514, Tips: [61, 62]\n",
      "Node 68, 15143fb08794d200ffc94b038664debd, 2022-04-02 16:26:19.468514, Tips: [62, 63]\n",
      "Node 69, 4b10edb38f432b44e8acd2abc9409561, 2022-04-02 16:26:19.468514, Tips: [63, 64]\n",
      "Node 70, 477a8e89cd7709e20fa49611ee14bf6c, 2022-04-02 16:26:19.468514, Tips: [59, 65]\n",
      "Node 71, d49907bf0c4e67a30faa1a3bdc12dd7c, 2022-04-02 16:26:19.468514, Tips: [65, 66]\n",
      "Node 72, 883f74fa3dfb934d5c0a6802cdc987f9, 2022-04-02 16:26:19.468514, Tips: [66, 67]\n",
      "Node 73, edfbcfea073d5b2b7314259c66d82347, 2022-04-02 16:26:19.468514, Tips: [67, 68]\n",
      "Node 74, 96f56182540985881f6c2b7aee87b6c8, 2022-04-02 16:26:19.468514, Tips: [68, 69]\n",
      "Node 75, b96bf6927a7b00fd2b4a3a3b98e2b82d, 2022-04-02 16:26:19.468514, Tips: [64, 69]\n",
      "Node 76, 5651b20240b5de6b6ee90b6db031c949, 2022-04-02 16:26:19.468514, Tips: [70, 71]\n",
      "Node 77, b476234412b290529f0214309def337e, 2022-04-02 16:26:19.468514, Tips: [71, 72]\n",
      "Node 78, bb9e0a878ce88df83e87281083c4cdd2, 2022-04-02 16:26:19.468514, Tips: [72, 73]\n",
      "Node 79, 2f194a22e971b91cc17466a6aef1a4f5, 2022-04-02 16:26:19.468514, Tips: [73, 74]\n",
      "Node 80 disabled\n",
      "Node 81, 0747820c324066f4f623eda4c88cfd0c, 2022-04-02 16:26:19.468514, Tips: [70, 76]\n",
      "Node 82, 9340dfd1f8932f1647fe86bd9122957c, 2022-04-02 16:26:19.469037, Tips: [76, 77]\n",
      "Node 83, 92b7a50c1487918ef96e36afb293162e, 2022-04-02 16:26:19.469037, Tips: [77, 78]\n",
      "Node 84, f7f72ffa380c6bc72fcc6849eb17b4c0, 2022-04-02 16:26:19.469037, Tips: [78, 79]\n",
      "Node 85, e7004c3a3c6f8e933544dfbed413ffd1, 2022-04-02 16:26:19.469037, Tips: [79, None]\n",
      "Node 86, 31ee40cea39f90dd7af03b18e3bd364f, 2022-04-02 16:26:19.469037, Tips: [75, None]\n",
      "Node 87, 095dd9a2364fd69ef6d1c71bb4d2ad48, 2022-04-02 16:26:19.469037, Tips: [81, 82]\n",
      "Node 88, 1c9d27f3958b446cf7a27e6f69e5036d, 2022-04-02 16:26:19.469037, Tips: [82, 83]\n",
      "Node 89, a3fcf4f7cd40f3ee4520d68aa8b287a4, 2022-04-02 16:26:19.469037, Tips: [83, 84]\n",
      "Node 90, f5342cd32b23b9456176d4c59315f059, 2022-04-02 16:26:19.469037, Tips: [84, 85]\n",
      "Node 91, 970f082be1320f43fe756931d30a1847, 2022-04-02 16:26:19.469037, Tips: [85, 86]\n",
      "Node 92, c9a690af6592995fa98567c089cfd4d4, 2022-04-02 16:26:19.469037, Tips: [81, 87]\n",
      "Node 93, bb37f48d6df75692f67bc7f46f5e377e, 2022-04-02 16:26:19.469037, Tips: [87, 88]\n",
      "Node 94, 24e16c864bf54ce134564dd5f298d24e, 2022-04-02 16:26:19.469037, Tips: [88, 89]\n",
      "Node 95, 2e319a94f2aebdd1320688fc7aced048, 2022-04-02 16:26:19.469037, Tips: [89, 90]\n",
      "Node 96, 35d0faf4c2252b9fb1b663e4a8afee6b, 2022-04-02 16:26:19.469037, Tips: [90, 91]\n",
      "Node 97, 28aed714edf88add576aa8c4f8fa9257, 2022-04-02 16:26:19.469037, Tips: [86, 91]\n",
      "Node 98, 522377b1339db619f2ddac11df3a4980, 2022-04-02 16:26:19.469037, Tips: [92, 93]\n",
      "Node 99, 4188080f3ed82121dbb98fb898434358, 2022-04-02 16:26:19.469037, Tips: [93, 94]\n"
     ]
    }
   ],
   "source": [
    "fnt.disableNode(80)\n",
    "fnt.printFNT()"
   ],
   "metadata": {
    "collapsed": false,
    "pycharm": {
     "name": "#%%\n"
    }
   }
  },
  {
   "cell_type": "code",
   "execution_count": 10,
   "outputs": [
    {
     "name": "stdout",
     "output_type": "stream",
     "text": [
      "Node 80, aa271ce293218e8fbb0b4b3bbf258731, 2022-04-02 16:26:19.468514, Tips: [74, 75]\n"
     ]
    }
   ],
   "source": [
    "fnt.findNode(80)"
   ],
   "metadata": {
    "collapsed": false,
    "pycharm": {
     "name": "#%%\n"
    }
   }
  },
  {
   "cell_type": "markdown",
   "source": [
    "Get lists of throughput, utilization, and waste rate at each layer"
   ],
   "metadata": {
    "collapsed": false
   }
  },
  {
   "cell_type": "code",
   "execution_count": 11,
   "outputs": [
    {
     "data": {
      "text/plain": "[1, 2, 3, 4, 5, 6, 5, 6, 5, 6, 5, 6, 5, 6, 5, 6, 5, 6, 5, 6, 2]"
     },
     "execution_count": 11,
     "metadata": {},
     "output_type": "execute_result"
    }
   ],
   "source": [
    "fnt.findThroughput()"
   ],
   "metadata": {
    "collapsed": false,
    "pycharm": {
     "name": "#%%\n"
    }
   }
  },
  {
   "cell_type": "code",
   "execution_count": 12,
   "outputs": [
    {
     "data": {
      "text/plain": "[0.1667,\n 0.3333,\n 0.5,\n 0.6667,\n 0.8333,\n 1.0,\n 0.8333,\n 1.0,\n 0.8333,\n 1.0,\n 0.8333,\n 1.0,\n 0.8333,\n 1.0,\n 0.8333,\n 1.0,\n 0.8333,\n 1.0,\n 0.8333,\n 1.0,\n 0.3333]"
     },
     "execution_count": 12,
     "metadata": {},
     "output_type": "execute_result"
    }
   ],
   "source": [
    "fnt.findUtilization()"
   ],
   "metadata": {
    "collapsed": false,
    "pycharm": {
     "name": "#%%\n"
    }
   }
  },
  {
   "cell_type": "code",
   "execution_count": 13,
   "outputs": [
    {
     "data": {
      "text/plain": "[0.8333,\n 0.6667,\n 0.5,\n 0.3333,\n 0.1667,\n 0.0,\n 0.1667,\n 0.0,\n 0.1667,\n 0.0,\n 0.1667,\n 0.0,\n 0.1667,\n 0.0,\n 0.1667,\n 0.0,\n 0.1667,\n 0.0,\n 0.1667,\n 0.0,\n 0.6667]"
     },
     "execution_count": 13,
     "metadata": {},
     "output_type": "execute_result"
    }
   ],
   "source": [
    "fnt.findWaste()"
   ],
   "metadata": {
    "collapsed": false,
    "pycharm": {
     "name": "#%%\n"
    }
   }
  },
  {
   "cell_type": "markdown",
   "source": [
    "Get cumulative waste rate"
   ],
   "metadata": {
    "collapsed": false
   }
  },
  {
   "cell_type": "code",
   "execution_count": 14,
   "outputs": [
    {
     "data": {
      "text/plain": "[0.8333,\n 0.75,\n 0.6667,\n 0.5833,\n 0.5,\n 0.4167,\n 0.381,\n 0.3333,\n 0.3148,\n 0.2833,\n 0.2727,\n 0.25,\n 0.2436,\n 0.2262,\n 0.2222,\n 0.2083,\n 0.2059,\n 0.1944,\n 0.193,\n 0.1833,\n 0.2063]"
     },
     "execution_count": 14,
     "metadata": {},
     "output_type": "execute_result"
    }
   ],
   "source": [
    "fnt.findCumWaste()"
   ],
   "metadata": {
    "collapsed": false,
    "pycharm": {
     "name": "#%%\n"
    }
   }
  },
  {
   "cell_type": "markdown",
   "source": [
    "Get the waste rate of entire network"
   ],
   "metadata": {
    "collapsed": false
   }
  },
  {
   "cell_type": "code",
   "execution_count": 15,
   "outputs": [
    {
     "data": {
      "text/plain": "'18.1548%'"
     },
     "execution_count": 15,
     "metadata": {},
     "output_type": "execute_result"
    }
   ],
   "source": [
    "fnt.findWasteRate()"
   ],
   "metadata": {
    "collapsed": false,
    "pycharm": {
     "name": "#%%\n"
    }
   }
  }
 ],
 "metadata": {
  "kernelspec": {
   "display_name": "Python 3",
   "language": "python",
   "name": "python3"
  },
  "language_info": {
   "codemirror_mode": {
    "name": "ipython",
    "version": 2
   },
   "file_extension": ".py",
   "mimetype": "text/x-python",
   "name": "python",
   "nbconvert_exporter": "python",
   "pygments_lexer": "ipython2",
   "version": "2.7.6"
  }
 },
 "nbformat": 4,
 "nbformat_minor": 0
}