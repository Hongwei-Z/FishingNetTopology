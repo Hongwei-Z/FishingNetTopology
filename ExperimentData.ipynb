{
 "cells": [
  {
   "cell_type": "markdown",
   "metadata": {
    "collapsed": true,
    "pycharm": {
     "name": "#%% md\n"
    }
   },
   "source": [
    "Experiments and Feature Showcases"
   ]
  },
  {
   "cell_type": "code",
   "execution_count": 21,
   "outputs": [],
   "source": [
    "import FNT\n",
    "import secrets\n",
    "from datetime import datetime"
   ],
   "metadata": {
    "collapsed": false,
    "pycharm": {
     "name": "#%%\n"
    }
   }
  },
  {
   "cell_type": "markdown",
   "source": [
    "Define rate and number of nodes"
   ],
   "metadata": {
    "collapsed": false
   }
  },
  {
   "cell_type": "code",
   "execution_count": 22,
   "outputs": [],
   "source": [
    "rate = 6\n",
    "size = 100"
   ],
   "metadata": {
    "collapsed": false,
    "pycharm": {
     "name": "#%%\n"
    }
   }
  },
  {
   "cell_type": "markdown",
   "source": [
    "Create a FishingNet, add nodes"
   ],
   "metadata": {
    "collapsed": false
   }
  },
  {
   "cell_type": "code",
   "execution_count": 23,
   "outputs": [
    {
     "name": "stdout",
     "output_type": "stream",
     "text": [
      "Node 0, bee9cc54485ce1da8b388796670963df, 2022-03-14 13:47:51.301000, Tips: [None, None]\n",
      "Node 1, 84eab658cc5111cce8e7635f59295ba8, 2022-03-14 13:47:51.301000, Tips: [0, None]\n",
      "Node 2, bc979867a7fd171a773685f6dfd33eb4, 2022-03-14 13:47:51.301000, Tips: [0, None]\n",
      "Node 3, 614be192f84d6bceb84679d1d6c1b6d5, 2022-03-14 13:47:51.301000, Tips: [1, None]\n",
      "Node 4, 783df70b1b12fb1e4287135459e530a7, 2022-03-14 13:47:51.301000, Tips: [1, 2]\n",
      "Node 5, 9af74ea0c842594dc049dc5698836043, 2022-03-14 13:47:51.301000, Tips: [2, None]\n",
      "Node 6, 873e91130b8af226aee5c341626a112b, 2022-03-14 13:47:51.301000, Tips: [3, None]\n",
      "Node 7, 7001899df6ece9a667ff651464e9c0d9, 2022-03-14 13:47:51.301000, Tips: [3, 4]\n",
      "Node 8, e4cf7ab8ec7e60704926fa8a1b880ed4, 2022-03-14 13:47:51.301000, Tips: [4, 5]\n",
      "Node 9, 21bafec6c893a38c5721deb48239b678, 2022-03-14 13:47:51.301000, Tips: [5, None]\n",
      "Node 10, 356fe96860d81f75945dc09b3908826c, 2022-03-14 13:47:51.301000, Tips: [6, None]\n",
      "Node 11, 972741dd8cf8c6080c15d7e63002dc0d, 2022-03-14 13:47:51.301000, Tips: [6, 7]\n",
      "Node 12, 51965d50e65472731d407a1fecddf72e, 2022-03-14 13:47:51.301000, Tips: [7, 8]\n",
      "Node 13, 085b8c71ae75f244a606dc91377874e5, 2022-03-14 13:47:51.301000, Tips: [8, 9]\n",
      "Node 14, 83f47c6e7826700bb8ed8fd3a98f9a33, 2022-03-14 13:47:51.301000, Tips: [9, None]\n",
      "Node 15, 07d429ac51a1408d32ed62c2d89c151d, 2022-03-14 13:47:51.301000, Tips: [10, None]\n",
      "Node 16, b88655ef5a6bd686eaa5ae633610c75b, 2022-03-14 13:47:51.301000, Tips: [10, 11]\n",
      "Node 17, 78c3dbac9004d66b414c99d60a654d2b, 2022-03-14 13:47:51.301000, Tips: [11, 12]\n",
      "Node 18, e12db4a4b59454d9c4b603e70af2663a, 2022-03-14 13:47:51.301000, Tips: [12, 13]\n",
      "Node 19, d443676ab3fad77e2542facddd240f13, 2022-03-14 13:47:51.301000, Tips: [13, 14]\n",
      "Node 20, 7cdca7676782319a1cd41a07ad0cf153, 2022-03-14 13:47:51.301000, Tips: [14, None]\n",
      "Node 21, c0f58cd8ccbe41e9c2b2c6aca41c6523, 2022-03-14 13:47:51.301000, Tips: [15, 16]\n",
      "Node 22, c8de012aa3f04e4408cc62c917c0c8b0, 2022-03-14 13:47:51.301998, Tips: [16, 17]\n",
      "Node 23, 70eb96a7d9fe08898c9736873ce852a1, 2022-03-14 13:47:51.301998, Tips: [17, 18]\n",
      "Node 24, ba611713d53c8a72c900bf33df51d1e3, 2022-03-14 13:47:51.301998, Tips: [18, 19]\n",
      "Node 25, aa51cd081b3afb941940649d8e6ed2c2, 2022-03-14 13:47:51.301998, Tips: [19, 20]\n",
      "Node 26, 8a6330d90e8972737efb2889a86500c8, 2022-03-14 13:47:51.301998, Tips: [15, 21]\n",
      "Node 27, cfe33c2e0ee1b4e15dbae38f64be34a7, 2022-03-14 13:47:51.301998, Tips: [21, 22]\n",
      "Node 28, badd38bee8a03dab27f91deac39a0dc3, 2022-03-14 13:47:51.301998, Tips: [22, 23]\n",
      "Node 29, b31736644611b595d37c589adb748864, 2022-03-14 13:47:51.301998, Tips: [23, 24]\n",
      "Node 30, 0e2637aaf018241e2e03ab1491831030, 2022-03-14 13:47:51.301998, Tips: [24, 25]\n",
      "Node 31, 2d0bcd8796e14e6457a5ac2bea59d167, 2022-03-14 13:47:51.301998, Tips: [20, 25]\n",
      "Node 32, 389bc896d577426f7d4edf927c93699f, 2022-03-14 13:47:51.301998, Tips: [26, 27]\n",
      "Node 33, cd1d8eed535f0875f91cdeeaa76ac56c, 2022-03-14 13:47:51.301998, Tips: [27, 28]\n",
      "Node 34, 3cc4c752d9ad9df9653a9f0748d012fa, 2022-03-14 13:47:51.301998, Tips: [28, 29]\n",
      "Node 35, 88acba91598be8e12cab12092642f9b6, 2022-03-14 13:47:51.301998, Tips: [29, 30]\n",
      "Node 36, 86f091cb4a5aaeffa433f9c499f2b261, 2022-03-14 13:47:51.301998, Tips: [30, 31]\n",
      "Node 37, 32f4b05ab896612e3dfda7f3202d6a25, 2022-03-14 13:47:51.301998, Tips: [26, 32]\n",
      "Node 38, 1ade13afa750bfaf61f13d5e6d6baa4c, 2022-03-14 13:47:51.301998, Tips: [32, 33]\n",
      "Node 39, 0fea81722b879dcbcf47b6a70ad58bf4, 2022-03-14 13:47:51.301998, Tips: [33, 34]\n",
      "Node 40, 210bd72de518de90b2a9830aa8d17079, 2022-03-14 13:47:51.301998, Tips: [34, 35]\n",
      "Node 41, 6f9b80b40fd288590e46dad7a02d2103, 2022-03-14 13:47:51.301998, Tips: [35, 36]\n",
      "Node 42, 46eb229a97944e542941fd97e9968698, 2022-03-14 13:47:51.301998, Tips: [31, 36]\n",
      "Node 43, 20ae98424811f3ac4242c6ff293f7586, 2022-03-14 13:47:51.301998, Tips: [37, 38]\n",
      "Node 44, 65ee935bf7123b48d7abee9b7e4f94dc, 2022-03-14 13:47:51.301998, Tips: [38, 39]\n",
      "Node 45, 0fe5eb410ff5e43b83dd8f1534d14ea8, 2022-03-14 13:47:51.301998, Tips: [39, 40]\n",
      "Node 46, 9be5106084c20cd9a16f222789d14f32, 2022-03-14 13:47:51.301998, Tips: [40, 41]\n",
      "Node 47, e78b179b7586a42c442d9f121de9c0ec, 2022-03-14 13:47:51.301998, Tips: [41, 42]\n",
      "Node 48, a7c68f9c41255df6baa3c8669668dc66, 2022-03-14 13:47:51.301998, Tips: [37, 43]\n",
      "Node 49, c800a2eb5bf313ba39daabc229de3936, 2022-03-14 13:47:51.301998, Tips: [43, 44]\n",
      "Node 50, a56b67ba42cce66036ab720e6b4f0419, 2022-03-14 13:47:51.301998, Tips: [44, 45]\n",
      "Node 51, 1955346d2fdcbbb95d56c99af5374a3f, 2022-03-14 13:47:51.301998, Tips: [45, 46]\n",
      "Node 52, 049147504cdf9839e061c23b1fd3d56a, 2022-03-14 13:47:51.301998, Tips: [46, 47]\n",
      "Node 53, 63ed371fa986fef03bfd6aa06bc49fcd, 2022-03-14 13:47:51.301998, Tips: [42, 47]\n",
      "Node 54, cbca67db3a461a5b517daf47a34cfda4, 2022-03-14 13:47:51.301998, Tips: [48, 49]\n",
      "Node 55, f01d8fd7b2edef294cdec9ae9dfd0e74, 2022-03-14 13:47:51.301998, Tips: [49, 50]\n",
      "Node 56, 3459f4f405b3e4afcaac4012e56c4f39, 2022-03-14 13:47:51.301998, Tips: [50, 51]\n",
      "Node 57, 85df42d9ca833db3aeb9ac50d8cd564b, 2022-03-14 13:47:51.301998, Tips: [51, 52]\n",
      "Node 58, ca279440a96be498076e57630527c045, 2022-03-14 13:47:51.301998, Tips: [52, 53]\n",
      "Node 59, c2bc7f7abf9d9d6e1ca637a6c643f6ca, 2022-03-14 13:47:51.301998, Tips: [48, 54]\n",
      "Node 60, f823828f4626284752543a108958940e, 2022-03-14 13:47:51.301998, Tips: [54, 55]\n",
      "Node 61, 9f779669529fec33279939054e93c820, 2022-03-14 13:47:51.301998, Tips: [55, 56]\n",
      "Node 62, 563936a861c9b08e07a6b65f739be67f, 2022-03-14 13:47:51.301998, Tips: [56, 57]\n",
      "Node 63, 1b2aa4c5356f8afeab203ce9aa765f34, 2022-03-14 13:47:51.301998, Tips: [57, 58]\n",
      "Node 64, f07257cbc2a32cfb1956920068ea3c20, 2022-03-14 13:47:51.301998, Tips: [53, 58]\n",
      "Node 65, bb17bffc7de688552e66b323b6780475, 2022-03-14 13:47:51.301998, Tips: [59, 60]\n",
      "Node 66, 51960a254dbe4a9feab58d1d22b45f7b, 2022-03-14 13:47:51.301998, Tips: [60, 61]\n",
      "Node 67, 173a6458df37d3b2e61ce5c302d9f5bd, 2022-03-14 13:47:51.301998, Tips: [61, 62]\n",
      "Node 68, eff529e98c7cedc973c1565ef33d9a25, 2022-03-14 13:47:51.301998, Tips: [62, 63]\n",
      "Node 69, 7999dbb2b8be558e2c67c12646d612e4, 2022-03-14 13:47:51.301998, Tips: [63, 64]\n",
      "Node 70, 64894c2001ae43b7c02eb61c6bb558b3, 2022-03-14 13:47:51.301998, Tips: [59, 65]\n",
      "Node 71, ce28f4bad2c10052e4fcf7ae4ff7ff7c, 2022-03-14 13:47:51.301998, Tips: [65, 66]\n",
      "Node 72, 740d99992f9886cd9af46e2fe9bc5e8d, 2022-03-14 13:47:51.301998, Tips: [66, 67]\n",
      "Node 73, b273917b03eabde6be39e9a736f2fa8f, 2022-03-14 13:47:51.301998, Tips: [67, 68]\n",
      "Node 74, 06b34d3dad54a8fb81ea4acb7337f994, 2022-03-14 13:47:51.301998, Tips: [68, 69]\n",
      "Node 75, 580f98b9d9e43d229b25074fc14296d9, 2022-03-14 13:47:51.301998, Tips: [64, 69]\n",
      "Node 76, bf75f8163f34cc83dfa6f108c11b8924, 2022-03-14 13:47:51.301998, Tips: [70, 71]\n",
      "Node 77, 0abe892ff272265b7c746767593e2440, 2022-03-14 13:47:51.301998, Tips: [71, 72]\n",
      "Node 78, 768734e9d06ac36860ac95b10e6fc5fe, 2022-03-14 13:47:51.301998, Tips: [72, 73]\n",
      "Node 79, 25ef12eebad7f4e12cd5f5ae59a1bacc, 2022-03-14 13:47:51.301998, Tips: [73, 74]\n",
      "Node 80, ab834d6ef0c78d12919dae3dd652c729, 2022-03-14 13:47:51.301998, Tips: [74, 75]\n",
      "Node 81, 837afa3dc9f92a8e800ccb921f5a7de6, 2022-03-14 13:47:51.301998, Tips: [70, 76]\n",
      "Node 82, 1ccf32cbaa92b6ef2643ba411edaf525, 2022-03-14 13:47:51.301998, Tips: [76, 77]\n",
      "Node 83, 10d26529bfb1c585b548ed33c4889d44, 2022-03-14 13:47:51.301998, Tips: [77, 78]\n",
      "Node 84, 5a6cb533a33a7fe75a1f066e4d611738, 2022-03-14 13:47:51.301998, Tips: [78, 79]\n",
      "Node 85, 2bf2ecb96fcc0c4f554fcca9d68fe210, 2022-03-14 13:47:51.301998, Tips: [79, 80]\n",
      "Node 86, c5cad05d93d76409ab9571d4626159f5, 2022-03-14 13:47:51.301998, Tips: [75, 80]\n",
      "Node 87, 5f43ece54f9d37cd255c27ebaa1a4e5c, 2022-03-14 13:47:51.301998, Tips: [81, 82]\n",
      "Node 88, 0e3270899deac645b7500049937d16a1, 2022-03-14 13:47:51.301998, Tips: [82, 83]\n",
      "Node 89, c03ea0d05e128fa09a7474d85930fa58, 2022-03-14 13:47:51.301998, Tips: [83, 84]\n",
      "Node 90, 26d5b7c1adf4e4f1a34ca4e3b9dc0411, 2022-03-14 13:47:51.301998, Tips: [84, 85]\n",
      "Node 91, 5a45b276d6899b9ff9c70207acde9702, 2022-03-14 13:47:51.301998, Tips: [85, 86]\n",
      "Node 92, 3fc2e5f71d906fa3551b6c9c843b7d0e, 2022-03-14 13:47:51.301998, Tips: [81, 87]\n",
      "Node 93, 58ffdad685e35c91dc4f6fb07048794b, 2022-03-14 13:47:51.301998, Tips: [87, 88]\n",
      "Node 94, 5a73a4043276955414d38c7730159f3d, 2022-03-14 13:47:51.301998, Tips: [88, 89]\n",
      "Node 95, d27ed6a1f229ae57fccd34e2d4e5e6c5, 2022-03-14 13:47:51.301998, Tips: [89, 90]\n",
      "Node 96, f289e8b86edfa6d0cafc4485cd3f09af, 2022-03-14 13:47:51.301998, Tips: [90, 91]\n",
      "Node 97, a31a75d0078749ceceaeb15eb0559a26, 2022-03-14 13:47:51.301998, Tips: [86, 91]\n",
      "Node 98, 1eb37cc1fdb59806ff5f8296a10e23d1, 2022-03-14 13:47:51.301998, Tips: [92, 93]\n",
      "Node 99, 93ff1309c053357b7cd63e53421ad0d9, 2022-03-14 13:47:51.301998, Tips: [93, 94]\n"
     ]
    }
   ],
   "source": [
    "fnt = FNT.FishingNet(rate)\n",
    "for i in range(size):\n",
    "    fnt.nextNode(secrets.token_hex(16), datetime.now())\n",
    "fnt.printFNT()"
   ],
   "metadata": {
    "collapsed": false,
    "pycharm": {
     "name": "#%%\n"
    }
   }
  },
  {
   "cell_type": "markdown",
   "source": [
    "Find a node and show the result"
   ],
   "metadata": {
    "collapsed": false,
    "pycharm": {
     "name": "#%% md\n"
    }
   }
  },
  {
   "cell_type": "code",
   "execution_count": 24,
   "outputs": [
    {
     "name": "stdout",
     "output_type": "stream",
     "text": [
      "Node 80, ab834d6ef0c78d12919dae3dd652c729, 2022-03-14 13:47:51.301998, Tips: [74, 75]\n"
     ]
    }
   ],
   "source": [
    "fnt.findNode(80)"
   ],
   "metadata": {
    "collapsed": false,
    "pycharm": {
     "name": "#%%\n"
    }
   }
  },
  {
   "cell_type": "markdown",
   "source": [
    "Find tips for a node and show the result"
   ],
   "metadata": {
    "collapsed": false,
    "pycharm": {
     "name": "#%% md\n"
    }
   }
  },
  {
   "cell_type": "code",
   "execution_count": 25,
   "outputs": [
    {
     "name": "stdout",
     "output_type": "stream",
     "text": [
      "Node 74, 06b34d3dad54a8fb81ea4acb7337f994, 2022-03-14 13:47:51.301998, Tips: [68, 69]\n",
      "Node 75, 580f98b9d9e43d229b25074fc14296d9, 2022-03-14 13:47:51.301998, Tips: [64, 69]\n"
     ]
    }
   ],
   "source": [
    "fnt.findTips(80)"
   ],
   "metadata": {
    "collapsed": false,
    "pycharm": {
     "name": "#%%\n"
    }
   }
  },
  {
   "cell_type": "markdown",
   "source": [
    "Find the two nodes that approve this node"
   ],
   "metadata": {
    "collapsed": false,
    "pycharm": {
     "name": "#%% md\n"
    }
   }
  },
  {
   "cell_type": "code",
   "execution_count": 26,
   "outputs": [
    {
     "name": "stdout",
     "output_type": "stream",
     "text": [
      "Node 85, 2bf2ecb96fcc0c4f554fcca9d68fe210, 2022-03-14 13:47:51.301998, Tips: [79, 80]\n",
      "Node 86, c5cad05d93d76409ab9571d4626159f5, 2022-03-14 13:47:51.301998, Tips: [75, 80]\n"
     ]
    }
   ],
   "source": [
    "fnt.findApprover(80)"
   ],
   "metadata": {
    "collapsed": false,
    "pycharm": {
     "name": "#%%\n"
    }
   }
  },
  {
   "cell_type": "markdown",
   "source": [
    "Find the cumulative weight of a node"
   ],
   "metadata": {
    "collapsed": false
   }
  },
  {
   "cell_type": "code",
   "execution_count": 27,
   "outputs": [
    {
     "data": {
      "text/plain": "8"
     },
     "execution_count": 27,
     "metadata": {},
     "output_type": "execute_result"
    }
   ],
   "source": [
    "fnt.findCW(80)"
   ],
   "metadata": {
    "collapsed": false,
    "pycharm": {
     "name": "#%%\n"
    }
   }
  },
  {
   "cell_type": "markdown",
   "source": [
    "Print all nodes that have directly or indirectly approved this node"
   ],
   "metadata": {
    "collapsed": false
   }
  },
  {
   "cell_type": "code",
   "execution_count": 28,
   "outputs": [
    {
     "name": "stdout",
     "output_type": "stream",
     "text": [
      "Node 80, ab834d6ef0c78d12919dae3dd652c729, 2022-03-14 13:47:51.301998, Tips: [74, 75]\n",
      "Node 85, 2bf2ecb96fcc0c4f554fcca9d68fe210, 2022-03-14 13:47:51.301998, Tips: [79, 80]\n",
      "Node 86, c5cad05d93d76409ab9571d4626159f5, 2022-03-14 13:47:51.301998, Tips: [75, 80]\n",
      "Node 90, 26d5b7c1adf4e4f1a34ca4e3b9dc0411, 2022-03-14 13:47:51.301998, Tips: [84, 85]\n",
      "Node 91, 5a45b276d6899b9ff9c70207acde9702, 2022-03-14 13:47:51.301998, Tips: [85, 86]\n",
      "Node 95, d27ed6a1f229ae57fccd34e2d4e5e6c5, 2022-03-14 13:47:51.301998, Tips: [89, 90]\n",
      "Node 96, f289e8b86edfa6d0cafc4485cd3f09af, 2022-03-14 13:47:51.301998, Tips: [90, 91]\n",
      "Node 97, a31a75d0078749ceceaeb15eb0559a26, 2022-03-14 13:47:51.301998, Tips: [86, 91]\n"
     ]
    }
   ],
   "source": [
    "fnt.findSubnet(80)"
   ],
   "metadata": {
    "collapsed": false,
    "pycharm": {
     "name": "#%%\n"
    }
   }
  },
  {
   "cell_type": "markdown",
   "source": [
    "Disable a node, only disconnect from other nodes, not delete data"
   ],
   "metadata": {
    "collapsed": false
   }
  },
  {
   "cell_type": "code",
   "execution_count": 29,
   "outputs": [
    {
     "name": "stdout",
     "output_type": "stream",
     "text": [
      "Node 0, bee9cc54485ce1da8b388796670963df, 2022-03-14 13:47:51.301000, Tips: [None, None]\n",
      "Node 1, 84eab658cc5111cce8e7635f59295ba8, 2022-03-14 13:47:51.301000, Tips: [0, None]\n",
      "Node 2, bc979867a7fd171a773685f6dfd33eb4, 2022-03-14 13:47:51.301000, Tips: [0, None]\n",
      "Node 3, 614be192f84d6bceb84679d1d6c1b6d5, 2022-03-14 13:47:51.301000, Tips: [1, None]\n",
      "Node 4, 783df70b1b12fb1e4287135459e530a7, 2022-03-14 13:47:51.301000, Tips: [1, 2]\n",
      "Node 5, 9af74ea0c842594dc049dc5698836043, 2022-03-14 13:47:51.301000, Tips: [2, None]\n",
      "Node 6, 873e91130b8af226aee5c341626a112b, 2022-03-14 13:47:51.301000, Tips: [3, None]\n",
      "Node 7, 7001899df6ece9a667ff651464e9c0d9, 2022-03-14 13:47:51.301000, Tips: [3, 4]\n",
      "Node 8, e4cf7ab8ec7e60704926fa8a1b880ed4, 2022-03-14 13:47:51.301000, Tips: [4, 5]\n",
      "Node 9, 21bafec6c893a38c5721deb48239b678, 2022-03-14 13:47:51.301000, Tips: [5, None]\n",
      "Node 10, 356fe96860d81f75945dc09b3908826c, 2022-03-14 13:47:51.301000, Tips: [6, None]\n",
      "Node 11, 972741dd8cf8c6080c15d7e63002dc0d, 2022-03-14 13:47:51.301000, Tips: [6, 7]\n",
      "Node 12, 51965d50e65472731d407a1fecddf72e, 2022-03-14 13:47:51.301000, Tips: [7, 8]\n",
      "Node 13, 085b8c71ae75f244a606dc91377874e5, 2022-03-14 13:47:51.301000, Tips: [8, 9]\n",
      "Node 14, 83f47c6e7826700bb8ed8fd3a98f9a33, 2022-03-14 13:47:51.301000, Tips: [9, None]\n",
      "Node 15, 07d429ac51a1408d32ed62c2d89c151d, 2022-03-14 13:47:51.301000, Tips: [10, None]\n",
      "Node 16, b88655ef5a6bd686eaa5ae633610c75b, 2022-03-14 13:47:51.301000, Tips: [10, 11]\n",
      "Node 17, 78c3dbac9004d66b414c99d60a654d2b, 2022-03-14 13:47:51.301000, Tips: [11, 12]\n",
      "Node 18, e12db4a4b59454d9c4b603e70af2663a, 2022-03-14 13:47:51.301000, Tips: [12, 13]\n",
      "Node 19, d443676ab3fad77e2542facddd240f13, 2022-03-14 13:47:51.301000, Tips: [13, 14]\n",
      "Node 20, 7cdca7676782319a1cd41a07ad0cf153, 2022-03-14 13:47:51.301000, Tips: [14, None]\n",
      "Node 21, c0f58cd8ccbe41e9c2b2c6aca41c6523, 2022-03-14 13:47:51.301000, Tips: [15, 16]\n",
      "Node 22, c8de012aa3f04e4408cc62c917c0c8b0, 2022-03-14 13:47:51.301998, Tips: [16, 17]\n",
      "Node 23, 70eb96a7d9fe08898c9736873ce852a1, 2022-03-14 13:47:51.301998, Tips: [17, 18]\n",
      "Node 24, ba611713d53c8a72c900bf33df51d1e3, 2022-03-14 13:47:51.301998, Tips: [18, 19]\n",
      "Node 25, aa51cd081b3afb941940649d8e6ed2c2, 2022-03-14 13:47:51.301998, Tips: [19, 20]\n",
      "Node 26, 8a6330d90e8972737efb2889a86500c8, 2022-03-14 13:47:51.301998, Tips: [15, 21]\n",
      "Node 27, cfe33c2e0ee1b4e15dbae38f64be34a7, 2022-03-14 13:47:51.301998, Tips: [21, 22]\n",
      "Node 28, badd38bee8a03dab27f91deac39a0dc3, 2022-03-14 13:47:51.301998, Tips: [22, 23]\n",
      "Node 29, b31736644611b595d37c589adb748864, 2022-03-14 13:47:51.301998, Tips: [23, 24]\n",
      "Node 30, 0e2637aaf018241e2e03ab1491831030, 2022-03-14 13:47:51.301998, Tips: [24, 25]\n",
      "Node 31, 2d0bcd8796e14e6457a5ac2bea59d167, 2022-03-14 13:47:51.301998, Tips: [20, 25]\n",
      "Node 32, 389bc896d577426f7d4edf927c93699f, 2022-03-14 13:47:51.301998, Tips: [26, 27]\n",
      "Node 33, cd1d8eed535f0875f91cdeeaa76ac56c, 2022-03-14 13:47:51.301998, Tips: [27, 28]\n",
      "Node 34, 3cc4c752d9ad9df9653a9f0748d012fa, 2022-03-14 13:47:51.301998, Tips: [28, 29]\n",
      "Node 35, 88acba91598be8e12cab12092642f9b6, 2022-03-14 13:47:51.301998, Tips: [29, 30]\n",
      "Node 36, 86f091cb4a5aaeffa433f9c499f2b261, 2022-03-14 13:47:51.301998, Tips: [30, 31]\n",
      "Node 37, 32f4b05ab896612e3dfda7f3202d6a25, 2022-03-14 13:47:51.301998, Tips: [26, 32]\n",
      "Node 38, 1ade13afa750bfaf61f13d5e6d6baa4c, 2022-03-14 13:47:51.301998, Tips: [32, 33]\n",
      "Node 39, 0fea81722b879dcbcf47b6a70ad58bf4, 2022-03-14 13:47:51.301998, Tips: [33, 34]\n",
      "Node 40, 210bd72de518de90b2a9830aa8d17079, 2022-03-14 13:47:51.301998, Tips: [34, 35]\n",
      "Node 41, 6f9b80b40fd288590e46dad7a02d2103, 2022-03-14 13:47:51.301998, Tips: [35, 36]\n",
      "Node 42, 46eb229a97944e542941fd97e9968698, 2022-03-14 13:47:51.301998, Tips: [31, 36]\n",
      "Node 43, 20ae98424811f3ac4242c6ff293f7586, 2022-03-14 13:47:51.301998, Tips: [37, 38]\n",
      "Node 44, 65ee935bf7123b48d7abee9b7e4f94dc, 2022-03-14 13:47:51.301998, Tips: [38, 39]\n",
      "Node 45, 0fe5eb410ff5e43b83dd8f1534d14ea8, 2022-03-14 13:47:51.301998, Tips: [39, 40]\n",
      "Node 46, 9be5106084c20cd9a16f222789d14f32, 2022-03-14 13:47:51.301998, Tips: [40, 41]\n",
      "Node 47, e78b179b7586a42c442d9f121de9c0ec, 2022-03-14 13:47:51.301998, Tips: [41, 42]\n",
      "Node 48, a7c68f9c41255df6baa3c8669668dc66, 2022-03-14 13:47:51.301998, Tips: [37, 43]\n",
      "Node 49, c800a2eb5bf313ba39daabc229de3936, 2022-03-14 13:47:51.301998, Tips: [43, 44]\n",
      "Node 50, a56b67ba42cce66036ab720e6b4f0419, 2022-03-14 13:47:51.301998, Tips: [44, 45]\n",
      "Node 51, 1955346d2fdcbbb95d56c99af5374a3f, 2022-03-14 13:47:51.301998, Tips: [45, 46]\n",
      "Node 52, 049147504cdf9839e061c23b1fd3d56a, 2022-03-14 13:47:51.301998, Tips: [46, 47]\n",
      "Node 53, 63ed371fa986fef03bfd6aa06bc49fcd, 2022-03-14 13:47:51.301998, Tips: [42, 47]\n",
      "Node 54, cbca67db3a461a5b517daf47a34cfda4, 2022-03-14 13:47:51.301998, Tips: [48, 49]\n",
      "Node 55, f01d8fd7b2edef294cdec9ae9dfd0e74, 2022-03-14 13:47:51.301998, Tips: [49, 50]\n",
      "Node 56, 3459f4f405b3e4afcaac4012e56c4f39, 2022-03-14 13:47:51.301998, Tips: [50, 51]\n",
      "Node 57, 85df42d9ca833db3aeb9ac50d8cd564b, 2022-03-14 13:47:51.301998, Tips: [51, 52]\n",
      "Node 58, ca279440a96be498076e57630527c045, 2022-03-14 13:47:51.301998, Tips: [52, 53]\n",
      "Node 59, c2bc7f7abf9d9d6e1ca637a6c643f6ca, 2022-03-14 13:47:51.301998, Tips: [48, 54]\n",
      "Node 60, f823828f4626284752543a108958940e, 2022-03-14 13:47:51.301998, Tips: [54, 55]\n",
      "Node 61, 9f779669529fec33279939054e93c820, 2022-03-14 13:47:51.301998, Tips: [55, 56]\n",
      "Node 62, 563936a861c9b08e07a6b65f739be67f, 2022-03-14 13:47:51.301998, Tips: [56, 57]\n",
      "Node 63, 1b2aa4c5356f8afeab203ce9aa765f34, 2022-03-14 13:47:51.301998, Tips: [57, 58]\n",
      "Node 64, f07257cbc2a32cfb1956920068ea3c20, 2022-03-14 13:47:51.301998, Tips: [53, 58]\n",
      "Node 65, bb17bffc7de688552e66b323b6780475, 2022-03-14 13:47:51.301998, Tips: [59, 60]\n",
      "Node 66, 51960a254dbe4a9feab58d1d22b45f7b, 2022-03-14 13:47:51.301998, Tips: [60, 61]\n",
      "Node 67, 173a6458df37d3b2e61ce5c302d9f5bd, 2022-03-14 13:47:51.301998, Tips: [61, 62]\n",
      "Node 68, eff529e98c7cedc973c1565ef33d9a25, 2022-03-14 13:47:51.301998, Tips: [62, 63]\n",
      "Node 69, 7999dbb2b8be558e2c67c12646d612e4, 2022-03-14 13:47:51.301998, Tips: [63, 64]\n",
      "Node 70, 64894c2001ae43b7c02eb61c6bb558b3, 2022-03-14 13:47:51.301998, Tips: [59, 65]\n",
      "Node 71, ce28f4bad2c10052e4fcf7ae4ff7ff7c, 2022-03-14 13:47:51.301998, Tips: [65, 66]\n",
      "Node 72, 740d99992f9886cd9af46e2fe9bc5e8d, 2022-03-14 13:47:51.301998, Tips: [66, 67]\n",
      "Node 73, b273917b03eabde6be39e9a736f2fa8f, 2022-03-14 13:47:51.301998, Tips: [67, 68]\n",
      "Node 74, 06b34d3dad54a8fb81ea4acb7337f994, 2022-03-14 13:47:51.301998, Tips: [68, 69]\n",
      "Node 75, 580f98b9d9e43d229b25074fc14296d9, 2022-03-14 13:47:51.301998, Tips: [64, 69]\n",
      "Node 76, bf75f8163f34cc83dfa6f108c11b8924, 2022-03-14 13:47:51.301998, Tips: [70, 71]\n",
      "Node 77, 0abe892ff272265b7c746767593e2440, 2022-03-14 13:47:51.301998, Tips: [71, 72]\n",
      "Node 78, 768734e9d06ac36860ac95b10e6fc5fe, 2022-03-14 13:47:51.301998, Tips: [72, 73]\n",
      "Node 79, 25ef12eebad7f4e12cd5f5ae59a1bacc, 2022-03-14 13:47:51.301998, Tips: [73, 74]\n",
      "Node 80 disabled\n",
      "Node 81, 837afa3dc9f92a8e800ccb921f5a7de6, 2022-03-14 13:47:51.301998, Tips: [70, 76]\n",
      "Node 82, 1ccf32cbaa92b6ef2643ba411edaf525, 2022-03-14 13:47:51.301998, Tips: [76, 77]\n",
      "Node 83, 10d26529bfb1c585b548ed33c4889d44, 2022-03-14 13:47:51.301998, Tips: [77, 78]\n",
      "Node 84, 5a6cb533a33a7fe75a1f066e4d611738, 2022-03-14 13:47:51.301998, Tips: [78, 79]\n",
      "Node 85, 2bf2ecb96fcc0c4f554fcca9d68fe210, 2022-03-14 13:47:51.301998, Tips: [79, None]\n",
      "Node 86, c5cad05d93d76409ab9571d4626159f5, 2022-03-14 13:47:51.301998, Tips: [75, None]\n",
      "Node 87, 5f43ece54f9d37cd255c27ebaa1a4e5c, 2022-03-14 13:47:51.301998, Tips: [81, 82]\n",
      "Node 88, 0e3270899deac645b7500049937d16a1, 2022-03-14 13:47:51.301998, Tips: [82, 83]\n",
      "Node 89, c03ea0d05e128fa09a7474d85930fa58, 2022-03-14 13:47:51.301998, Tips: [83, 84]\n",
      "Node 90, 26d5b7c1adf4e4f1a34ca4e3b9dc0411, 2022-03-14 13:47:51.301998, Tips: [84, 85]\n",
      "Node 91, 5a45b276d6899b9ff9c70207acde9702, 2022-03-14 13:47:51.301998, Tips: [85, 86]\n",
      "Node 92, 3fc2e5f71d906fa3551b6c9c843b7d0e, 2022-03-14 13:47:51.301998, Tips: [81, 87]\n",
      "Node 93, 58ffdad685e35c91dc4f6fb07048794b, 2022-03-14 13:47:51.301998, Tips: [87, 88]\n",
      "Node 94, 5a73a4043276955414d38c7730159f3d, 2022-03-14 13:47:51.301998, Tips: [88, 89]\n",
      "Node 95, d27ed6a1f229ae57fccd34e2d4e5e6c5, 2022-03-14 13:47:51.301998, Tips: [89, 90]\n",
      "Node 96, f289e8b86edfa6d0cafc4485cd3f09af, 2022-03-14 13:47:51.301998, Tips: [90, 91]\n",
      "Node 97, a31a75d0078749ceceaeb15eb0559a26, 2022-03-14 13:47:51.301998, Tips: [86, 91]\n",
      "Node 98, 1eb37cc1fdb59806ff5f8296a10e23d1, 2022-03-14 13:47:51.301998, Tips: [92, 93]\n",
      "Node 99, 93ff1309c053357b7cd63e53421ad0d9, 2022-03-14 13:47:51.301998, Tips: [93, 94]\n"
     ]
    }
   ],
   "source": [
    "fnt.disableNode(80)\n",
    "fnt.printFNT()"
   ],
   "metadata": {
    "collapsed": false,
    "pycharm": {
     "name": "#%%\n"
    }
   }
  },
  {
   "cell_type": "code",
   "execution_count": 30,
   "outputs": [
    {
     "name": "stdout",
     "output_type": "stream",
     "text": [
      "Node 80, ab834d6ef0c78d12919dae3dd652c729, 2022-03-14 13:47:51.301998, Tips: [74, 75]\n"
     ]
    }
   ],
   "source": [
    "fnt.findNode(80)"
   ],
   "metadata": {
    "collapsed": false,
    "pycharm": {
     "name": "#%%\n"
    }
   }
  },
  {
   "cell_type": "markdown",
   "source": [
    "Get lists of throughput, utilization, and waste rate at each layer"
   ],
   "metadata": {
    "collapsed": false
   }
  },
  {
   "cell_type": "code",
   "execution_count": 31,
   "outputs": [
    {
     "data": {
      "text/plain": "[1, 2, 3, 4, 5, 6, 5, 6, 5, 6, 5, 6, 5, 6, 5, 6, 5, 6, 5, 6, 2]"
     },
     "execution_count": 31,
     "metadata": {},
     "output_type": "execute_result"
    }
   ],
   "source": [
    "fnt.findThroughput()"
   ],
   "metadata": {
    "collapsed": false,
    "pycharm": {
     "name": "#%%\n"
    }
   }
  },
  {
   "cell_type": "code",
   "execution_count": 32,
   "outputs": [
    {
     "data": {
      "text/plain": "[0.1667,\n 0.3333,\n 0.5,\n 0.6667,\n 0.8333,\n 1.0,\n 0.8333,\n 1.0,\n 0.8333,\n 1.0,\n 0.8333,\n 1.0,\n 0.8333,\n 1.0,\n 0.8333,\n 1.0,\n 0.8333,\n 1.0,\n 0.8333,\n 1.0,\n 0.3333]"
     },
     "execution_count": 32,
     "metadata": {},
     "output_type": "execute_result"
    }
   ],
   "source": [
    "fnt.findUtilization()"
   ],
   "metadata": {
    "collapsed": false,
    "pycharm": {
     "name": "#%%\n"
    }
   }
  },
  {
   "cell_type": "code",
   "execution_count": 33,
   "outputs": [
    {
     "data": {
      "text/plain": "[0.8333,\n 0.6667,\n 0.5,\n 0.3333,\n 0.1667,\n 0.0,\n 0.1667,\n 0.0,\n 0.1667,\n 0.0,\n 0.1667,\n 0.0,\n 0.1667,\n 0.0,\n 0.1667,\n 0.0,\n 0.1667,\n 0.0,\n 0.1667,\n 0.0,\n 0.6667]"
     },
     "execution_count": 33,
     "metadata": {},
     "output_type": "execute_result"
    }
   ],
   "source": [
    "fnt.findWaste()"
   ],
   "metadata": {
    "collapsed": false,
    "pycharm": {
     "name": "#%%\n"
    }
   }
  },
  {
   "cell_type": "markdown",
   "source": [
    "Get cumulative waste rate"
   ],
   "metadata": {
    "collapsed": false
   }
  },
  {
   "cell_type": "code",
   "execution_count": 34,
   "outputs": [
    {
     "data": {
      "text/plain": "[0.8333,\n 0.75,\n 0.6667,\n 0.5833,\n 0.5,\n 0.4167,\n 0.381,\n 0.3333,\n 0.3148,\n 0.2833,\n 0.2727,\n 0.25,\n 0.2436,\n 0.2262,\n 0.2222,\n 0.2083,\n 0.2059,\n 0.1944,\n 0.193,\n 0.1833,\n 0.2063]"
     },
     "execution_count": 34,
     "metadata": {},
     "output_type": "execute_result"
    }
   ],
   "source": [
    "fnt.findCumWaste()"
   ],
   "metadata": {
    "collapsed": false,
    "pycharm": {
     "name": "#%%\n"
    }
   }
  }
 ],
 "metadata": {
  "kernelspec": {
   "display_name": "Python 3",
   "language": "python",
   "name": "python3"
  },
  "language_info": {
   "codemirror_mode": {
    "name": "ipython",
    "version": 2
   },
   "file_extension": ".py",
   "mimetype": "text/x-python",
   "name": "python",
   "nbconvert_exporter": "python",
   "pygments_lexer": "ipython2",
   "version": "2.7.6"
  }
 },
 "nbformat": 4,
 "nbformat_minor": 0
}