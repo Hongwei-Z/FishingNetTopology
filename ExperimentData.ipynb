{
 "cells": [
  {
   "cell_type": "markdown",
   "metadata": {
    "collapsed": true,
    "pycharm": {
     "name": "#%% md\n"
    }
   },
   "source": [
    "Experiments and Feature Showcases"
   ]
  },
  {
   "cell_type": "code",
   "execution_count": 1,
   "outputs": [],
   "source": [
    "import FNT\n",
    "import secrets\n",
    "from datetime import datetime"
   ],
   "metadata": {
    "collapsed": false,
    "pycharm": {
     "name": "#%%\n"
    }
   }
  },
  {
   "cell_type": "markdown",
   "source": [
    "Define rate and number of nodes"
   ],
   "metadata": {
    "collapsed": false
   }
  },
  {
   "cell_type": "code",
   "execution_count": 2,
   "outputs": [],
   "source": [
    "rate = 10\n",
    "size = 100"
   ],
   "metadata": {
    "collapsed": false,
    "pycharm": {
     "name": "#%%\n"
    }
   }
  },
  {
   "cell_type": "markdown",
   "source": [
    "Create a FishingNet, add nodes"
   ],
   "metadata": {
    "collapsed": false
   }
  },
  {
   "cell_type": "code",
   "execution_count": 3,
   "outputs": [
    {
     "name": "stdout",
     "output_type": "stream",
     "text": [
      "Node 0, adc8a6aaace410c5ecefb85697578132, 2022-03-02 21:56:05.053659, Tips: [None, None]\n",
      "Node 1, be010654da54ee8c951184b56c9b13ef, 2022-03-02 21:56:05.053659, Tips: [0, None]\n",
      "Node 2, 49523a51c99b89594a200eda645f1bc1, 2022-03-02 21:56:05.053659, Tips: [0, None]\n",
      "Node 3, b4ec6111de5a08153c88bfb01ff3c029, 2022-03-02 21:56:05.053659, Tips: [1, None]\n",
      "Node 4, b47d86b5c3ad451275614132272a3dd6, 2022-03-02 21:56:05.053659, Tips: [1, 2]\n",
      "Node 5, 0e5d75907a563f3020e4621b25ed262c, 2022-03-02 21:56:05.053659, Tips: [2, None]\n",
      "Node 6, 803fe2b712035ba0e4817d6dbbaac80a, 2022-03-02 21:56:05.053659, Tips: [3, None]\n",
      "Node 7, f32128cccf1a227901b08ba3ab340555, 2022-03-02 21:56:05.053659, Tips: [3, 4]\n",
      "Node 8, eee5ad24c024b28345409b073b8e8c06, 2022-03-02 21:56:05.053659, Tips: [4, 5]\n",
      "Node 9, d6dcc90223378545fd41969971abbf48, 2022-03-02 21:56:05.053659, Tips: [5, None]\n",
      "Node 10, 8fd6f79b550e5a27c59734f26cb6b67b, 2022-03-02 21:56:05.053659, Tips: [6, None]\n",
      "Node 11, fe689c2e74a18f7d263443a949e3d600, 2022-03-02 21:56:05.053659, Tips: [6, 7]\n",
      "Node 12, 55cd88824b766b9a5fc0135e8397c78d, 2022-03-02 21:56:05.053659, Tips: [7, 8]\n",
      "Node 13, 5b4801c16388fadd3f08696951c77c49, 2022-03-02 21:56:05.053659, Tips: [8, 9]\n",
      "Node 14, 9804db0214fd197b8547adaa909243be, 2022-03-02 21:56:05.053659, Tips: [9, None]\n",
      "Node 15, d1755825a6967449f63d3a8cf1a863fe, 2022-03-02 21:56:05.053659, Tips: [10, None]\n",
      "Node 16, 691e4231c223142aba4a4d1027064a8f, 2022-03-02 21:56:05.053659, Tips: [10, 11]\n",
      "Node 17, b28710aa5aa5a75075a0f706c08607b7, 2022-03-02 21:56:05.053659, Tips: [11, 12]\n",
      "Node 18, bec31ca22d8cbe8ce922fce8017ca325, 2022-03-02 21:56:05.053659, Tips: [12, 13]\n",
      "Node 19, d91f256993786d44934f52bf1d4e608e, 2022-03-02 21:56:05.053659, Tips: [13, 14]\n",
      "Node 20, 092162efec44a35d187e425c0f59b104, 2022-03-02 21:56:05.053659, Tips: [14, None]\n",
      "Node 21, e0ea6dbd856a5223422d724b986016e9, 2022-03-02 21:56:05.053659, Tips: [15, None]\n",
      "Node 22, 93c0333dafd84c10e2a82517311710b8, 2022-03-02 21:56:05.053659, Tips: [15, 16]\n",
      "Node 23, 12fab3687e7395d2c35e90d0948ebc4a, 2022-03-02 21:56:05.053659, Tips: [16, 17]\n",
      "Node 24, 2b76f9b8f711f6d595f9f914fb2af111, 2022-03-02 21:56:05.053659, Tips: [17, 18]\n",
      "Node 25, a91da254fdc4d58fb940fb3b836d204d, 2022-03-02 21:56:05.053659, Tips: [18, 19]\n",
      "Node 26, cff3768d3e1f3dcc6bd7242c6bd98855, 2022-03-02 21:56:05.053659, Tips: [19, 20]\n",
      "Node 27, c399e793ac5ded69e594483131c244ec, 2022-03-02 21:56:05.053659, Tips: [20, None]\n",
      "Node 28, 4389b705f210b1e294f79614a5eeba4d, 2022-03-02 21:56:05.053659, Tips: [21, None]\n",
      "Node 29, 852b0de697eb3dc5629d1a3b23231049, 2022-03-02 21:56:05.053659, Tips: [21, 22]\n",
      "Node 30, c1d1d642d366fbf87b102ecf606bd0f3, 2022-03-02 21:56:05.053659, Tips: [22, 23]\n",
      "Node 31, 941b857562a070fe114e3d380ad1f415, 2022-03-02 21:56:05.053659, Tips: [23, 24]\n",
      "Node 32, 98f315ed97ce7651bb5d5a076fcf0abb, 2022-03-02 21:56:05.053659, Tips: [24, 25]\n",
      "Node 33, a285654d04fdde078d3581b2a50927a0, 2022-03-02 21:56:05.053659, Tips: [25, 26]\n",
      "Node 34, 247228043205cb712fa3f2bb7d9d816b, 2022-03-02 21:56:05.053659, Tips: [26, 27]\n",
      "Node 35, 0952baf4411a836370fa72eaddcd8d40, 2022-03-02 21:56:05.053659, Tips: [27, None]\n",
      "Node 36, 26d15eee450bbdb0ae562079b8f5c1a5, 2022-03-02 21:56:05.053659, Tips: [28, None]\n",
      "Node 37, 5cef924da5e4ff981dfbf784311a3a36, 2022-03-02 21:56:05.053659, Tips: [28, 29]\n",
      "Node 38, 633e13db2579f817701cd6c0740e7d65, 2022-03-02 21:56:05.053659, Tips: [29, 30]\n",
      "Node 39, ca1de9ac74365206fb25154427ef2add, 2022-03-02 21:56:05.053659, Tips: [30, 31]\n",
      "Node 40, e065fa05e9775069810dab52c810bfd8, 2022-03-02 21:56:05.053659, Tips: [31, 32]\n",
      "Node 41, 8583e38278bced7065ee8d71d7b1868e, 2022-03-02 21:56:05.053659, Tips: [32, 33]\n",
      "Node 42, 535b4683b8571ffda81113ffec661a86, 2022-03-02 21:56:05.053659, Tips: [33, 34]\n",
      "Node 43, 2d5de305025e690e8ae15d66231fb3db, 2022-03-02 21:56:05.053659, Tips: [34, 35]\n",
      "Node 44, 2bb1d2511c641db075689b0df34f9034, 2022-03-02 21:56:05.053659, Tips: [35, None]\n",
      "Node 45, c4d2b9cd825e9b0c3fee93224fc42485, 2022-03-02 21:56:05.053659, Tips: [36, None]\n",
      "Node 46, e03faceed5f28f32434bede02563e075, 2022-03-02 21:56:05.053659, Tips: [36, 37]\n",
      "Node 47, 34c74c0b302be957c7c53feca804333c, 2022-03-02 21:56:05.053659, Tips: [37, 38]\n",
      "Node 48, f6126e7be5bd9b28ee0ec6f04fcfb12e, 2022-03-02 21:56:05.053659, Tips: [38, 39]\n",
      "Node 49, c65d137d53343fa17f2039e233a25fbd, 2022-03-02 21:56:05.053659, Tips: [39, 40]\n",
      "Node 50, 3369d10f820816676c7d88683df6df49, 2022-03-02 21:56:05.053659, Tips: [40, 41]\n",
      "Node 51, 479be271d2371332905d40270b8fb1cf, 2022-03-02 21:56:05.053659, Tips: [41, 42]\n",
      "Node 52, 4629e20c14580ee3a6dd6ff356e907e6, 2022-03-02 21:56:05.053659, Tips: [42, 43]\n",
      "Node 53, 8f5e370205ec844fe6b8418f33308cce, 2022-03-02 21:56:05.053659, Tips: [43, 44]\n",
      "Node 54, 0774ce75b597eaa167199d5e399160d1, 2022-03-02 21:56:05.053659, Tips: [44, None]\n",
      "Node 55, fa087f12e20d43432b7766b4c775f1bb, 2022-03-02 21:56:05.053659, Tips: [45, 46]\n",
      "Node 56, 1219786810a91832c4f4638598ae96ab, 2022-03-02 21:56:05.053659, Tips: [46, 47]\n",
      "Node 57, 20d5ba785a729105a784c57915ab9e33, 2022-03-02 21:56:05.053659, Tips: [47, 48]\n",
      "Node 58, e78b90b4f36991c791bf76a4b405287f, 2022-03-02 21:56:05.053659, Tips: [48, 49]\n",
      "Node 59, 00ab5a4509f93fe5913479c3d8d5f17b, 2022-03-02 21:56:05.053659, Tips: [49, 50]\n",
      "Node 60, aceb4670aabd6e67c5a6659bd6f34af1, 2022-03-02 21:56:05.053659, Tips: [50, 51]\n",
      "Node 61, 5f5acb76cd3515cc10fc61ff90296a00, 2022-03-02 21:56:05.053659, Tips: [51, 52]\n",
      "Node 62, 8f6eaa0ce4e3bf1232324b8036532e4c, 2022-03-02 21:56:05.053659, Tips: [52, 53]\n",
      "Node 63, b682262b980a5be6a61e6b0f6efcfa9f, 2022-03-02 21:56:05.053659, Tips: [53, 54]\n",
      "Node 64, 48f5568795b80f893cc3caf49c1cad59, 2022-03-02 21:56:05.053659, Tips: [45, 55]\n",
      "Node 65, 2d0108da589af4206713e31f8334495e, 2022-03-02 21:56:05.053659, Tips: [55, 56]\n",
      "Node 66, 28d73a5e35d86a8302d21737caa4d1bb, 2022-03-02 21:56:05.053659, Tips: [56, 57]\n",
      "Node 67, bebdef47d6cb49e805b8ed2fe7aa1020, 2022-03-02 21:56:05.053659, Tips: [57, 58]\n",
      "Node 68, 594b707117187c6e63d47e74bc737712, 2022-03-02 21:56:05.053659, Tips: [58, 59]\n",
      "Node 69, 50d3646dd8efb861c9cb668077a74c30, 2022-03-02 21:56:05.053659, Tips: [59, 60]\n",
      "Node 70, aa0aa88cc686497909c2399ff919ce44, 2022-03-02 21:56:05.053659, Tips: [60, 61]\n",
      "Node 71, ca138c10bf12cddb71f94979f5ed1309, 2022-03-02 21:56:05.053659, Tips: [61, 62]\n",
      "Node 72, 4b04f8b43a0b16e8c7cff80e22436d20, 2022-03-02 21:56:05.053659, Tips: [62, 63]\n",
      "Node 73, 7767eed435b1a874ef8cdb113ccb8988, 2022-03-02 21:56:05.053659, Tips: [54, 63]\n",
      "Node 74, d6a94bdc3e56a453693c745b96be5581, 2022-03-02 21:56:05.053659, Tips: [64, 65]\n",
      "Node 75, 10c930b13df7c2892faabe66ad6ae881, 2022-03-02 21:56:05.053659, Tips: [65, 66]\n",
      "Node 76, 0b68e257f8818e7eb0c4554e1161aa7f, 2022-03-02 21:56:05.053659, Tips: [66, 67]\n",
      "Node 77, fe58f0bb033060051b3015ba677b0291, 2022-03-02 21:56:05.053659, Tips: [67, 68]\n",
      "Node 78, 66ef13b68f48de33a7cd655035358929, 2022-03-02 21:56:05.053659, Tips: [68, 69]\n",
      "Node 79, ce437d1e1fa7edaf3810b340121061f3, 2022-03-02 21:56:05.053659, Tips: [69, 70]\n",
      "Node 80, bcecaae4aeff71ffd9adc1bcf32f3a01, 2022-03-02 21:56:05.053659, Tips: [70, 71]\n",
      "Node 81, ca058498111d819c9b2aa73657982990, 2022-03-02 21:56:05.053659, Tips: [71, 72]\n",
      "Node 82, 446dc387f82011604b4c843fa7296f78, 2022-03-02 21:56:05.053659, Tips: [72, 73]\n",
      "Node 83, 8a4166afe665b37d0bb4d8a9a12c71ad, 2022-03-02 21:56:05.053659, Tips: [64, 74]\n",
      "Node 84, ffc373f6fcd74e9c17a73e4452165b69, 2022-03-02 21:56:05.053659, Tips: [74, 75]\n",
      "Node 85, 03cc9bc20ebcd3b19f0266e7e9cabb73, 2022-03-02 21:56:05.053659, Tips: [75, 76]\n",
      "Node 86, cb87f92ff05b0b9acd38c7a5b58185f9, 2022-03-02 21:56:05.053659, Tips: [76, 77]\n",
      "Node 87, c463ff8b52186f1fb91b5d101d554d0f, 2022-03-02 21:56:05.053659, Tips: [77, 78]\n",
      "Node 88, 2b276e1840fe1c470a9e667480d1bad9, 2022-03-02 21:56:05.053659, Tips: [78, 79]\n",
      "Node 89, fb672ea58c9f88e174e60169d7bb7b1c, 2022-03-02 21:56:05.053659, Tips: [79, 80]\n",
      "Node 90, 15ee86302f91d4c01f2d8613d2fa2b40, 2022-03-02 21:56:05.053659, Tips: [80, 81]\n",
      "Node 91, 252d7f964415c0ed50ee08600c0c3898, 2022-03-02 21:56:05.053659, Tips: [81, 82]\n",
      "Node 92, d49d9cf79cdda54e53b7fa1adf6f55c0, 2022-03-02 21:56:05.053659, Tips: [73, 82]\n",
      "Node 93, f26be82bd4af62bed7f46084659b1187, 2022-03-02 21:56:05.053659, Tips: [83, 84]\n",
      "Node 94, 24b8ff78c39c97260fc2728be204d2c7, 2022-03-02 21:56:05.053659, Tips: [84, 85]\n",
      "Node 95, 1302aa25b93551c0364734203d7fe66e, 2022-03-02 21:56:05.053659, Tips: [85, 86]\n",
      "Node 96, fb54216d9b3a13e0c68dfa6c6c916a6d, 2022-03-02 21:56:05.053659, Tips: [86, 87]\n",
      "Node 97, 5f4995a46b2190c15ee1eacf4f8c018f, 2022-03-02 21:56:05.053659, Tips: [87, 88]\n",
      "Node 98, 68a3de1d93968ae5d2539907475733e1, 2022-03-02 21:56:05.053659, Tips: [88, 89]\n",
      "Node 99, c51fbb4c53345085043ff439b28baacd, 2022-03-02 21:56:05.053659, Tips: [89, 90]\n"
     ]
    }
   ],
   "source": [
    "fnt = FNT.FishingNet(rate)\n",
    "for i in range(size):\n",
    "    fnt.nextNode(secrets.token_hex(16), datetime.now())\n",
    "fnt.printFNT()"
   ],
   "metadata": {
    "collapsed": false,
    "pycharm": {
     "name": "#%%\n"
    }
   }
  },
  {
   "cell_type": "markdown",
   "source": [
    "Find a node and show the result"
   ],
   "metadata": {
    "collapsed": false,
    "pycharm": {
     "name": "#%% md\n"
    }
   }
  },
  {
   "cell_type": "code",
   "execution_count": 4,
   "outputs": [
    {
     "name": "stdout",
     "output_type": "stream",
     "text": [
      "Node 80, bcecaae4aeff71ffd9adc1bcf32f3a01, 2022-03-02 21:56:05.053659, Tips: [70, 71]\n"
     ]
    }
   ],
   "source": [
    "fnt.findNode(80)"
   ],
   "metadata": {
    "collapsed": false,
    "pycharm": {
     "name": "#%%\n"
    }
   }
  },
  {
   "cell_type": "markdown",
   "source": [
    "Find tips for a node and show the result"
   ],
   "metadata": {
    "collapsed": false,
    "pycharm": {
     "name": "#%% md\n"
    }
   }
  },
  {
   "cell_type": "code",
   "execution_count": 5,
   "outputs": [
    {
     "name": "stdout",
     "output_type": "stream",
     "text": [
      "Node 70, aa0aa88cc686497909c2399ff919ce44, 2022-03-02 21:56:05.053659, Tips: [60, 61]\n",
      "Node 71, ca138c10bf12cddb71f94979f5ed1309, 2022-03-02 21:56:05.053659, Tips: [61, 62]\n"
     ]
    }
   ],
   "source": [
    "fnt.findTips(80)"
   ],
   "metadata": {
    "collapsed": false,
    "pycharm": {
     "name": "#%%\n"
    }
   }
  },
  {
   "cell_type": "markdown",
   "source": [
    "Find the two nodes that approve this node"
   ],
   "metadata": {
    "collapsed": false,
    "pycharm": {
     "name": "#%% md\n"
    }
   }
  },
  {
   "cell_type": "code",
   "execution_count": 6,
   "outputs": [
    {
     "name": "stdout",
     "output_type": "stream",
     "text": [
      "Node 89, fb672ea58c9f88e174e60169d7bb7b1c, 2022-03-02 21:56:05.053659, Tips: [79, 80]\n",
      "Node 90, 15ee86302f91d4c01f2d8613d2fa2b40, 2022-03-02 21:56:05.053659, Tips: [80, 81]\n"
     ]
    }
   ],
   "source": [
    "fnt.findApprove(80)"
   ],
   "metadata": {
    "collapsed": false,
    "pycharm": {
     "name": "#%%\n"
    }
   }
  },
  {
   "cell_type": "markdown",
   "source": [
    "Find the cumulative weight of a node"
   ],
   "metadata": {
    "collapsed": false
   }
  },
  {
   "cell_type": "code",
   "execution_count": 7,
   "outputs": [
    {
     "data": {
      "text/plain": "5"
     },
     "execution_count": 7,
     "metadata": {},
     "output_type": "execute_result"
    }
   ],
   "source": [
    "fnt.findCW(80)"
   ],
   "metadata": {
    "collapsed": false,
    "pycharm": {
     "name": "#%%\n"
    }
   }
  },
  {
   "cell_type": "markdown",
   "source": [
    "Print all nodes that have directly or indirectly approved this node"
   ],
   "metadata": {
    "collapsed": false
   }
  },
  {
   "cell_type": "code",
   "execution_count": 8,
   "outputs": [
    {
     "name": "stdout",
     "output_type": "stream",
     "text": [
      "Node 80, bcecaae4aeff71ffd9adc1bcf32f3a01, 2022-03-02 21:56:05.053659, Tips: [70, 71]\n",
      "Node 89, fb672ea58c9f88e174e60169d7bb7b1c, 2022-03-02 21:56:05.053659, Tips: [79, 80]\n",
      "Node 90, 15ee86302f91d4c01f2d8613d2fa2b40, 2022-03-02 21:56:05.053659, Tips: [80, 81]\n",
      "Node 98, 68a3de1d93968ae5d2539907475733e1, 2022-03-02 21:56:05.053659, Tips: [88, 89]\n",
      "Node 99, c51fbb4c53345085043ff439b28baacd, 2022-03-02 21:56:05.053659, Tips: [89, 90]\n"
     ]
    }
   ],
   "source": [
    "fnt.findSubnet(80)"
   ],
   "metadata": {
    "collapsed": false,
    "pycharm": {
     "name": "#%%\n"
    }
   }
  },
  {
   "cell_type": "markdown",
   "source": [
    "Disable a node, only disconnect from other nodes, not delete data"
   ],
   "metadata": {
    "collapsed": false
   }
  },
  {
   "cell_type": "code",
   "execution_count": 9,
   "outputs": [
    {
     "name": "stdout",
     "output_type": "stream",
     "text": [
      "Node 0, adc8a6aaace410c5ecefb85697578132, 2022-03-02 21:56:05.053659, Tips: [None, None]\n",
      "Node 1, be010654da54ee8c951184b56c9b13ef, 2022-03-02 21:56:05.053659, Tips: [0, None]\n",
      "Node 2, 49523a51c99b89594a200eda645f1bc1, 2022-03-02 21:56:05.053659, Tips: [0, None]\n",
      "Node 3, b4ec6111de5a08153c88bfb01ff3c029, 2022-03-02 21:56:05.053659, Tips: [1, None]\n",
      "Node 4, b47d86b5c3ad451275614132272a3dd6, 2022-03-02 21:56:05.053659, Tips: [1, 2]\n",
      "Node 5, 0e5d75907a563f3020e4621b25ed262c, 2022-03-02 21:56:05.053659, Tips: [2, None]\n",
      "Node 6, 803fe2b712035ba0e4817d6dbbaac80a, 2022-03-02 21:56:05.053659, Tips: [3, None]\n",
      "Node 7, f32128cccf1a227901b08ba3ab340555, 2022-03-02 21:56:05.053659, Tips: [3, 4]\n",
      "Node 8, eee5ad24c024b28345409b073b8e8c06, 2022-03-02 21:56:05.053659, Tips: [4, 5]\n",
      "Node 9, d6dcc90223378545fd41969971abbf48, 2022-03-02 21:56:05.053659, Tips: [5, None]\n",
      "Node 10, 8fd6f79b550e5a27c59734f26cb6b67b, 2022-03-02 21:56:05.053659, Tips: [6, None]\n",
      "Node 11, fe689c2e74a18f7d263443a949e3d600, 2022-03-02 21:56:05.053659, Tips: [6, 7]\n",
      "Node 12, 55cd88824b766b9a5fc0135e8397c78d, 2022-03-02 21:56:05.053659, Tips: [7, 8]\n",
      "Node 13, 5b4801c16388fadd3f08696951c77c49, 2022-03-02 21:56:05.053659, Tips: [8, 9]\n",
      "Node 14, 9804db0214fd197b8547adaa909243be, 2022-03-02 21:56:05.053659, Tips: [9, None]\n",
      "Node 15, d1755825a6967449f63d3a8cf1a863fe, 2022-03-02 21:56:05.053659, Tips: [10, None]\n",
      "Node 16, 691e4231c223142aba4a4d1027064a8f, 2022-03-02 21:56:05.053659, Tips: [10, 11]\n",
      "Node 17, b28710aa5aa5a75075a0f706c08607b7, 2022-03-02 21:56:05.053659, Tips: [11, 12]\n",
      "Node 18, bec31ca22d8cbe8ce922fce8017ca325, 2022-03-02 21:56:05.053659, Tips: [12, 13]\n",
      "Node 19, d91f256993786d44934f52bf1d4e608e, 2022-03-02 21:56:05.053659, Tips: [13, 14]\n",
      "Node 20, 092162efec44a35d187e425c0f59b104, 2022-03-02 21:56:05.053659, Tips: [14, None]\n",
      "Node 21, e0ea6dbd856a5223422d724b986016e9, 2022-03-02 21:56:05.053659, Tips: [15, None]\n",
      "Node 22, 93c0333dafd84c10e2a82517311710b8, 2022-03-02 21:56:05.053659, Tips: [15, 16]\n",
      "Node 23, 12fab3687e7395d2c35e90d0948ebc4a, 2022-03-02 21:56:05.053659, Tips: [16, 17]\n",
      "Node 24, 2b76f9b8f711f6d595f9f914fb2af111, 2022-03-02 21:56:05.053659, Tips: [17, 18]\n",
      "Node 25, a91da254fdc4d58fb940fb3b836d204d, 2022-03-02 21:56:05.053659, Tips: [18, 19]\n",
      "Node 26, cff3768d3e1f3dcc6bd7242c6bd98855, 2022-03-02 21:56:05.053659, Tips: [19, 20]\n",
      "Node 27, c399e793ac5ded69e594483131c244ec, 2022-03-02 21:56:05.053659, Tips: [20, None]\n",
      "Node 28, 4389b705f210b1e294f79614a5eeba4d, 2022-03-02 21:56:05.053659, Tips: [21, None]\n",
      "Node 29, 852b0de697eb3dc5629d1a3b23231049, 2022-03-02 21:56:05.053659, Tips: [21, 22]\n",
      "Node 30, c1d1d642d366fbf87b102ecf606bd0f3, 2022-03-02 21:56:05.053659, Tips: [22, 23]\n",
      "Node 31, 941b857562a070fe114e3d380ad1f415, 2022-03-02 21:56:05.053659, Tips: [23, 24]\n",
      "Node 32, 98f315ed97ce7651bb5d5a076fcf0abb, 2022-03-02 21:56:05.053659, Tips: [24, 25]\n",
      "Node 33, a285654d04fdde078d3581b2a50927a0, 2022-03-02 21:56:05.053659, Tips: [25, 26]\n",
      "Node 34, 247228043205cb712fa3f2bb7d9d816b, 2022-03-02 21:56:05.053659, Tips: [26, 27]\n",
      "Node 35, 0952baf4411a836370fa72eaddcd8d40, 2022-03-02 21:56:05.053659, Tips: [27, None]\n",
      "Node 36, 26d15eee450bbdb0ae562079b8f5c1a5, 2022-03-02 21:56:05.053659, Tips: [28, None]\n",
      "Node 37, 5cef924da5e4ff981dfbf784311a3a36, 2022-03-02 21:56:05.053659, Tips: [28, 29]\n",
      "Node 38, 633e13db2579f817701cd6c0740e7d65, 2022-03-02 21:56:05.053659, Tips: [29, 30]\n",
      "Node 39, ca1de9ac74365206fb25154427ef2add, 2022-03-02 21:56:05.053659, Tips: [30, 31]\n",
      "Node 40, e065fa05e9775069810dab52c810bfd8, 2022-03-02 21:56:05.053659, Tips: [31, 32]\n",
      "Node 41, 8583e38278bced7065ee8d71d7b1868e, 2022-03-02 21:56:05.053659, Tips: [32, 33]\n",
      "Node 42, 535b4683b8571ffda81113ffec661a86, 2022-03-02 21:56:05.053659, Tips: [33, 34]\n",
      "Node 43, 2d5de305025e690e8ae15d66231fb3db, 2022-03-02 21:56:05.053659, Tips: [34, 35]\n",
      "Node 44, 2bb1d2511c641db075689b0df34f9034, 2022-03-02 21:56:05.053659, Tips: [35, None]\n",
      "Node 45, c4d2b9cd825e9b0c3fee93224fc42485, 2022-03-02 21:56:05.053659, Tips: [36, None]\n",
      "Node 46, e03faceed5f28f32434bede02563e075, 2022-03-02 21:56:05.053659, Tips: [36, 37]\n",
      "Node 47, 34c74c0b302be957c7c53feca804333c, 2022-03-02 21:56:05.053659, Tips: [37, 38]\n",
      "Node 48, f6126e7be5bd9b28ee0ec6f04fcfb12e, 2022-03-02 21:56:05.053659, Tips: [38, 39]\n",
      "Node 49, c65d137d53343fa17f2039e233a25fbd, 2022-03-02 21:56:05.053659, Tips: [39, 40]\n",
      "Node 50, 3369d10f820816676c7d88683df6df49, 2022-03-02 21:56:05.053659, Tips: [40, 41]\n",
      "Node 51, 479be271d2371332905d40270b8fb1cf, 2022-03-02 21:56:05.053659, Tips: [41, 42]\n",
      "Node 52, 4629e20c14580ee3a6dd6ff356e907e6, 2022-03-02 21:56:05.053659, Tips: [42, 43]\n",
      "Node 53, 8f5e370205ec844fe6b8418f33308cce, 2022-03-02 21:56:05.053659, Tips: [43, 44]\n",
      "Node 54, 0774ce75b597eaa167199d5e399160d1, 2022-03-02 21:56:05.053659, Tips: [44, None]\n",
      "Node 55, fa087f12e20d43432b7766b4c775f1bb, 2022-03-02 21:56:05.053659, Tips: [45, 46]\n",
      "Node 56, 1219786810a91832c4f4638598ae96ab, 2022-03-02 21:56:05.053659, Tips: [46, 47]\n",
      "Node 57, 20d5ba785a729105a784c57915ab9e33, 2022-03-02 21:56:05.053659, Tips: [47, 48]\n",
      "Node 58, e78b90b4f36991c791bf76a4b405287f, 2022-03-02 21:56:05.053659, Tips: [48, 49]\n",
      "Node 59, 00ab5a4509f93fe5913479c3d8d5f17b, 2022-03-02 21:56:05.053659, Tips: [49, 50]\n",
      "Node 60, aceb4670aabd6e67c5a6659bd6f34af1, 2022-03-02 21:56:05.053659, Tips: [50, 51]\n",
      "Node 61, 5f5acb76cd3515cc10fc61ff90296a00, 2022-03-02 21:56:05.053659, Tips: [51, 52]\n",
      "Node 62, 8f6eaa0ce4e3bf1232324b8036532e4c, 2022-03-02 21:56:05.053659, Tips: [52, 53]\n",
      "Node 63, b682262b980a5be6a61e6b0f6efcfa9f, 2022-03-02 21:56:05.053659, Tips: [53, 54]\n",
      "Node 64, 48f5568795b80f893cc3caf49c1cad59, 2022-03-02 21:56:05.053659, Tips: [45, 55]\n",
      "Node 65, 2d0108da589af4206713e31f8334495e, 2022-03-02 21:56:05.053659, Tips: [55, 56]\n",
      "Node 66, 28d73a5e35d86a8302d21737caa4d1bb, 2022-03-02 21:56:05.053659, Tips: [56, 57]\n",
      "Node 67, bebdef47d6cb49e805b8ed2fe7aa1020, 2022-03-02 21:56:05.053659, Tips: [57, 58]\n",
      "Node 68, 594b707117187c6e63d47e74bc737712, 2022-03-02 21:56:05.053659, Tips: [58, 59]\n",
      "Node 69, 50d3646dd8efb861c9cb668077a74c30, 2022-03-02 21:56:05.053659, Tips: [59, 60]\n",
      "Node 70, aa0aa88cc686497909c2399ff919ce44, 2022-03-02 21:56:05.053659, Tips: [60, 61]\n",
      "Node 71, ca138c10bf12cddb71f94979f5ed1309, 2022-03-02 21:56:05.053659, Tips: [61, 62]\n",
      "Node 72, 4b04f8b43a0b16e8c7cff80e22436d20, 2022-03-02 21:56:05.053659, Tips: [62, 63]\n",
      "Node 73, 7767eed435b1a874ef8cdb113ccb8988, 2022-03-02 21:56:05.053659, Tips: [54, 63]\n",
      "Node 74, d6a94bdc3e56a453693c745b96be5581, 2022-03-02 21:56:05.053659, Tips: [64, 65]\n",
      "Node 75, 10c930b13df7c2892faabe66ad6ae881, 2022-03-02 21:56:05.053659, Tips: [65, 66]\n",
      "Node 76, 0b68e257f8818e7eb0c4554e1161aa7f, 2022-03-02 21:56:05.053659, Tips: [66, 67]\n",
      "Node 77, fe58f0bb033060051b3015ba677b0291, 2022-03-02 21:56:05.053659, Tips: [67, 68]\n",
      "Node 78, 66ef13b68f48de33a7cd655035358929, 2022-03-02 21:56:05.053659, Tips: [68, 69]\n",
      "Node 79, ce437d1e1fa7edaf3810b340121061f3, 2022-03-02 21:56:05.053659, Tips: [69, 70]\n",
      "Node 80 disabled\n",
      "Node 81, ca058498111d819c9b2aa73657982990, 2022-03-02 21:56:05.053659, Tips: [71, 72]\n",
      "Node 82, 446dc387f82011604b4c843fa7296f78, 2022-03-02 21:56:05.053659, Tips: [72, 73]\n",
      "Node 83, 8a4166afe665b37d0bb4d8a9a12c71ad, 2022-03-02 21:56:05.053659, Tips: [64, 74]\n",
      "Node 84, ffc373f6fcd74e9c17a73e4452165b69, 2022-03-02 21:56:05.053659, Tips: [74, 75]\n",
      "Node 85, 03cc9bc20ebcd3b19f0266e7e9cabb73, 2022-03-02 21:56:05.053659, Tips: [75, 76]\n",
      "Node 86, cb87f92ff05b0b9acd38c7a5b58185f9, 2022-03-02 21:56:05.053659, Tips: [76, 77]\n",
      "Node 87, c463ff8b52186f1fb91b5d101d554d0f, 2022-03-02 21:56:05.053659, Tips: [77, 78]\n",
      "Node 88, 2b276e1840fe1c470a9e667480d1bad9, 2022-03-02 21:56:05.053659, Tips: [78, 79]\n",
      "Node 89, fb672ea58c9f88e174e60169d7bb7b1c, 2022-03-02 21:56:05.053659, Tips: [79, None]\n",
      "Node 90, 15ee86302f91d4c01f2d8613d2fa2b40, 2022-03-02 21:56:05.053659, Tips: [None, 81]\n",
      "Node 91, 252d7f964415c0ed50ee08600c0c3898, 2022-03-02 21:56:05.053659, Tips: [81, 82]\n",
      "Node 92, d49d9cf79cdda54e53b7fa1adf6f55c0, 2022-03-02 21:56:05.053659, Tips: [73, 82]\n",
      "Node 93, f26be82bd4af62bed7f46084659b1187, 2022-03-02 21:56:05.053659, Tips: [83, 84]\n",
      "Node 94, 24b8ff78c39c97260fc2728be204d2c7, 2022-03-02 21:56:05.053659, Tips: [84, 85]\n",
      "Node 95, 1302aa25b93551c0364734203d7fe66e, 2022-03-02 21:56:05.053659, Tips: [85, 86]\n",
      "Node 96, fb54216d9b3a13e0c68dfa6c6c916a6d, 2022-03-02 21:56:05.053659, Tips: [86, 87]\n",
      "Node 97, 5f4995a46b2190c15ee1eacf4f8c018f, 2022-03-02 21:56:05.053659, Tips: [87, 88]\n",
      "Node 98, 68a3de1d93968ae5d2539907475733e1, 2022-03-02 21:56:05.053659, Tips: [88, 89]\n",
      "Node 99, c51fbb4c53345085043ff439b28baacd, 2022-03-02 21:56:05.053659, Tips: [89, 90]\n"
     ]
    }
   ],
   "source": [
    "fnt.disableNode(80)\n",
    "fnt.printFNT()"
   ],
   "metadata": {
    "collapsed": false,
    "pycharm": {
     "name": "#%%\n"
    }
   }
  },
  {
   "cell_type": "code",
   "execution_count": 10,
   "outputs": [
    {
     "name": "stdout",
     "output_type": "stream",
     "text": [
      "Node 80, bcecaae4aeff71ffd9adc1bcf32f3a01, 2022-03-02 21:56:05.053659, Tips: [70, 71]\n"
     ]
    }
   ],
   "source": [
    "fnt.findNode(80)"
   ],
   "metadata": {
    "collapsed": false,
    "pycharm": {
     "name": "#%%\n"
    }
   }
  },
  {
   "cell_type": "markdown",
   "source": [
    "Get lists of throughput, utilization, and waste rate at each layer"
   ],
   "metadata": {
    "collapsed": false
   }
  },
  {
   "cell_type": "code",
   "execution_count": 11,
   "outputs": [
    {
     "data": {
      "text/plain": "[1, 2, 3, 4, 5, 6, 7, 8, 9, 10, 9, 10, 9, 10, 7]"
     },
     "execution_count": 11,
     "metadata": {},
     "output_type": "execute_result"
    }
   ],
   "source": [
    "fnt.findThroughput()"
   ],
   "metadata": {
    "collapsed": false,
    "pycharm": {
     "name": "#%%\n"
    }
   }
  },
  {
   "cell_type": "code",
   "execution_count": 12,
   "outputs": [
    {
     "data": {
      "text/plain": "[0.1, 0.2, 0.3, 0.4, 0.5, 0.6, 0.7, 0.8, 0.9, 1.0, 0.9, 1.0, 0.9, 1.0, 0.7]"
     },
     "execution_count": 12,
     "metadata": {},
     "output_type": "execute_result"
    }
   ],
   "source": [
    "fnt.findUtilization()"
   ],
   "metadata": {
    "collapsed": false,
    "pycharm": {
     "name": "#%%\n"
    }
   }
  },
  {
   "cell_type": "code",
   "execution_count": 13,
   "outputs": [
    {
     "data": {
      "text/plain": "[0.9,\n 0.8,\n 0.7,\n 0.6,\n 0.5,\n 0.4,\n 0.30000000000000004,\n 0.19999999999999996,\n 0.09999999999999998,\n 0.0,\n 0.09999999999999998,\n 0.0,\n 0.09999999999999998,\n 0.0,\n 0.30000000000000004]"
     },
     "execution_count": 13,
     "metadata": {},
     "output_type": "execute_result"
    }
   ],
   "source": [
    "fnt.findWaste()"
   ],
   "metadata": {
    "collapsed": false,
    "pycharm": {
     "name": "#%%\n"
    }
   }
  },
  {
   "cell_type": "markdown",
   "source": [
    "Get cumulative waste rate"
   ],
   "metadata": {
    "collapsed": false
   }
  },
  {
   "cell_type": "code",
   "execution_count": 14,
   "outputs": [
    {
     "data": {
      "text/plain": "[0.9,\n 0.85,\n 0.8,\n 0.75,\n 0.7,\n 0.65,\n 0.6,\n 0.55,\n 0.5,\n 0.45,\n 0.41818181818181815,\n 0.38333333333333336,\n 0.36153846153846153,\n 0.3357142857142857,\n 0.3333333333333333]"
     },
     "execution_count": 14,
     "metadata": {},
     "output_type": "execute_result"
    }
   ],
   "source": [
    "fnt.findCumWaste()"
   ],
   "metadata": {
    "collapsed": false,
    "pycharm": {
     "name": "#%%\n"
    }
   }
  }
 ],
 "metadata": {
  "kernelspec": {
   "display_name": "Python 3",
   "language": "python",
   "name": "python3"
  },
  "language_info": {
   "codemirror_mode": {
    "name": "ipython",
    "version": 2
   },
   "file_extension": ".py",
   "mimetype": "text/x-python",
   "name": "python",
   "nbconvert_exporter": "python",
   "pygments_lexer": "ipython2",
   "version": "2.7.6"
  }
 },
 "nbformat": 4,
 "nbformat_minor": 0
}