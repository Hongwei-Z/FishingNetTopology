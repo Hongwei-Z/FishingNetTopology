{
 "cells": [
  {
   "cell_type": "markdown",
   "metadata": {
    "collapsed": true,
    "pycharm": {
     "name": "#%% md\n"
    }
   },
   "source": [
    "Experiments and Feature Showcases"
   ]
  },
  {
   "cell_type": "code",
   "execution_count": 25,
   "outputs": [],
   "source": [
    "import FNT\n",
    "import secrets\n",
    "from datetime import datetime"
   ],
   "metadata": {
    "collapsed": false,
    "pycharm": {
     "name": "#%%\n"
    }
   }
  },
  {
   "cell_type": "markdown",
   "source": [
    "Define rate and number of nodes"
   ],
   "metadata": {
    "collapsed": false
   }
  },
  {
   "cell_type": "code",
   "execution_count": 26,
   "outputs": [],
   "source": [
    "rate = 10\n",
    "size = 100"
   ],
   "metadata": {
    "collapsed": false,
    "pycharm": {
     "name": "#%%\n"
    }
   }
  },
  {
   "cell_type": "markdown",
   "source": [
    "Create a FishingNet, add nodes"
   ],
   "metadata": {
    "collapsed": false
   }
  },
  {
   "cell_type": "code",
   "execution_count": 27,
   "outputs": [
    {
     "name": "stdout",
     "output_type": "stream",
     "text": [
      "Node 0, f3525dbbd73ba5afe97d9766612fafbe, 2022-03-02 14:54:58.490464, Tips: [None, None]\n",
      "Node 1, eb898845efdd16907b549d1bd317118b, 2022-03-02 14:54:58.490464, Tips: [0, None]\n",
      "Node 2, 9fd6aa32b4007b2ae1d2c25d010713cd, 2022-03-02 14:54:58.490464, Tips: [0, None]\n",
      "Node 3, 9e878cec4c1c182964e68a8286cd671d, 2022-03-02 14:54:58.490464, Tips: [1, None]\n",
      "Node 4, e08c71c003ce0d804a69eddd656c98f8, 2022-03-02 14:54:58.490464, Tips: [1, 2]\n",
      "Node 5, 029c97e2bd8c82ec402140c731d900b9, 2022-03-02 14:54:58.490464, Tips: [2, None]\n",
      "Node 6, 52399ca31f9f82f9ad275b9e90b4e43c, 2022-03-02 14:54:58.490464, Tips: [3, None]\n",
      "Node 7, c4744bbae85cd9e543096d17e9b4a059, 2022-03-02 14:54:58.490464, Tips: [3, 4]\n",
      "Node 8, 5d1aa0e04f251bf30ddc51fa0a1d356b, 2022-03-02 14:54:58.490464, Tips: [4, 5]\n",
      "Node 9, 4f98a1e7e81fd7c3f22ed5af5e5b1a30, 2022-03-02 14:54:58.490464, Tips: [5, None]\n",
      "Node 10, 00aa73bf392867ebbd74d73c718387e9, 2022-03-02 14:54:58.490464, Tips: [6, None]\n",
      "Node 11, bcf2febf71ef6dfaa18a41114b764cc1, 2022-03-02 14:54:58.490464, Tips: [6, 7]\n",
      "Node 12, 65a59f100e1efdd31a48cf691b10bcc5, 2022-03-02 14:54:58.490464, Tips: [7, 8]\n",
      "Node 13, 67fd9b0a612138998398858e3aa4dbbf, 2022-03-02 14:54:58.490464, Tips: [8, 9]\n",
      "Node 14, 9871f9ff2ddb0a0b966c973c2d4427ce, 2022-03-02 14:54:58.490464, Tips: [9, None]\n",
      "Node 15, 254109525a1e10a354ddd26cafc8226f, 2022-03-02 14:54:58.490464, Tips: [10, None]\n",
      "Node 16, b9932c532f1d6b08f9299c71da8c41e4, 2022-03-02 14:54:58.490464, Tips: [10, 11]\n",
      "Node 17, 6ad0d796bf49f8eb413b99fe1a94a221, 2022-03-02 14:54:58.490464, Tips: [11, 12]\n",
      "Node 18, f0b572f9dc9c6c420ff4947dcb878d17, 2022-03-02 14:54:58.490464, Tips: [12, 13]\n",
      "Node 19, 9de5b35cd36f69a4d991cd8a7556ee48, 2022-03-02 14:54:58.490464, Tips: [13, 14]\n",
      "Node 20, 992e04e4d4ca3d87735d6af211c6ffde, 2022-03-02 14:54:58.490464, Tips: [14, None]\n",
      "Node 21, a86d084c099bb703dd65c28f48269c1e, 2022-03-02 14:54:58.490464, Tips: [15, None]\n",
      "Node 22, ce02e4d5b872cf4905bd207f3720931f, 2022-03-02 14:54:58.490464, Tips: [15, 16]\n",
      "Node 23, 054c683edb09c3bb58e30b04d2e90cb5, 2022-03-02 14:54:58.490464, Tips: [16, 17]\n",
      "Node 24, 1369486a94c93f765135cac8461ebe92, 2022-03-02 14:54:58.490464, Tips: [17, 18]\n",
      "Node 25, 1739104fc0a80a1211bbcae77c679752, 2022-03-02 14:54:58.490464, Tips: [18, 19]\n",
      "Node 26, 772f193a92f08fbad64b6054edcb6a10, 2022-03-02 14:54:58.490464, Tips: [19, 20]\n",
      "Node 27, 167514301edf4a99d4843618f0aa1866, 2022-03-02 14:54:58.490464, Tips: [20, None]\n",
      "Node 28, 507acc061a7a6918b85d3f7129c2f8f6, 2022-03-02 14:54:58.490464, Tips: [21, None]\n",
      "Node 29, a0dde473293209805355b1db2dc522ee, 2022-03-02 14:54:58.490464, Tips: [21, 22]\n",
      "Node 30, 9af61eca773486205817c5a21e499b36, 2022-03-02 14:54:58.490464, Tips: [22, 23]\n",
      "Node 31, 4ac0423dd25333340a5e5762b583f63b, 2022-03-02 14:54:58.490464, Tips: [23, 24]\n",
      "Node 32, dbb4d14c286c6d1ed0166dfb380cfa06, 2022-03-02 14:54:58.490464, Tips: [24, 25]\n",
      "Node 33, 03e668525ab5c28af2d86ec10093bb33, 2022-03-02 14:54:58.490464, Tips: [25, 26]\n",
      "Node 34, 89c1a9f4884600fedbc49ee530c376d4, 2022-03-02 14:54:58.490464, Tips: [26, 27]\n",
      "Node 35, daa33dd1f0666db533ec2512b2d3f108, 2022-03-02 14:54:58.490464, Tips: [27, None]\n",
      "Node 36, 3f70856355f7a53734d2f65c9429bb18, 2022-03-02 14:54:58.490464, Tips: [28, None]\n",
      "Node 37, 4dc87d705c61b5d545d45b20968a7897, 2022-03-02 14:54:58.490464, Tips: [28, 29]\n",
      "Node 38, 34256c14a33e9f367f893176c1572072, 2022-03-02 14:54:58.490464, Tips: [29, 30]\n",
      "Node 39, 1f4ff873f6c773756176250cbbb1d0e8, 2022-03-02 14:54:58.490464, Tips: [30, 31]\n",
      "Node 40, bc8d8811b5b7ebeec4131d25a0d15d77, 2022-03-02 14:54:58.490464, Tips: [31, 32]\n",
      "Node 41, fe7ce691796503736419a8144d8fd6e8, 2022-03-02 14:54:58.490464, Tips: [32, 33]\n",
      "Node 42, 834cf690ded991e4304cf95e22ed3947, 2022-03-02 14:54:58.490464, Tips: [33, 34]\n",
      "Node 43, 7ab927b8b782065a5e1fb89b9ad895a6, 2022-03-02 14:54:58.490464, Tips: [34, 35]\n",
      "Node 44, 547a42a4ac09899c876f655d08433585, 2022-03-02 14:54:58.490464, Tips: [35, None]\n",
      "Node 45, d1f36ec167665163df9e473615b2c0b4, 2022-03-02 14:54:58.490464, Tips: [36, None]\n",
      "Node 46, 7d720469a0c9f0f98e5dc43c912d9bad, 2022-03-02 14:54:58.490464, Tips: [36, 37]\n",
      "Node 47, f5ab6b8df7fe0be5c97f99abeadce6bd, 2022-03-02 14:54:58.490464, Tips: [37, 38]\n",
      "Node 48, f16f9e7896886c0d641fc203e81c47b6, 2022-03-02 14:54:58.490464, Tips: [38, 39]\n",
      "Node 49, d22fc20ac8fa0660262c4f9b2beb0665, 2022-03-02 14:54:58.490464, Tips: [39, 40]\n",
      "Node 50, e525cad9632516bf9fb3bf9169ce1456, 2022-03-02 14:54:58.490464, Tips: [40, 41]\n",
      "Node 51, ff7850faa12811a04e5de625c40a62b2, 2022-03-02 14:54:58.490464, Tips: [41, 42]\n",
      "Node 52, 38ddd4bac0f5b9b4173b4292a2f5c6a6, 2022-03-02 14:54:58.490464, Tips: [42, 43]\n",
      "Node 53, 402524bad11cd4a21c9eb5026a4aa45c, 2022-03-02 14:54:58.490464, Tips: [43, 44]\n",
      "Node 54, 6df92a46d39bf225d75d00a0910c072c, 2022-03-02 14:54:58.490464, Tips: [44, None]\n",
      "Node 55, 4db197341e8fd5ec68f00fdb400d4da3, 2022-03-02 14:54:58.490464, Tips: [45, 46]\n",
      "Node 56, 9c08f98c9f6d01b9545c721a84932cdc, 2022-03-02 14:54:58.490464, Tips: [46, 47]\n",
      "Node 57, 0ae510ad59f4fccefa7cf1352fcacdf2, 2022-03-02 14:54:58.490464, Tips: [47, 48]\n",
      "Node 58, 3f8ddc60fc3ed8a88002328e91c7c785, 2022-03-02 14:54:58.490464, Tips: [48, 49]\n",
      "Node 59, 48f70943492e5e48cca7fefbeee6619d, 2022-03-02 14:54:58.490464, Tips: [49, 50]\n",
      "Node 60, ed0ee45a191d5f779487924c5c0f2f69, 2022-03-02 14:54:58.490464, Tips: [50, 51]\n",
      "Node 61, 271b61e0a8f5c0cdf5cf0eb60d1540c8, 2022-03-02 14:54:58.490464, Tips: [51, 52]\n",
      "Node 62, 364bc58e41dca2daaaa58b4331f706d4, 2022-03-02 14:54:58.490464, Tips: [52, 53]\n",
      "Node 63, 35bd95122eea81719ffe257ce470a6e2, 2022-03-02 14:54:58.490464, Tips: [53, 54]\n",
      "Node 64, 0c8a357b03e03921a8f202c057e30367, 2022-03-02 14:54:58.490464, Tips: [45, 55]\n",
      "Node 65, 89942b9973b8191a96a8b377236186a9, 2022-03-02 14:54:58.490464, Tips: [55, 56]\n",
      "Node 66, f1b6b778249c3c534f067275cf34f00f, 2022-03-02 14:54:58.490464, Tips: [56, 57]\n",
      "Node 67, 3e4a4ff5528f42dd8872132787563cfe, 2022-03-02 14:54:58.490464, Tips: [57, 58]\n",
      "Node 68, ab8321c50a27c57f4b4955527c3bdd4f, 2022-03-02 14:54:58.490464, Tips: [58, 59]\n",
      "Node 69, 46bdfadba1ed203ed01eebb1019d2dfc, 2022-03-02 14:54:58.490464, Tips: [59, 60]\n",
      "Node 70, 43f27451704b8da4d004a7a820a7bfd1, 2022-03-02 14:54:58.490464, Tips: [60, 61]\n",
      "Node 71, 4ba9659b8cf588164fda831007004bca, 2022-03-02 14:54:58.490464, Tips: [61, 62]\n",
      "Node 72, b4597b980a46a2604c0da4ac0a323be4, 2022-03-02 14:54:58.490464, Tips: [62, 63]\n",
      "Node 73, 543597d618f43d40a34f8e0e9ab66349, 2022-03-02 14:54:58.490464, Tips: [54, 63]\n",
      "Node 74, 3490b635997315d02cf0a24f9d7192e5, 2022-03-02 14:54:58.490464, Tips: [64, 65]\n",
      "Node 75, d98d210aa5f8c77a84da462bbeab4121, 2022-03-02 14:54:58.490464, Tips: [65, 66]\n",
      "Node 76, 3fdf5dde60b5b4942e22da3931efb89a, 2022-03-02 14:54:58.490464, Tips: [66, 67]\n",
      "Node 77, 0adac88ff9631bae80e11e3187d321a1, 2022-03-02 14:54:58.490464, Tips: [67, 68]\n",
      "Node 78, f3dead8a36878b1c79a96d36b7f7cdf3, 2022-03-02 14:54:58.490464, Tips: [68, 69]\n",
      "Node 79, 666c4e89552611d0988ed472fe653c97, 2022-03-02 14:54:58.490464, Tips: [69, 70]\n",
      "Node 80, 43e5760f5394f468b2badd354fedde62, 2022-03-02 14:54:58.490464, Tips: [70, 71]\n",
      "Node 81, d4fbec82543817627078eadc31c558e6, 2022-03-02 14:54:58.490464, Tips: [71, 72]\n",
      "Node 82, 04fc0b682f032abe530c3b0f4b5b90be, 2022-03-02 14:54:58.490464, Tips: [72, 73]\n",
      "Node 83, c4d028d2c81b46459b32b905bb989eea, 2022-03-02 14:54:58.490464, Tips: [64, 74]\n",
      "Node 84, f1e7b24a09926b372dfb6b0ba88a1ce7, 2022-03-02 14:54:58.491462, Tips: [74, 75]\n",
      "Node 85, 0eec7ad3642203cad4019a3826a79438, 2022-03-02 14:54:58.491462, Tips: [75, 76]\n",
      "Node 86, 1f6754545c128bd7d34ef8235ad10a76, 2022-03-02 14:54:58.491462, Tips: [76, 77]\n",
      "Node 87, b8d13d34340d627b8b28a55e4463a94b, 2022-03-02 14:54:58.491462, Tips: [77, 78]\n",
      "Node 88, 10efced40970635381408f9fd6774fc2, 2022-03-02 14:54:58.491462, Tips: [78, 79]\n",
      "Node 89, dc010fb02caf5f9934398b941298d7b4, 2022-03-02 14:54:58.491462, Tips: [79, 80]\n",
      "Node 90, 3d4a29aa7cd3f7aa356371006221e802, 2022-03-02 14:54:58.491462, Tips: [80, 81]\n",
      "Node 91, 4d6d00e29169e81714ca36aa917b4c72, 2022-03-02 14:54:58.491462, Tips: [81, 82]\n",
      "Node 92, 7af07631f136de3462ad0c906fbc24b5, 2022-03-02 14:54:58.491462, Tips: [73, 82]\n",
      "Node 93, ffb7dbe3a7e60ba03f59ed518c57b694, 2022-03-02 14:54:58.491462, Tips: [83, 84]\n",
      "Node 94, f975b8bc5d95633d392490c809384881, 2022-03-02 14:54:58.491462, Tips: [84, 85]\n",
      "Node 95, 6fb229bb67a99a7292d2e29df7a41f65, 2022-03-02 14:54:58.491462, Tips: [85, 86]\n",
      "Node 96, c27b0460b5bf2a1b31b4db80ad7e3304, 2022-03-02 14:54:58.491462, Tips: [86, 87]\n",
      "Node 97, 6291fbafafd064c483739a421e8f982f, 2022-03-02 14:54:58.491462, Tips: [87, 88]\n",
      "Node 98, 0f8942e848df92a1bef1c7dc4a9f020a, 2022-03-02 14:54:58.491462, Tips: [88, 89]\n",
      "Node 99, b07fa31937229fa6310d7ec3cd9b20b5, 2022-03-02 14:54:58.491462, Tips: [89, 90]\n"
     ]
    }
   ],
   "source": [
    "fnt = FNT.FishingNet(rate)\n",
    "for i in range(size):\n",
    "    fnt.nextNode(secrets.token_hex(16), datetime.now())\n",
    "fnt.printFNT()"
   ],
   "metadata": {
    "collapsed": false,
    "pycharm": {
     "name": "#%%\n"
    }
   }
  },
  {
   "cell_type": "markdown",
   "source": [
    "Find a node and show the result"
   ],
   "metadata": {
    "collapsed": false,
    "pycharm": {
     "name": "#%% md\n"
    }
   }
  },
  {
   "cell_type": "code",
   "execution_count": 28,
   "outputs": [
    {
     "name": "stdout",
     "output_type": "stream",
     "text": [
      "Node 80, 43e5760f5394f468b2badd354fedde62, 2022-03-02 14:54:58.490464, Tips: [70, 71]\n"
     ]
    }
   ],
   "source": [
    "fnt.findNode(80)"
   ],
   "metadata": {
    "collapsed": false,
    "pycharm": {
     "name": "#%%\n"
    }
   }
  },
  {
   "cell_type": "markdown",
   "source": [
    "Find tips for a node and show the result"
   ],
   "metadata": {
    "collapsed": false,
    "pycharm": {
     "name": "#%% md\n"
    }
   }
  },
  {
   "cell_type": "code",
   "execution_count": 29,
   "outputs": [
    {
     "name": "stdout",
     "output_type": "stream",
     "text": [
      "Node 70, 43f27451704b8da4d004a7a820a7bfd1, 2022-03-02 14:54:58.490464, Tips: [60, 61]\n",
      "Node 71, 4ba9659b8cf588164fda831007004bca, 2022-03-02 14:54:58.490464, Tips: [61, 62]\n"
     ]
    }
   ],
   "source": [
    "fnt.findTips(80)"
   ],
   "metadata": {
    "collapsed": false,
    "pycharm": {
     "name": "#%%\n"
    }
   }
  },
  {
   "cell_type": "markdown",
   "source": [
    "Find the two nodes that approve this node"
   ],
   "metadata": {
    "collapsed": false,
    "pycharm": {
     "name": "#%% md\n"
    }
   }
  },
  {
   "cell_type": "code",
   "execution_count": 30,
   "outputs": [
    {
     "name": "stdout",
     "output_type": "stream",
     "text": [
      "Node 89, dc010fb02caf5f9934398b941298d7b4, 2022-03-02 14:54:58.491462, Tips: [79, 80]\n",
      "Node 90, 3d4a29aa7cd3f7aa356371006221e802, 2022-03-02 14:54:58.491462, Tips: [80, 81]\n"
     ]
    }
   ],
   "source": [
    "fnt.findApprove(80)"
   ],
   "metadata": {
    "collapsed": false,
    "pycharm": {
     "name": "#%%\n"
    }
   }
  },
  {
   "cell_type": "markdown",
   "source": [
    "Find the cumulative weight of a node"
   ],
   "metadata": {
    "collapsed": false
   }
  },
  {
   "cell_type": "code",
   "execution_count": 31,
   "outputs": [
    {
     "data": {
      "text/plain": "5"
     },
     "execution_count": 31,
     "metadata": {},
     "output_type": "execute_result"
    }
   ],
   "source": [
    "fnt.findCW(80)"
   ],
   "metadata": {
    "collapsed": false,
    "pycharm": {
     "name": "#%%\n"
    }
   }
  },
  {
   "cell_type": "markdown",
   "source": [
    "Print all nodes that have directly or indirectly approved this node"
   ],
   "metadata": {
    "collapsed": false
   }
  },
  {
   "cell_type": "code",
   "execution_count": 32,
   "outputs": [
    {
     "name": "stdout",
     "output_type": "stream",
     "text": [
      "Node 80, 43e5760f5394f468b2badd354fedde62, 2022-03-02 14:54:58.490464, Tips: [70, 71]\n",
      "Node 89, dc010fb02caf5f9934398b941298d7b4, 2022-03-02 14:54:58.491462, Tips: [79, 80]\n",
      "Node 90, 3d4a29aa7cd3f7aa356371006221e802, 2022-03-02 14:54:58.491462, Tips: [80, 81]\n",
      "Node 98, 0f8942e848df92a1bef1c7dc4a9f020a, 2022-03-02 14:54:58.491462, Tips: [88, 89]\n",
      "Node 99, b07fa31937229fa6310d7ec3cd9b20b5, 2022-03-02 14:54:58.491462, Tips: [89, 90]\n"
     ]
    }
   ],
   "source": [
    "fnt.findSubnet(80)"
   ],
   "metadata": {
    "collapsed": false,
    "pycharm": {
     "name": "#%%\n"
    }
   }
  },
  {
   "cell_type": "markdown",
   "source": [
    "Disable a node, only disconnect from other nodes, not delete data"
   ],
   "metadata": {
    "collapsed": false
   }
  },
  {
   "cell_type": "code",
   "execution_count": 33,
   "outputs": [
    {
     "name": "stdout",
     "output_type": "stream",
     "text": [
      "Node 0, f3525dbbd73ba5afe97d9766612fafbe, 2022-03-02 14:54:58.490464, Tips: [None, None]\n",
      "Node 1, eb898845efdd16907b549d1bd317118b, 2022-03-02 14:54:58.490464, Tips: [0, None]\n",
      "Node 2, 9fd6aa32b4007b2ae1d2c25d010713cd, 2022-03-02 14:54:58.490464, Tips: [0, None]\n",
      "Node 3, 9e878cec4c1c182964e68a8286cd671d, 2022-03-02 14:54:58.490464, Tips: [1, None]\n",
      "Node 4, e08c71c003ce0d804a69eddd656c98f8, 2022-03-02 14:54:58.490464, Tips: [1, 2]\n",
      "Node 5, 029c97e2bd8c82ec402140c731d900b9, 2022-03-02 14:54:58.490464, Tips: [2, None]\n",
      "Node 6, 52399ca31f9f82f9ad275b9e90b4e43c, 2022-03-02 14:54:58.490464, Tips: [3, None]\n",
      "Node 7, c4744bbae85cd9e543096d17e9b4a059, 2022-03-02 14:54:58.490464, Tips: [3, 4]\n",
      "Node 8, 5d1aa0e04f251bf30ddc51fa0a1d356b, 2022-03-02 14:54:58.490464, Tips: [4, 5]\n",
      "Node 9, 4f98a1e7e81fd7c3f22ed5af5e5b1a30, 2022-03-02 14:54:58.490464, Tips: [5, None]\n",
      "Node 10, 00aa73bf392867ebbd74d73c718387e9, 2022-03-02 14:54:58.490464, Tips: [6, None]\n",
      "Node 11, bcf2febf71ef6dfaa18a41114b764cc1, 2022-03-02 14:54:58.490464, Tips: [6, 7]\n",
      "Node 12, 65a59f100e1efdd31a48cf691b10bcc5, 2022-03-02 14:54:58.490464, Tips: [7, 8]\n",
      "Node 13, 67fd9b0a612138998398858e3aa4dbbf, 2022-03-02 14:54:58.490464, Tips: [8, 9]\n",
      "Node 14, 9871f9ff2ddb0a0b966c973c2d4427ce, 2022-03-02 14:54:58.490464, Tips: [9, None]\n",
      "Node 15, 254109525a1e10a354ddd26cafc8226f, 2022-03-02 14:54:58.490464, Tips: [10, None]\n",
      "Node 16, b9932c532f1d6b08f9299c71da8c41e4, 2022-03-02 14:54:58.490464, Tips: [10, 11]\n",
      "Node 17, 6ad0d796bf49f8eb413b99fe1a94a221, 2022-03-02 14:54:58.490464, Tips: [11, 12]\n",
      "Node 18, f0b572f9dc9c6c420ff4947dcb878d17, 2022-03-02 14:54:58.490464, Tips: [12, 13]\n",
      "Node 19, 9de5b35cd36f69a4d991cd8a7556ee48, 2022-03-02 14:54:58.490464, Tips: [13, 14]\n",
      "Node 20, 992e04e4d4ca3d87735d6af211c6ffde, 2022-03-02 14:54:58.490464, Tips: [14, None]\n",
      "Node 21, a86d084c099bb703dd65c28f48269c1e, 2022-03-02 14:54:58.490464, Tips: [15, None]\n",
      "Node 22, ce02e4d5b872cf4905bd207f3720931f, 2022-03-02 14:54:58.490464, Tips: [15, 16]\n",
      "Node 23, 054c683edb09c3bb58e30b04d2e90cb5, 2022-03-02 14:54:58.490464, Tips: [16, 17]\n",
      "Node 24, 1369486a94c93f765135cac8461ebe92, 2022-03-02 14:54:58.490464, Tips: [17, 18]\n",
      "Node 25, 1739104fc0a80a1211bbcae77c679752, 2022-03-02 14:54:58.490464, Tips: [18, 19]\n",
      "Node 26, 772f193a92f08fbad64b6054edcb6a10, 2022-03-02 14:54:58.490464, Tips: [19, 20]\n",
      "Node 27, 167514301edf4a99d4843618f0aa1866, 2022-03-02 14:54:58.490464, Tips: [20, None]\n",
      "Node 28, 507acc061a7a6918b85d3f7129c2f8f6, 2022-03-02 14:54:58.490464, Tips: [21, None]\n",
      "Node 29, a0dde473293209805355b1db2dc522ee, 2022-03-02 14:54:58.490464, Tips: [21, 22]\n",
      "Node 30, 9af61eca773486205817c5a21e499b36, 2022-03-02 14:54:58.490464, Tips: [22, 23]\n",
      "Node 31, 4ac0423dd25333340a5e5762b583f63b, 2022-03-02 14:54:58.490464, Tips: [23, 24]\n",
      "Node 32, dbb4d14c286c6d1ed0166dfb380cfa06, 2022-03-02 14:54:58.490464, Tips: [24, 25]\n",
      "Node 33, 03e668525ab5c28af2d86ec10093bb33, 2022-03-02 14:54:58.490464, Tips: [25, 26]\n",
      "Node 34, 89c1a9f4884600fedbc49ee530c376d4, 2022-03-02 14:54:58.490464, Tips: [26, 27]\n",
      "Node 35, daa33dd1f0666db533ec2512b2d3f108, 2022-03-02 14:54:58.490464, Tips: [27, None]\n",
      "Node 36, 3f70856355f7a53734d2f65c9429bb18, 2022-03-02 14:54:58.490464, Tips: [28, None]\n",
      "Node 37, 4dc87d705c61b5d545d45b20968a7897, 2022-03-02 14:54:58.490464, Tips: [28, 29]\n",
      "Node 38, 34256c14a33e9f367f893176c1572072, 2022-03-02 14:54:58.490464, Tips: [29, 30]\n",
      "Node 39, 1f4ff873f6c773756176250cbbb1d0e8, 2022-03-02 14:54:58.490464, Tips: [30, 31]\n",
      "Node 40, bc8d8811b5b7ebeec4131d25a0d15d77, 2022-03-02 14:54:58.490464, Tips: [31, 32]\n",
      "Node 41, fe7ce691796503736419a8144d8fd6e8, 2022-03-02 14:54:58.490464, Tips: [32, 33]\n",
      "Node 42, 834cf690ded991e4304cf95e22ed3947, 2022-03-02 14:54:58.490464, Tips: [33, 34]\n",
      "Node 43, 7ab927b8b782065a5e1fb89b9ad895a6, 2022-03-02 14:54:58.490464, Tips: [34, 35]\n",
      "Node 44, 547a42a4ac09899c876f655d08433585, 2022-03-02 14:54:58.490464, Tips: [35, None]\n",
      "Node 45, d1f36ec167665163df9e473615b2c0b4, 2022-03-02 14:54:58.490464, Tips: [36, None]\n",
      "Node 46, 7d720469a0c9f0f98e5dc43c912d9bad, 2022-03-02 14:54:58.490464, Tips: [36, 37]\n",
      "Node 47, f5ab6b8df7fe0be5c97f99abeadce6bd, 2022-03-02 14:54:58.490464, Tips: [37, 38]\n",
      "Node 48, f16f9e7896886c0d641fc203e81c47b6, 2022-03-02 14:54:58.490464, Tips: [38, 39]\n",
      "Node 49, d22fc20ac8fa0660262c4f9b2beb0665, 2022-03-02 14:54:58.490464, Tips: [39, 40]\n",
      "Node 50, e525cad9632516bf9fb3bf9169ce1456, 2022-03-02 14:54:58.490464, Tips: [40, 41]\n",
      "Node 51, ff7850faa12811a04e5de625c40a62b2, 2022-03-02 14:54:58.490464, Tips: [41, 42]\n",
      "Node 52, 38ddd4bac0f5b9b4173b4292a2f5c6a6, 2022-03-02 14:54:58.490464, Tips: [42, 43]\n",
      "Node 53, 402524bad11cd4a21c9eb5026a4aa45c, 2022-03-02 14:54:58.490464, Tips: [43, 44]\n",
      "Node 54, 6df92a46d39bf225d75d00a0910c072c, 2022-03-02 14:54:58.490464, Tips: [44, None]\n",
      "Node 55, 4db197341e8fd5ec68f00fdb400d4da3, 2022-03-02 14:54:58.490464, Tips: [45, 46]\n",
      "Node 56, 9c08f98c9f6d01b9545c721a84932cdc, 2022-03-02 14:54:58.490464, Tips: [46, 47]\n",
      "Node 57, 0ae510ad59f4fccefa7cf1352fcacdf2, 2022-03-02 14:54:58.490464, Tips: [47, 48]\n",
      "Node 58, 3f8ddc60fc3ed8a88002328e91c7c785, 2022-03-02 14:54:58.490464, Tips: [48, 49]\n",
      "Node 59, 48f70943492e5e48cca7fefbeee6619d, 2022-03-02 14:54:58.490464, Tips: [49, 50]\n",
      "Node 60, ed0ee45a191d5f779487924c5c0f2f69, 2022-03-02 14:54:58.490464, Tips: [50, 51]\n",
      "Node 61, 271b61e0a8f5c0cdf5cf0eb60d1540c8, 2022-03-02 14:54:58.490464, Tips: [51, 52]\n",
      "Node 62, 364bc58e41dca2daaaa58b4331f706d4, 2022-03-02 14:54:58.490464, Tips: [52, 53]\n",
      "Node 63, 35bd95122eea81719ffe257ce470a6e2, 2022-03-02 14:54:58.490464, Tips: [53, 54]\n",
      "Node 64, 0c8a357b03e03921a8f202c057e30367, 2022-03-02 14:54:58.490464, Tips: [45, 55]\n",
      "Node 65, 89942b9973b8191a96a8b377236186a9, 2022-03-02 14:54:58.490464, Tips: [55, 56]\n",
      "Node 66, f1b6b778249c3c534f067275cf34f00f, 2022-03-02 14:54:58.490464, Tips: [56, 57]\n",
      "Node 67, 3e4a4ff5528f42dd8872132787563cfe, 2022-03-02 14:54:58.490464, Tips: [57, 58]\n",
      "Node 68, ab8321c50a27c57f4b4955527c3bdd4f, 2022-03-02 14:54:58.490464, Tips: [58, 59]\n",
      "Node 69, 46bdfadba1ed203ed01eebb1019d2dfc, 2022-03-02 14:54:58.490464, Tips: [59, 60]\n",
      "Node 70, 43f27451704b8da4d004a7a820a7bfd1, 2022-03-02 14:54:58.490464, Tips: [60, 61]\n",
      "Node 71, 4ba9659b8cf588164fda831007004bca, 2022-03-02 14:54:58.490464, Tips: [61, 62]\n",
      "Node 72, b4597b980a46a2604c0da4ac0a323be4, 2022-03-02 14:54:58.490464, Tips: [62, 63]\n",
      "Node 73, 543597d618f43d40a34f8e0e9ab66349, 2022-03-02 14:54:58.490464, Tips: [54, 63]\n",
      "Node 74, 3490b635997315d02cf0a24f9d7192e5, 2022-03-02 14:54:58.490464, Tips: [64, 65]\n",
      "Node 75, d98d210aa5f8c77a84da462bbeab4121, 2022-03-02 14:54:58.490464, Tips: [65, 66]\n",
      "Node 76, 3fdf5dde60b5b4942e22da3931efb89a, 2022-03-02 14:54:58.490464, Tips: [66, 67]\n",
      "Node 77, 0adac88ff9631bae80e11e3187d321a1, 2022-03-02 14:54:58.490464, Tips: [67, 68]\n",
      "Node 78, f3dead8a36878b1c79a96d36b7f7cdf3, 2022-03-02 14:54:58.490464, Tips: [68, 69]\n",
      "Node 79, 666c4e89552611d0988ed472fe653c97, 2022-03-02 14:54:58.490464, Tips: [69, 70]\n",
      "Node 80 disabled\n",
      "Node 81, d4fbec82543817627078eadc31c558e6, 2022-03-02 14:54:58.490464, Tips: [71, 72]\n",
      "Node 82, 04fc0b682f032abe530c3b0f4b5b90be, 2022-03-02 14:54:58.490464, Tips: [72, 73]\n",
      "Node 83, c4d028d2c81b46459b32b905bb989eea, 2022-03-02 14:54:58.490464, Tips: [64, 74]\n",
      "Node 84, f1e7b24a09926b372dfb6b0ba88a1ce7, 2022-03-02 14:54:58.491462, Tips: [74, 75]\n",
      "Node 85, 0eec7ad3642203cad4019a3826a79438, 2022-03-02 14:54:58.491462, Tips: [75, 76]\n",
      "Node 86, 1f6754545c128bd7d34ef8235ad10a76, 2022-03-02 14:54:58.491462, Tips: [76, 77]\n",
      "Node 87, b8d13d34340d627b8b28a55e4463a94b, 2022-03-02 14:54:58.491462, Tips: [77, 78]\n",
      "Node 88, 10efced40970635381408f9fd6774fc2, 2022-03-02 14:54:58.491462, Tips: [78, 79]\n",
      "Node 89, dc010fb02caf5f9934398b941298d7b4, 2022-03-02 14:54:58.491462, Tips: [79, None]\n",
      "Node 90, 3d4a29aa7cd3f7aa356371006221e802, 2022-03-02 14:54:58.491462, Tips: [None, 81]\n",
      "Node 91, 4d6d00e29169e81714ca36aa917b4c72, 2022-03-02 14:54:58.491462, Tips: [81, 82]\n",
      "Node 92, 7af07631f136de3462ad0c906fbc24b5, 2022-03-02 14:54:58.491462, Tips: [73, 82]\n",
      "Node 93, ffb7dbe3a7e60ba03f59ed518c57b694, 2022-03-02 14:54:58.491462, Tips: [83, 84]\n",
      "Node 94, f975b8bc5d95633d392490c809384881, 2022-03-02 14:54:58.491462, Tips: [84, 85]\n",
      "Node 95, 6fb229bb67a99a7292d2e29df7a41f65, 2022-03-02 14:54:58.491462, Tips: [85, 86]\n",
      "Node 96, c27b0460b5bf2a1b31b4db80ad7e3304, 2022-03-02 14:54:58.491462, Tips: [86, 87]\n",
      "Node 97, 6291fbafafd064c483739a421e8f982f, 2022-03-02 14:54:58.491462, Tips: [87, 88]\n",
      "Node 98, 0f8942e848df92a1bef1c7dc4a9f020a, 2022-03-02 14:54:58.491462, Tips: [88, 89]\n",
      "Node 99, b07fa31937229fa6310d7ec3cd9b20b5, 2022-03-02 14:54:58.491462, Tips: [89, 90]\n"
     ]
    }
   ],
   "source": [
    "fnt.disableNode(80)\n",
    "fnt.printFNT()"
   ],
   "metadata": {
    "collapsed": false,
    "pycharm": {
     "name": "#%%\n"
    }
   }
  },
  {
   "cell_type": "code",
   "execution_count": 34,
   "outputs": [
    {
     "name": "stdout",
     "output_type": "stream",
     "text": [
      "Node 80, 43e5760f5394f468b2badd354fedde62, 2022-03-02 14:54:58.490464, Tips: [70, 71]\n"
     ]
    }
   ],
   "source": [
    "fnt.findNode(80)"
   ],
   "metadata": {
    "collapsed": false,
    "pycharm": {
     "name": "#%%\n"
    }
   }
  },
  {
   "cell_type": "markdown",
   "source": [
    "Get lists of throughput, utilization, and waste rate at each layer"
   ],
   "metadata": {
    "collapsed": false
   }
  },
  {
   "cell_type": "code",
   "execution_count": 35,
   "outputs": [
    {
     "data": {
      "text/plain": "[1, 2, 3, 4, 5, 6, 7, 8, 9, 10, 9, 10, 9, 10, 7]"
     },
     "execution_count": 35,
     "metadata": {},
     "output_type": "execute_result"
    }
   ],
   "source": [
    "fnt.findThroughput()"
   ],
   "metadata": {
    "collapsed": false,
    "pycharm": {
     "name": "#%%\n"
    }
   }
  },
  {
   "cell_type": "code",
   "execution_count": 36,
   "outputs": [
    {
     "data": {
      "text/plain": "[0.1, 0.2, 0.3, 0.4, 0.5, 0.6, 0.7, 0.8, 0.9, 1.0, 0.9, 1.0, 0.9, 1.0, 0.7]"
     },
     "execution_count": 36,
     "metadata": {},
     "output_type": "execute_result"
    }
   ],
   "source": [
    "fnt.findUtilization()"
   ],
   "metadata": {
    "collapsed": false,
    "pycharm": {
     "name": "#%%\n"
    }
   }
  },
  {
   "cell_type": "code",
   "execution_count": 37,
   "outputs": [
    {
     "data": {
      "text/plain": "[0.9,\n 0.8,\n 0.7,\n 0.6,\n 0.5,\n 0.4,\n 0.30000000000000004,\n 0.19999999999999996,\n 0.09999999999999998,\n 0.0,\n 0.09999999999999998,\n 0.0,\n 0.09999999999999998,\n 0.0,\n 0.30000000000000004]"
     },
     "execution_count": 37,
     "metadata": {},
     "output_type": "execute_result"
    }
   ],
   "source": [
    "fnt.findWaste()"
   ],
   "metadata": {
    "collapsed": false,
    "pycharm": {
     "name": "#%%\n"
    }
   }
  }
 ],
 "metadata": {
  "kernelspec": {
   "display_name": "Python 3",
   "language": "python",
   "name": "python3"
  },
  "language_info": {
   "codemirror_mode": {
    "name": "ipython",
    "version": 2
   },
   "file_extension": ".py",
   "mimetype": "text/x-python",
   "name": "python",
   "nbconvert_exporter": "python",
   "pygments_lexer": "ipython2",
   "version": "2.7.6"
  }
 },
 "nbformat": 4,
 "nbformat_minor": 0
}