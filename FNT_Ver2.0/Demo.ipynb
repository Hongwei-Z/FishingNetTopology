{
 "cells": [
  {
   "cell_type": "markdown",
   "source": [
    "FNT Function Demonstration"
   ],
   "metadata": {
    "collapsed": false,
    "pycharm": {
     "name": "#%% md\n"
    }
   }
  },
  {
   "cell_type": "code",
   "execution_count": 23,
   "metadata": {
    "collapsed": true,
    "pycharm": {
     "name": "#%%\n"
    }
   },
   "outputs": [],
   "source": [
    "import FNT\n",
    "from datetime import datetime"
   ]
  },
  {
   "cell_type": "markdown",
   "source": [
    "Sensor: SensorID, Status, Location.\n",
    "Dataset: Data Type, Data.\n",
    "Packet: PacketID, Timestamp, Auditee, Auditor, Sensor Info, Dataset."
   ],
   "metadata": {
    "collapsed": false,
    "pycharm": {
     "name": "#%% md\n"
    }
   }
  },
  {
   "cell_type": "code",
   "execution_count": 24,
   "outputs": [],
   "source": [
    "f = FNT.FishingNet(10)\n",
    "for i in range(100):\n",
    "    f.new_packet(datetime.now().strftime(\"%x\"), \"01\", \"00\", \"HFX\", \"Tem\", i)"
   ],
   "metadata": {
    "collapsed": false,
    "pycharm": {
     "name": "#%%\n"
    }
   }
  },
  {
   "cell_type": "code",
   "execution_count": 25,
   "outputs": [
    {
     "name": "stdout",
     "output_type": "stream",
     "text": [
      "Packet ID: 0, Timestamp: 02/27/23, Auditee: [None, None], Auditor: [1, 2]. SensorID: 01, Status: 00, Location: HFX. Data: Tem is 0.\n",
      "Packet ID: 1, Timestamp: 02/27/23, Auditee: [0, None], Auditor: [3, 4]. SensorID: 01, Status: 00, Location: HFX. Data: Tem is 1.\n",
      "Packet ID: 2, Timestamp: 02/27/23, Auditee: [0, None], Auditor: [4, 5]. SensorID: 01, Status: 00, Location: HFX. Data: Tem is 2.\n",
      "Packet ID: 3, Timestamp: 02/27/23, Auditee: [1, None], Auditor: [6, 7]. SensorID: 01, Status: 00, Location: HFX. Data: Tem is 3.\n",
      "Packet ID: 4, Timestamp: 02/27/23, Auditee: [1, 2], Auditor: [7, 8]. SensorID: 01, Status: 00, Location: HFX. Data: Tem is 4.\n",
      "Packet ID: 5, Timestamp: 02/27/23, Auditee: [2, None], Auditor: [8, 9]. SensorID: 01, Status: 00, Location: HFX. Data: Tem is 5.\n",
      "Packet ID: 6, Timestamp: 02/27/23, Auditee: [3, None], Auditor: [10, 11]. SensorID: 01, Status: 00, Location: HFX. Data: Tem is 6.\n",
      "Packet ID: 7, Timestamp: 02/27/23, Auditee: [3, 4], Auditor: [11, 12]. SensorID: 01, Status: 00, Location: HFX. Data: Tem is 7.\n",
      "Packet ID: 8, Timestamp: 02/27/23, Auditee: [4, 5], Auditor: [12, 13]. SensorID: 01, Status: 00, Location: HFX. Data: Tem is 8.\n",
      "Packet ID: 9, Timestamp: 02/27/23, Auditee: [5, None], Auditor: [13, 14]. SensorID: 01, Status: 00, Location: HFX. Data: Tem is 9.\n",
      "Packet ID: 10, Timestamp: 02/27/23, Auditee: [6, None], Auditor: [15, 16]. SensorID: 01, Status: 00, Location: HFX. Data: Tem is 10.\n",
      "Packet ID: 11, Timestamp: 02/27/23, Auditee: [6, 7], Auditor: [16, 17]. SensorID: 01, Status: 00, Location: HFX. Data: Tem is 11.\n",
      "Packet ID: 12, Timestamp: 02/27/23, Auditee: [7, 8], Auditor: [17, 18]. SensorID: 01, Status: 00, Location: HFX. Data: Tem is 12.\n",
      "Packet ID: 13, Timestamp: 02/27/23, Auditee: [8, 9], Auditor: [18, 19]. SensorID: 01, Status: 00, Location: HFX. Data: Tem is 13.\n",
      "Packet ID: 14, Timestamp: 02/27/23, Auditee: [9, None], Auditor: [19, 20]. SensorID: 01, Status: 00, Location: HFX. Data: Tem is 14.\n",
      "Packet ID: 15, Timestamp: 02/27/23, Auditee: [10, None], Auditor: [21, 22]. SensorID: 01, Status: 00, Location: HFX. Data: Tem is 15.\n",
      "Packet ID: 16, Timestamp: 02/27/23, Auditee: [10, 11], Auditor: [22, 23]. SensorID: 01, Status: 00, Location: HFX. Data: Tem is 16.\n",
      "Packet ID: 17, Timestamp: 02/27/23, Auditee: [11, 12], Auditor: [23, 24]. SensorID: 01, Status: 00, Location: HFX. Data: Tem is 17.\n",
      "Packet ID: 18, Timestamp: 02/27/23, Auditee: [12, 13], Auditor: [24, 25]. SensorID: 01, Status: 00, Location: HFX. Data: Tem is 18.\n",
      "Packet ID: 19, Timestamp: 02/27/23, Auditee: [13, 14], Auditor: [25, 26]. SensorID: 01, Status: 00, Location: HFX. Data: Tem is 19.\n",
      "Packet ID: 20, Timestamp: 02/27/23, Auditee: [14, None], Auditor: [26, 27]. SensorID: 01, Status: 00, Location: HFX. Data: Tem is 20.\n",
      "Packet ID: 21, Timestamp: 02/27/23, Auditee: [15, None], Auditor: [28, 29]. SensorID: 01, Status: 00, Location: HFX. Data: Tem is 21.\n",
      "Packet ID: 22, Timestamp: 02/27/23, Auditee: [15, 16], Auditor: [29, 30]. SensorID: 01, Status: 00, Location: HFX. Data: Tem is 22.\n",
      "Packet ID: 23, Timestamp: 02/27/23, Auditee: [16, 17], Auditor: [30, 31]. SensorID: 01, Status: 00, Location: HFX. Data: Tem is 23.\n",
      "Packet ID: 24, Timestamp: 02/27/23, Auditee: [17, 18], Auditor: [31, 32]. SensorID: 01, Status: 00, Location: HFX. Data: Tem is 24.\n",
      "Packet ID: 25, Timestamp: 02/27/23, Auditee: [18, 19], Auditor: [32, 33]. SensorID: 01, Status: 00, Location: HFX. Data: Tem is 25.\n",
      "Packet ID: 26, Timestamp: 02/27/23, Auditee: [19, 20], Auditor: [33, 34]. SensorID: 01, Status: 00, Location: HFX. Data: Tem is 26.\n",
      "Packet ID: 27, Timestamp: 02/27/23, Auditee: [20, None], Auditor: [34, 35]. SensorID: 01, Status: 00, Location: HFX. Data: Tem is 27.\n",
      "Packet ID: 28, Timestamp: 02/27/23, Auditee: [21, None], Auditor: [36, 37]. SensorID: 01, Status: 00, Location: HFX. Data: Tem is 28.\n",
      "Packet ID: 29, Timestamp: 02/27/23, Auditee: [21, 22], Auditor: [37, 38]. SensorID: 01, Status: 00, Location: HFX. Data: Tem is 29.\n",
      "Packet ID: 30, Timestamp: 02/27/23, Auditee: [22, 23], Auditor: [38, 39]. SensorID: 01, Status: 00, Location: HFX. Data: Tem is 30.\n",
      "Packet ID: 31, Timestamp: 02/27/23, Auditee: [23, 24], Auditor: [39, 40]. SensorID: 01, Status: 00, Location: HFX. Data: Tem is 31.\n",
      "Packet ID: 32, Timestamp: 02/27/23, Auditee: [24, 25], Auditor: [40, 41]. SensorID: 01, Status: 00, Location: HFX. Data: Tem is 32.\n",
      "Packet ID: 33, Timestamp: 02/27/23, Auditee: [25, 26], Auditor: [41, 42]. SensorID: 01, Status: 00, Location: HFX. Data: Tem is 33.\n",
      "Packet ID: 34, Timestamp: 02/27/23, Auditee: [26, 27], Auditor: [42, 43]. SensorID: 01, Status: 00, Location: HFX. Data: Tem is 34.\n",
      "Packet ID: 35, Timestamp: 02/27/23, Auditee: [27, None], Auditor: [43, 44]. SensorID: 01, Status: 00, Location: HFX. Data: Tem is 35.\n",
      "Packet ID: 36, Timestamp: 02/27/23, Auditee: [28, None], Auditor: [45, 46]. SensorID: 01, Status: 00, Location: HFX. Data: Tem is 36.\n",
      "Packet ID: 37, Timestamp: 02/27/23, Auditee: [28, 29], Auditor: [46, 47]. SensorID: 01, Status: 00, Location: HFX. Data: Tem is 37.\n",
      "Packet ID: 38, Timestamp: 02/27/23, Auditee: [29, 30], Auditor: [47, 48]. SensorID: 01, Status: 00, Location: HFX. Data: Tem is 38.\n",
      "Packet ID: 39, Timestamp: 02/27/23, Auditee: [30, 31], Auditor: [48, 49]. SensorID: 01, Status: 00, Location: HFX. Data: Tem is 39.\n",
      "Packet ID: 40, Timestamp: 02/27/23, Auditee: [31, 32], Auditor: [49, 50]. SensorID: 01, Status: 00, Location: HFX. Data: Tem is 40.\n",
      "Packet ID: 41, Timestamp: 02/27/23, Auditee: [32, 33], Auditor: [50, 51]. SensorID: 01, Status: 00, Location: HFX. Data: Tem is 41.\n",
      "Packet ID: 42, Timestamp: 02/27/23, Auditee: [33, 34], Auditor: [51, 52]. SensorID: 01, Status: 00, Location: HFX. Data: Tem is 42.\n",
      "Packet ID: 43, Timestamp: 02/27/23, Auditee: [34, 35], Auditor: [52, 53]. SensorID: 01, Status: 00, Location: HFX. Data: Tem is 43.\n",
      "Packet ID: 44, Timestamp: 02/27/23, Auditee: [35, None], Auditor: [53, 54]. SensorID: 01, Status: 00, Location: HFX. Data: Tem is 44.\n",
      "Packet ID: 45, Timestamp: 02/27/23, Auditee: [36, None], Auditor: [55, 64]. SensorID: 01, Status: 00, Location: HFX. Data: Tem is 45.\n",
      "Packet ID: 46, Timestamp: 02/27/23, Auditee: [36, 37], Auditor: [55, 56]. SensorID: 01, Status: 00, Location: HFX. Data: Tem is 46.\n",
      "Packet ID: 47, Timestamp: 02/27/23, Auditee: [37, 38], Auditor: [56, 57]. SensorID: 01, Status: 00, Location: HFX. Data: Tem is 47.\n",
      "Packet ID: 48, Timestamp: 02/27/23, Auditee: [38, 39], Auditor: [57, 58]. SensorID: 01, Status: 00, Location: HFX. Data: Tem is 48.\n",
      "Packet ID: 49, Timestamp: 02/27/23, Auditee: [39, 40], Auditor: [58, 59]. SensorID: 01, Status: 00, Location: HFX. Data: Tem is 49.\n",
      "Packet ID: 50, Timestamp: 02/27/23, Auditee: [40, 41], Auditor: [59, 60]. SensorID: 01, Status: 00, Location: HFX. Data: Tem is 50.\n",
      "Packet ID: 51, Timestamp: 02/27/23, Auditee: [41, 42], Auditor: [60, 61]. SensorID: 01, Status: 00, Location: HFX. Data: Tem is 51.\n",
      "Packet ID: 52, Timestamp: 02/27/23, Auditee: [42, 43], Auditor: [61, 62]. SensorID: 01, Status: 00, Location: HFX. Data: Tem is 52.\n",
      "Packet ID: 53, Timestamp: 02/27/23, Auditee: [43, 44], Auditor: [62, 63]. SensorID: 01, Status: 00, Location: HFX. Data: Tem is 53.\n",
      "Packet ID: 54, Timestamp: 02/27/23, Auditee: [44, None], Auditor: [63, 73]. SensorID: 01, Status: 00, Location: HFX. Data: Tem is 54.\n",
      "Packet ID: 55, Timestamp: 02/27/23, Auditee: [45, 46], Auditor: [64, 65]. SensorID: 01, Status: 00, Location: HFX. Data: Tem is 55.\n",
      "Packet ID: 56, Timestamp: 02/27/23, Auditee: [46, 47], Auditor: [65, 66]. SensorID: 01, Status: 00, Location: HFX. Data: Tem is 56.\n",
      "Packet ID: 57, Timestamp: 02/27/23, Auditee: [47, 48], Auditor: [66, 67]. SensorID: 01, Status: 00, Location: HFX. Data: Tem is 57.\n",
      "Packet ID: 58, Timestamp: 02/27/23, Auditee: [48, 49], Auditor: [67, 68]. SensorID: 01, Status: 00, Location: HFX. Data: Tem is 58.\n",
      "Packet ID: 59, Timestamp: 02/27/23, Auditee: [49, 50], Auditor: [68, 69]. SensorID: 01, Status: 00, Location: HFX. Data: Tem is 59.\n",
      "Packet ID: 60, Timestamp: 02/27/23, Auditee: [50, 51], Auditor: [69, 70]. SensorID: 01, Status: 00, Location: HFX. Data: Tem is 60.\n",
      "Packet ID: 61, Timestamp: 02/27/23, Auditee: [51, 52], Auditor: [70, 71]. SensorID: 01, Status: 00, Location: HFX. Data: Tem is 61.\n",
      "Packet ID: 62, Timestamp: 02/27/23, Auditee: [52, 53], Auditor: [71, 72]. SensorID: 01, Status: 00, Location: HFX. Data: Tem is 62.\n",
      "Packet ID: 63, Timestamp: 02/27/23, Auditee: [53, 54], Auditor: [72, 73]. SensorID: 01, Status: 00, Location: HFX. Data: Tem is 63.\n",
      "Packet ID: 64, Timestamp: 02/27/23, Auditee: [45, 55], Auditor: [74, 83]. SensorID: 01, Status: 00, Location: HFX. Data: Tem is 64.\n",
      "Packet ID: 65, Timestamp: 02/27/23, Auditee: [55, 56], Auditor: [74, 75]. SensorID: 01, Status: 00, Location: HFX. Data: Tem is 65.\n",
      "Packet ID: 66, Timestamp: 02/27/23, Auditee: [56, 57], Auditor: [75, 76]. SensorID: 01, Status: 00, Location: HFX. Data: Tem is 66.\n",
      "Packet ID: 67, Timestamp: 02/27/23, Auditee: [57, 58], Auditor: [76, 77]. SensorID: 01, Status: 00, Location: HFX. Data: Tem is 67.\n",
      "Packet ID: 68, Timestamp: 02/27/23, Auditee: [58, 59], Auditor: [77, 78]. SensorID: 01, Status: 00, Location: HFX. Data: Tem is 68.\n",
      "Packet ID: 69, Timestamp: 02/27/23, Auditee: [59, 60], Auditor: [78, 79]. SensorID: 01, Status: 00, Location: HFX. Data: Tem is 69.\n",
      "Packet ID: 70, Timestamp: 02/27/23, Auditee: [60, 61], Auditor: [79, 80]. SensorID: 01, Status: 00, Location: HFX. Data: Tem is 70.\n",
      "Packet ID: 71, Timestamp: 02/27/23, Auditee: [61, 62], Auditor: [80, 81]. SensorID: 01, Status: 00, Location: HFX. Data: Tem is 71.\n",
      "Packet ID: 72, Timestamp: 02/27/23, Auditee: [62, 63], Auditor: [81, 82]. SensorID: 01, Status: 00, Location: HFX. Data: Tem is 72.\n",
      "Packet ID: 73, Timestamp: 02/27/23, Auditee: [54, 63], Auditor: [82, 92]. SensorID: 01, Status: 00, Location: HFX. Data: Tem is 73.\n",
      "Packet ID: 74, Timestamp: 02/27/23, Auditee: [64, 65], Auditor: [83, 84]. SensorID: 01, Status: 00, Location: HFX. Data: Tem is 74.\n",
      "Packet ID: 75, Timestamp: 02/27/23, Auditee: [65, 66], Auditor: [84, 85]. SensorID: 01, Status: 00, Location: HFX. Data: Tem is 75.\n",
      "Packet ID: 76, Timestamp: 02/27/23, Auditee: [66, 67], Auditor: [85, 86]. SensorID: 01, Status: 00, Location: HFX. Data: Tem is 76.\n",
      "Packet ID: 77, Timestamp: 02/27/23, Auditee: [67, 68], Auditor: [86, 87]. SensorID: 01, Status: 00, Location: HFX. Data: Tem is 77.\n",
      "Packet ID: 78, Timestamp: 02/27/23, Auditee: [68, 69], Auditor: [87, 88]. SensorID: 01, Status: 00, Location: HFX. Data: Tem is 78.\n",
      "Packet ID: 79, Timestamp: 02/27/23, Auditee: [69, 70], Auditor: [88, 89]. SensorID: 01, Status: 00, Location: HFX. Data: Tem is 79.\n",
      "Packet ID: 80, Timestamp: 02/27/23, Auditee: [70, 71], Auditor: [89, 90]. SensorID: 01, Status: 00, Location: HFX. Data: Tem is 80.\n",
      "Packet ID: 81, Timestamp: 02/27/23, Auditee: [71, 72], Auditor: [90, 91]. SensorID: 01, Status: 00, Location: HFX. Data: Tem is 81.\n",
      "Packet ID: 82, Timestamp: 02/27/23, Auditee: [72, 73], Auditor: [91, 92]. SensorID: 01, Status: 00, Location: HFX. Data: Tem is 82.\n",
      "Packet ID: 83, Timestamp: 02/27/23, Auditee: [64, 74], Auditor: [93, None]. SensorID: 01, Status: 00, Location: HFX. Data: Tem is 83.\n",
      "Packet ID: 84, Timestamp: 02/27/23, Auditee: [74, 75], Auditor: [93, 94]. SensorID: 01, Status: 00, Location: HFX. Data: Tem is 84.\n",
      "Packet ID: 85, Timestamp: 02/27/23, Auditee: [75, 76], Auditor: [94, 95]. SensorID: 01, Status: 00, Location: HFX. Data: Tem is 85.\n",
      "Packet ID: 86, Timestamp: 02/27/23, Auditee: [76, 77], Auditor: [95, 96]. SensorID: 01, Status: 00, Location: HFX. Data: Tem is 86.\n",
      "Packet ID: 87, Timestamp: 02/27/23, Auditee: [77, 78], Auditor: [96, 97]. SensorID: 01, Status: 00, Location: HFX. Data: Tem is 87.\n",
      "Packet ID: 88, Timestamp: 02/27/23, Auditee: [78, 79], Auditor: [97, 98]. SensorID: 01, Status: 00, Location: HFX. Data: Tem is 88.\n",
      "Packet ID: 89, Timestamp: 02/27/23, Auditee: [79, 80], Auditor: [98, 99]. SensorID: 01, Status: 00, Location: HFX. Data: Tem is 89.\n",
      "Packet ID: 90, Timestamp: 02/27/23, Auditee: [80, 81], Auditor: [99, None]. SensorID: 01, Status: 00, Location: HFX. Data: Tem is 90.\n",
      "Packet ID: 91, Timestamp: 02/27/23, Auditee: [81, 82], Auditor: [None, None]. SensorID: 01, Status: 00, Location: HFX. Data: Tem is 91.\n",
      "Packet ID: 92, Timestamp: 02/27/23, Auditee: [73, 82], Auditor: [None, None]. SensorID: 01, Status: 00, Location: HFX. Data: Tem is 92.\n",
      "Packet ID: 93, Timestamp: 02/27/23, Auditee: [83, 84], Auditor: [None, None]. SensorID: 01, Status: 00, Location: HFX. Data: Tem is 93.\n",
      "Packet ID: 94, Timestamp: 02/27/23, Auditee: [84, 85], Auditor: [None, None]. SensorID: 01, Status: 00, Location: HFX. Data: Tem is 94.\n",
      "Packet ID: 95, Timestamp: 02/27/23, Auditee: [85, 86], Auditor: [None, None]. SensorID: 01, Status: 00, Location: HFX. Data: Tem is 95.\n",
      "Packet ID: 96, Timestamp: 02/27/23, Auditee: [86, 87], Auditor: [None, None]. SensorID: 01, Status: 00, Location: HFX. Data: Tem is 96.\n",
      "Packet ID: 97, Timestamp: 02/27/23, Auditee: [87, 88], Auditor: [None, None]. SensorID: 01, Status: 00, Location: HFX. Data: Tem is 97.\n",
      "Packet ID: 98, Timestamp: 02/27/23, Auditee: [88, 89], Auditor: [None, None]. SensorID: 01, Status: 00, Location: HFX. Data: Tem is 98.\n",
      "Packet ID: 99, Timestamp: 02/27/23, Auditee: [89, 90], Auditor: [None, None]. SensorID: 01, Status: 00, Location: HFX. Data: Tem is 99.\n"
     ]
    }
   ],
   "source": [
    "f.display_fnt()"
   ],
   "metadata": {
    "collapsed": false,
    "pycharm": {
     "name": "#%%\n"
    }
   }
  },
  {
   "cell_type": "code",
   "execution_count": 26,
   "outputs": [
    {
     "data": {
      "text/plain": "20"
     },
     "execution_count": 26,
     "metadata": {},
     "output_type": "execute_result"
    }
   ],
   "source": [
    "f.get_packet(20).get_pid()"
   ],
   "metadata": {
    "collapsed": false,
    "pycharm": {
     "name": "#%%\n"
    }
   }
  },
  {
   "cell_type": "code",
   "execution_count": 27,
   "outputs": [
    {
     "data": {
      "text/plain": "'02/27/23'"
     },
     "execution_count": 27,
     "metadata": {},
     "output_type": "execute_result"
    }
   ],
   "source": [
    "f.get_packet(20).get_timestamp()"
   ],
   "metadata": {
    "collapsed": false,
    "pycharm": {
     "name": "#%%\n"
    }
   }
  },
  {
   "cell_type": "code",
   "execution_count": 28,
   "outputs": [
    {
     "data": {
      "text/plain": "[14, None]"
     },
     "execution_count": 28,
     "metadata": {},
     "output_type": "execute_result"
    }
   ],
   "source": [
    "f.get_packet(20).get_auditee()"
   ],
   "metadata": {
    "collapsed": false,
    "pycharm": {
     "name": "#%%\n"
    }
   }
  },
  {
   "cell_type": "code",
   "execution_count": 29,
   "outputs": [
    {
     "data": {
      "text/plain": "[26, 27]"
     },
     "execution_count": 29,
     "metadata": {},
     "output_type": "execute_result"
    }
   ],
   "source": [
    "f.get_packet(20).get_auditor()"
   ],
   "metadata": {
    "collapsed": false,
    "pycharm": {
     "name": "#%%\n"
    }
   }
  },
  {
   "cell_type": "code",
   "execution_count": 30,
   "outputs": [
    {
     "data": {
      "text/plain": "'01'"
     },
     "execution_count": 30,
     "metadata": {},
     "output_type": "execute_result"
    }
   ],
   "source": [
    "f.get_packet(20).get_sid()"
   ],
   "metadata": {
    "collapsed": false,
    "pycharm": {
     "name": "#%%\n"
    }
   }
  },
  {
   "cell_type": "code",
   "execution_count": 31,
   "outputs": [
    {
     "data": {
      "text/plain": "'00'"
     },
     "execution_count": 31,
     "metadata": {},
     "output_type": "execute_result"
    }
   ],
   "source": [
    "f.get_packet(20).get_status()"
   ],
   "metadata": {
    "collapsed": false,
    "pycharm": {
     "name": "#%%\n"
    }
   }
  },
  {
   "cell_type": "code",
   "execution_count": 32,
   "outputs": [
    {
     "data": {
      "text/plain": "'HFX'"
     },
     "execution_count": 32,
     "metadata": {},
     "output_type": "execute_result"
    }
   ],
   "source": [
    "f.get_packet(20).get_location()"
   ],
   "metadata": {
    "collapsed": false,
    "pycharm": {
     "name": "#%%\n"
    }
   }
  },
  {
   "cell_type": "code",
   "execution_count": 33,
   "outputs": [
    {
     "data": {
      "text/plain": "'Tem'"
     },
     "execution_count": 33,
     "metadata": {},
     "output_type": "execute_result"
    }
   ],
   "source": [
    "f.get_packet(20).get_datatype()"
   ],
   "metadata": {
    "collapsed": false,
    "pycharm": {
     "name": "#%%\n"
    }
   }
  },
  {
   "cell_type": "code",
   "execution_count": 34,
   "outputs": [
    {
     "data": {
      "text/plain": "20"
     },
     "execution_count": 34,
     "metadata": {},
     "output_type": "execute_result"
    }
   ],
   "source": [
    "f.get_packet(20).get_data()"
   ],
   "metadata": {
    "collapsed": false,
    "pycharm": {
     "name": "#%%\n"
    }
   }
  },
  {
   "cell_type": "code",
   "execution_count": 35,
   "outputs": [
    {
     "name": "stdout",
     "output_type": "stream",
     "text": [
      "Sensor ID: 01, Status: 00, Location: HFX.\n"
     ]
    }
   ],
   "source": [
    "f.get_packet(60).print_sensor()"
   ],
   "metadata": {
    "collapsed": false,
    "pycharm": {
     "name": "#%%\n"
    }
   }
  },
  {
   "cell_type": "code",
   "execution_count": 36,
   "outputs": [
    {
     "name": "stdout",
     "output_type": "stream",
     "text": [
      "Data: Tem is 60.\n"
     ]
    }
   ],
   "source": [
    "f.get_packet(60).print_dataset()"
   ],
   "metadata": {
    "collapsed": false,
    "pycharm": {
     "name": "#%%\n"
    }
   }
  },
  {
   "cell_type": "code",
   "execution_count": 37,
   "outputs": [
    {
     "name": "stdout",
     "output_type": "stream",
     "text": [
      "Packet ID: 60, Timestamp: 02/27/23, Auditee: [50, 51], Auditor: [69, 70].\n"
     ]
    }
   ],
   "source": [
    "f.get_packet(60).print_packet()"
   ],
   "metadata": {
    "collapsed": false,
    "pycharm": {
     "name": "#%%\n"
    }
   }
  },
  {
   "cell_type": "code",
   "execution_count": 38,
   "outputs": [
    {
     "name": "stdout",
     "output_type": "stream",
     "text": [
      "Packet ID: 60, Timestamp: 02/27/23, Auditee: [50, 51], Auditor: [69, 70]. SensorID: 01, Status: 00, Location: HFX. Data: Tem is 60.\n"
     ]
    }
   ],
   "source": [
    "f.display_packet(60)"
   ],
   "metadata": {
    "collapsed": false,
    "pycharm": {
     "name": "#%%\n"
    }
   }
  },
  {
   "cell_type": "code",
   "execution_count": 39,
   "outputs": [
    {
     "name": "stdout",
     "output_type": "stream",
     "text": [
      "Packet ID: 50, Timestamp: 02/27/23, Auditee: [40, 41], Auditor: [59, 60]. SensorID: 01, Status: 00, Location: HFX. Data: Tem is 50.\n",
      "Packet ID: 51, Timestamp: 02/27/23, Auditee: [41, 42], Auditor: [60, 61]. SensorID: 01, Status: 00, Location: HFX. Data: Tem is 51.\n"
     ]
    }
   ],
   "source": [
    "f.display_auditee(60)"
   ],
   "metadata": {
    "collapsed": false,
    "pycharm": {
     "name": "#%%\n"
    }
   }
  },
  {
   "cell_type": "code",
   "execution_count": 40,
   "outputs": [
    {
     "name": "stdout",
     "output_type": "stream",
     "text": [
      "Packet ID: 69, Timestamp: 02/27/23, Auditee: [59, 60], Auditor: [78, 79]. SensorID: 01, Status: 00, Location: HFX. Data: Tem is 69.\n",
      "Packet ID: 70, Timestamp: 02/27/23, Auditee: [60, 61], Auditor: [79, 80]. SensorID: 01, Status: 00, Location: HFX. Data: Tem is 70.\n"
     ]
    }
   ],
   "source": [
    "f.display_auditor(60)"
   ],
   "metadata": {
    "collapsed": false,
    "pycharm": {
     "name": "#%%\n"
    }
   }
  },
  {
   "cell_type": "code",
   "execution_count": 41,
   "outputs": [
    {
     "name": "stdout",
     "output_type": "stream",
     "text": [
      "Packet 2 is detached.\n"
     ]
    }
   ],
   "source": [
    "f.detach_packet(2)"
   ],
   "metadata": {
    "collapsed": false,
    "pycharm": {
     "name": "#%%\n"
    }
   }
  },
  {
   "cell_type": "code",
   "execution_count": 42,
   "outputs": [
    {
     "name": "stdout",
     "output_type": "stream",
     "text": [
      "Packet 50 is detached.\n"
     ]
    }
   ],
   "source": [
    "f.detach_packet(50)"
   ],
   "metadata": {
    "collapsed": false,
    "pycharm": {
     "name": "#%%\n"
    }
   }
  },
  {
   "cell_type": "code",
   "execution_count": 43,
   "outputs": [
    {
     "name": "stdout",
     "output_type": "stream",
     "text": [
      "Packet ID: 2, Timestamp: 02/27/23, Auditee: [0, None], Auditor: [4, 5]. SensorID: 01, Status: 00, Location: HFX. Data: Tem is 2.\n",
      "Packet ID: 50, Timestamp: 02/27/23, Auditee: [40, 41], Auditor: [59, 60]. SensorID: 01, Status: 00, Location: HFX. Data: Tem is 50.\n"
     ]
    }
   ],
   "source": [
    "f.display_detaches()"
   ],
   "metadata": {
    "collapsed": false,
    "pycharm": {
     "name": "#%%\n"
    }
   }
  },
  {
   "cell_type": "code",
   "execution_count": 44,
   "outputs": [
    {
     "name": "stdout",
     "output_type": "stream",
     "text": [
      "Packet ID: 0, Timestamp: 02/27/23, Auditee: [None, None], Auditor: [1, 2]. SensorID: 01, Status: 00, Location: HFX. Data: Tem is 0.\n",
      "Packet ID: 1, Timestamp: 02/27/23, Auditee: [0, None], Auditor: [3, 4]. SensorID: 01, Status: 00, Location: HFX. Data: Tem is 1.\n",
      "Packet 2 is detached.\n",
      "Packet ID: 3, Timestamp: 02/27/23, Auditee: [1, None], Auditor: [6, 7]. SensorID: 01, Status: 00, Location: HFX. Data: Tem is 3.\n",
      "Packet ID: 4, Timestamp: 02/27/23, Auditee: [1, 2], Auditor: [7, 8]. SensorID: 01, Status: 00, Location: HFX. Data: Tem is 4.\n",
      "Packet ID: 5, Timestamp: 02/27/23, Auditee: [2, None], Auditor: [8, 9]. SensorID: 01, Status: 00, Location: HFX. Data: Tem is 5.\n",
      "Packet ID: 6, Timestamp: 02/27/23, Auditee: [3, None], Auditor: [10, 11]. SensorID: 01, Status: 00, Location: HFX. Data: Tem is 6.\n",
      "Packet ID: 7, Timestamp: 02/27/23, Auditee: [3, 4], Auditor: [11, 12]. SensorID: 01, Status: 00, Location: HFX. Data: Tem is 7.\n",
      "Packet ID: 8, Timestamp: 02/27/23, Auditee: [4, 5], Auditor: [12, 13]. SensorID: 01, Status: 00, Location: HFX. Data: Tem is 8.\n",
      "Packet ID: 9, Timestamp: 02/27/23, Auditee: [5, None], Auditor: [13, 14]. SensorID: 01, Status: 00, Location: HFX. Data: Tem is 9.\n",
      "Packet ID: 10, Timestamp: 02/27/23, Auditee: [6, None], Auditor: [15, 16]. SensorID: 01, Status: 00, Location: HFX. Data: Tem is 10.\n",
      "Packet ID: 11, Timestamp: 02/27/23, Auditee: [6, 7], Auditor: [16, 17]. SensorID: 01, Status: 00, Location: HFX. Data: Tem is 11.\n",
      "Packet ID: 12, Timestamp: 02/27/23, Auditee: [7, 8], Auditor: [17, 18]. SensorID: 01, Status: 00, Location: HFX. Data: Tem is 12.\n",
      "Packet ID: 13, Timestamp: 02/27/23, Auditee: [8, 9], Auditor: [18, 19]. SensorID: 01, Status: 00, Location: HFX. Data: Tem is 13.\n",
      "Packet ID: 14, Timestamp: 02/27/23, Auditee: [9, None], Auditor: [19, 20]. SensorID: 01, Status: 00, Location: HFX. Data: Tem is 14.\n",
      "Packet ID: 15, Timestamp: 02/27/23, Auditee: [10, None], Auditor: [21, 22]. SensorID: 01, Status: 00, Location: HFX. Data: Tem is 15.\n",
      "Packet ID: 16, Timestamp: 02/27/23, Auditee: [10, 11], Auditor: [22, 23]. SensorID: 01, Status: 00, Location: HFX. Data: Tem is 16.\n",
      "Packet ID: 17, Timestamp: 02/27/23, Auditee: [11, 12], Auditor: [23, 24]. SensorID: 01, Status: 00, Location: HFX. Data: Tem is 17.\n",
      "Packet ID: 18, Timestamp: 02/27/23, Auditee: [12, 13], Auditor: [24, 25]. SensorID: 01, Status: 00, Location: HFX. Data: Tem is 18.\n",
      "Packet ID: 19, Timestamp: 02/27/23, Auditee: [13, 14], Auditor: [25, 26]. SensorID: 01, Status: 00, Location: HFX. Data: Tem is 19.\n",
      "Packet ID: 20, Timestamp: 02/27/23, Auditee: [14, None], Auditor: [26, 27]. SensorID: 01, Status: 00, Location: HFX. Data: Tem is 20.\n",
      "Packet ID: 21, Timestamp: 02/27/23, Auditee: [15, None], Auditor: [28, 29]. SensorID: 01, Status: 00, Location: HFX. Data: Tem is 21.\n",
      "Packet ID: 22, Timestamp: 02/27/23, Auditee: [15, 16], Auditor: [29, 30]. SensorID: 01, Status: 00, Location: HFX. Data: Tem is 22.\n",
      "Packet ID: 23, Timestamp: 02/27/23, Auditee: [16, 17], Auditor: [30, 31]. SensorID: 01, Status: 00, Location: HFX. Data: Tem is 23.\n",
      "Packet ID: 24, Timestamp: 02/27/23, Auditee: [17, 18], Auditor: [31, 32]. SensorID: 01, Status: 00, Location: HFX. Data: Tem is 24.\n",
      "Packet ID: 25, Timestamp: 02/27/23, Auditee: [18, 19], Auditor: [32, 33]. SensorID: 01, Status: 00, Location: HFX. Data: Tem is 25.\n",
      "Packet ID: 26, Timestamp: 02/27/23, Auditee: [19, 20], Auditor: [33, 34]. SensorID: 01, Status: 00, Location: HFX. Data: Tem is 26.\n",
      "Packet ID: 27, Timestamp: 02/27/23, Auditee: [20, None], Auditor: [34, 35]. SensorID: 01, Status: 00, Location: HFX. Data: Tem is 27.\n",
      "Packet ID: 28, Timestamp: 02/27/23, Auditee: [21, None], Auditor: [36, 37]. SensorID: 01, Status: 00, Location: HFX. Data: Tem is 28.\n",
      "Packet ID: 29, Timestamp: 02/27/23, Auditee: [21, 22], Auditor: [37, 38]. SensorID: 01, Status: 00, Location: HFX. Data: Tem is 29.\n",
      "Packet ID: 30, Timestamp: 02/27/23, Auditee: [22, 23], Auditor: [38, 39]. SensorID: 01, Status: 00, Location: HFX. Data: Tem is 30.\n",
      "Packet ID: 31, Timestamp: 02/27/23, Auditee: [23, 24], Auditor: [39, 40]. SensorID: 01, Status: 00, Location: HFX. Data: Tem is 31.\n",
      "Packet ID: 32, Timestamp: 02/27/23, Auditee: [24, 25], Auditor: [40, 41]. SensorID: 01, Status: 00, Location: HFX. Data: Tem is 32.\n",
      "Packet ID: 33, Timestamp: 02/27/23, Auditee: [25, 26], Auditor: [41, 42]. SensorID: 01, Status: 00, Location: HFX. Data: Tem is 33.\n",
      "Packet ID: 34, Timestamp: 02/27/23, Auditee: [26, 27], Auditor: [42, 43]. SensorID: 01, Status: 00, Location: HFX. Data: Tem is 34.\n",
      "Packet ID: 35, Timestamp: 02/27/23, Auditee: [27, None], Auditor: [43, 44]. SensorID: 01, Status: 00, Location: HFX. Data: Tem is 35.\n",
      "Packet ID: 36, Timestamp: 02/27/23, Auditee: [28, None], Auditor: [45, 46]. SensorID: 01, Status: 00, Location: HFX. Data: Tem is 36.\n",
      "Packet ID: 37, Timestamp: 02/27/23, Auditee: [28, 29], Auditor: [46, 47]. SensorID: 01, Status: 00, Location: HFX. Data: Tem is 37.\n",
      "Packet ID: 38, Timestamp: 02/27/23, Auditee: [29, 30], Auditor: [47, 48]. SensorID: 01, Status: 00, Location: HFX. Data: Tem is 38.\n",
      "Packet ID: 39, Timestamp: 02/27/23, Auditee: [30, 31], Auditor: [48, 49]. SensorID: 01, Status: 00, Location: HFX. Data: Tem is 39.\n",
      "Packet ID: 40, Timestamp: 02/27/23, Auditee: [31, 32], Auditor: [49, 50]. SensorID: 01, Status: 00, Location: HFX. Data: Tem is 40.\n",
      "Packet ID: 41, Timestamp: 02/27/23, Auditee: [32, 33], Auditor: [50, 51]. SensorID: 01, Status: 00, Location: HFX. Data: Tem is 41.\n",
      "Packet ID: 42, Timestamp: 02/27/23, Auditee: [33, 34], Auditor: [51, 52]. SensorID: 01, Status: 00, Location: HFX. Data: Tem is 42.\n",
      "Packet ID: 43, Timestamp: 02/27/23, Auditee: [34, 35], Auditor: [52, 53]. SensorID: 01, Status: 00, Location: HFX. Data: Tem is 43.\n",
      "Packet ID: 44, Timestamp: 02/27/23, Auditee: [35, None], Auditor: [53, 54]. SensorID: 01, Status: 00, Location: HFX. Data: Tem is 44.\n",
      "Packet ID: 45, Timestamp: 02/27/23, Auditee: [36, None], Auditor: [55, 64]. SensorID: 01, Status: 00, Location: HFX. Data: Tem is 45.\n",
      "Packet ID: 46, Timestamp: 02/27/23, Auditee: [36, 37], Auditor: [55, 56]. SensorID: 01, Status: 00, Location: HFX. Data: Tem is 46.\n",
      "Packet ID: 47, Timestamp: 02/27/23, Auditee: [37, 38], Auditor: [56, 57]. SensorID: 01, Status: 00, Location: HFX. Data: Tem is 47.\n",
      "Packet ID: 48, Timestamp: 02/27/23, Auditee: [38, 39], Auditor: [57, 58]. SensorID: 01, Status: 00, Location: HFX. Data: Tem is 48.\n",
      "Packet ID: 49, Timestamp: 02/27/23, Auditee: [39, 40], Auditor: [58, 59]. SensorID: 01, Status: 00, Location: HFX. Data: Tem is 49.\n",
      "Packet 50 is detached.\n",
      "Packet ID: 51, Timestamp: 02/27/23, Auditee: [41, 42], Auditor: [60, 61]. SensorID: 01, Status: 00, Location: HFX. Data: Tem is 51.\n",
      "Packet ID: 52, Timestamp: 02/27/23, Auditee: [42, 43], Auditor: [61, 62]. SensorID: 01, Status: 00, Location: HFX. Data: Tem is 52.\n",
      "Packet ID: 53, Timestamp: 02/27/23, Auditee: [43, 44], Auditor: [62, 63]. SensorID: 01, Status: 00, Location: HFX. Data: Tem is 53.\n",
      "Packet ID: 54, Timestamp: 02/27/23, Auditee: [44, None], Auditor: [63, 73]. SensorID: 01, Status: 00, Location: HFX. Data: Tem is 54.\n",
      "Packet ID: 55, Timestamp: 02/27/23, Auditee: [45, 46], Auditor: [64, 65]. SensorID: 01, Status: 00, Location: HFX. Data: Tem is 55.\n",
      "Packet ID: 56, Timestamp: 02/27/23, Auditee: [46, 47], Auditor: [65, 66]. SensorID: 01, Status: 00, Location: HFX. Data: Tem is 56.\n",
      "Packet ID: 57, Timestamp: 02/27/23, Auditee: [47, 48], Auditor: [66, 67]. SensorID: 01, Status: 00, Location: HFX. Data: Tem is 57.\n",
      "Packet ID: 58, Timestamp: 02/27/23, Auditee: [48, 49], Auditor: [67, 68]. SensorID: 01, Status: 00, Location: HFX. Data: Tem is 58.\n",
      "Packet ID: 59, Timestamp: 02/27/23, Auditee: [49, 50], Auditor: [68, 69]. SensorID: 01, Status: 00, Location: HFX. Data: Tem is 59.\n",
      "Packet ID: 60, Timestamp: 02/27/23, Auditee: [50, 51], Auditor: [69, 70]. SensorID: 01, Status: 00, Location: HFX. Data: Tem is 60.\n",
      "Packet ID: 61, Timestamp: 02/27/23, Auditee: [51, 52], Auditor: [70, 71]. SensorID: 01, Status: 00, Location: HFX. Data: Tem is 61.\n",
      "Packet ID: 62, Timestamp: 02/27/23, Auditee: [52, 53], Auditor: [71, 72]. SensorID: 01, Status: 00, Location: HFX. Data: Tem is 62.\n",
      "Packet ID: 63, Timestamp: 02/27/23, Auditee: [53, 54], Auditor: [72, 73]. SensorID: 01, Status: 00, Location: HFX. Data: Tem is 63.\n",
      "Packet ID: 64, Timestamp: 02/27/23, Auditee: [45, 55], Auditor: [74, 83]. SensorID: 01, Status: 00, Location: HFX. Data: Tem is 64.\n",
      "Packet ID: 65, Timestamp: 02/27/23, Auditee: [55, 56], Auditor: [74, 75]. SensorID: 01, Status: 00, Location: HFX. Data: Tem is 65.\n",
      "Packet ID: 66, Timestamp: 02/27/23, Auditee: [56, 57], Auditor: [75, 76]. SensorID: 01, Status: 00, Location: HFX. Data: Tem is 66.\n",
      "Packet ID: 67, Timestamp: 02/27/23, Auditee: [57, 58], Auditor: [76, 77]. SensorID: 01, Status: 00, Location: HFX. Data: Tem is 67.\n",
      "Packet ID: 68, Timestamp: 02/27/23, Auditee: [58, 59], Auditor: [77, 78]. SensorID: 01, Status: 00, Location: HFX. Data: Tem is 68.\n",
      "Packet ID: 69, Timestamp: 02/27/23, Auditee: [59, 60], Auditor: [78, 79]. SensorID: 01, Status: 00, Location: HFX. Data: Tem is 69.\n",
      "Packet ID: 70, Timestamp: 02/27/23, Auditee: [60, 61], Auditor: [79, 80]. SensorID: 01, Status: 00, Location: HFX. Data: Tem is 70.\n",
      "Packet ID: 71, Timestamp: 02/27/23, Auditee: [61, 62], Auditor: [80, 81]. SensorID: 01, Status: 00, Location: HFX. Data: Tem is 71.\n",
      "Packet ID: 72, Timestamp: 02/27/23, Auditee: [62, 63], Auditor: [81, 82]. SensorID: 01, Status: 00, Location: HFX. Data: Tem is 72.\n",
      "Packet ID: 73, Timestamp: 02/27/23, Auditee: [54, 63], Auditor: [82, 92]. SensorID: 01, Status: 00, Location: HFX. Data: Tem is 73.\n",
      "Packet ID: 74, Timestamp: 02/27/23, Auditee: [64, 65], Auditor: [83, 84]. SensorID: 01, Status: 00, Location: HFX. Data: Tem is 74.\n",
      "Packet ID: 75, Timestamp: 02/27/23, Auditee: [65, 66], Auditor: [84, 85]. SensorID: 01, Status: 00, Location: HFX. Data: Tem is 75.\n",
      "Packet ID: 76, Timestamp: 02/27/23, Auditee: [66, 67], Auditor: [85, 86]. SensorID: 01, Status: 00, Location: HFX. Data: Tem is 76.\n",
      "Packet ID: 77, Timestamp: 02/27/23, Auditee: [67, 68], Auditor: [86, 87]. SensorID: 01, Status: 00, Location: HFX. Data: Tem is 77.\n",
      "Packet ID: 78, Timestamp: 02/27/23, Auditee: [68, 69], Auditor: [87, 88]. SensorID: 01, Status: 00, Location: HFX. Data: Tem is 78.\n",
      "Packet ID: 79, Timestamp: 02/27/23, Auditee: [69, 70], Auditor: [88, 89]. SensorID: 01, Status: 00, Location: HFX. Data: Tem is 79.\n",
      "Packet ID: 80, Timestamp: 02/27/23, Auditee: [70, 71], Auditor: [89, 90]. SensorID: 01, Status: 00, Location: HFX. Data: Tem is 80.\n",
      "Packet ID: 81, Timestamp: 02/27/23, Auditee: [71, 72], Auditor: [90, 91]. SensorID: 01, Status: 00, Location: HFX. Data: Tem is 81.\n",
      "Packet ID: 82, Timestamp: 02/27/23, Auditee: [72, 73], Auditor: [91, 92]. SensorID: 01, Status: 00, Location: HFX. Data: Tem is 82.\n",
      "Packet ID: 83, Timestamp: 02/27/23, Auditee: [64, 74], Auditor: [93, None]. SensorID: 01, Status: 00, Location: HFX. Data: Tem is 83.\n",
      "Packet ID: 84, Timestamp: 02/27/23, Auditee: [74, 75], Auditor: [93, 94]. SensorID: 01, Status: 00, Location: HFX. Data: Tem is 84.\n",
      "Packet ID: 85, Timestamp: 02/27/23, Auditee: [75, 76], Auditor: [94, 95]. SensorID: 01, Status: 00, Location: HFX. Data: Tem is 85.\n",
      "Packet ID: 86, Timestamp: 02/27/23, Auditee: [76, 77], Auditor: [95, 96]. SensorID: 01, Status: 00, Location: HFX. Data: Tem is 86.\n",
      "Packet ID: 87, Timestamp: 02/27/23, Auditee: [77, 78], Auditor: [96, 97]. SensorID: 01, Status: 00, Location: HFX. Data: Tem is 87.\n",
      "Packet ID: 88, Timestamp: 02/27/23, Auditee: [78, 79], Auditor: [97, 98]. SensorID: 01, Status: 00, Location: HFX. Data: Tem is 88.\n",
      "Packet ID: 89, Timestamp: 02/27/23, Auditee: [79, 80], Auditor: [98, 99]. SensorID: 01, Status: 00, Location: HFX. Data: Tem is 89.\n",
      "Packet ID: 90, Timestamp: 02/27/23, Auditee: [80, 81], Auditor: [99, None]. SensorID: 01, Status: 00, Location: HFX. Data: Tem is 90.\n",
      "Packet ID: 91, Timestamp: 02/27/23, Auditee: [81, 82], Auditor: [None, None]. SensorID: 01, Status: 00, Location: HFX. Data: Tem is 91.\n",
      "Packet ID: 92, Timestamp: 02/27/23, Auditee: [73, 82], Auditor: [None, None]. SensorID: 01, Status: 00, Location: HFX. Data: Tem is 92.\n",
      "Packet ID: 93, Timestamp: 02/27/23, Auditee: [83, 84], Auditor: [None, None]. SensorID: 01, Status: 00, Location: HFX. Data: Tem is 93.\n",
      "Packet ID: 94, Timestamp: 02/27/23, Auditee: [84, 85], Auditor: [None, None]. SensorID: 01, Status: 00, Location: HFX. Data: Tem is 94.\n",
      "Packet ID: 95, Timestamp: 02/27/23, Auditee: [85, 86], Auditor: [None, None]. SensorID: 01, Status: 00, Location: HFX. Data: Tem is 95.\n",
      "Packet ID: 96, Timestamp: 02/27/23, Auditee: [86, 87], Auditor: [None, None]. SensorID: 01, Status: 00, Location: HFX. Data: Tem is 96.\n",
      "Packet ID: 97, Timestamp: 02/27/23, Auditee: [87, 88], Auditor: [None, None]. SensorID: 01, Status: 00, Location: HFX. Data: Tem is 97.\n",
      "Packet ID: 98, Timestamp: 02/27/23, Auditee: [88, 89], Auditor: [None, None]. SensorID: 01, Status: 00, Location: HFX. Data: Tem is 98.\n",
      "Packet ID: 99, Timestamp: 02/27/23, Auditee: [89, 90], Auditor: [None, None]. SensorID: 01, Status: 00, Location: HFX. Data: Tem is 99.\n"
     ]
    }
   ],
   "source": [
    "f.display_fnt()"
   ],
   "metadata": {
    "collapsed": false,
    "pycharm": {
     "name": "#%%\n"
    }
   }
  },
  {
   "cell_type": "code",
   "execution_count": 44,
   "outputs": [],
   "source": [],
   "metadata": {
    "collapsed": false,
    "pycharm": {
     "name": "#%%\n"
    }
   }
  }
 ],
 "metadata": {
  "kernelspec": {
   "display_name": "Python 3",
   "language": "python",
   "name": "python3"
  },
  "language_info": {
   "codemirror_mode": {
    "name": "ipython",
    "version": 2
   },
   "file_extension": ".py",
   "mimetype": "text/x-python",
   "name": "python",
   "nbconvert_exporter": "python",
   "pygments_lexer": "ipython2",
   "version": "2.7.6"
  }
 },
 "nbformat": 4,
 "nbformat_minor": 0
}