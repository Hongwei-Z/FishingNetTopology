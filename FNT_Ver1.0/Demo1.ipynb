{
 "cells": [
  {
   "cell_type": "markdown",
   "metadata": {
    "collapsed": true,
    "pycharm": {
     "name": "#%% md\n"
    }
   },
   "source": [
    "Experiments and Feature Showcases"
   ]
  },
  {
   "cell_type": "code",
   "execution_count": 1,
   "outputs": [],
   "source": [
    "import FNT\n",
    "import secrets\n",
    "from datetime import datetime"
   ],
   "metadata": {
    "collapsed": false,
    "pycharm": {
     "name": "#%%\n"
    }
   }
  },
  {
   "cell_type": "markdown",
   "source": [
    "Define rate and number of nodes"
   ],
   "metadata": {
    "collapsed": false,
    "pycharm": {
     "name": "#%% md\n"
    }
   }
  },
  {
   "cell_type": "code",
   "execution_count": 2,
   "outputs": [],
   "source": [
    "rate = 6\n",
    "size = 100"
   ],
   "metadata": {
    "collapsed": false,
    "pycharm": {
     "name": "#%%\n"
    }
   }
  },
  {
   "cell_type": "markdown",
   "source": [
    "Create a FishingNet, add nodes"
   ],
   "metadata": {
    "collapsed": false,
    "pycharm": {
     "name": "#%% md\n"
    }
   }
  },
  {
   "cell_type": "code",
   "execution_count": 3,
   "outputs": [
    {
     "name": "stdout",
     "output_type": "stream",
     "text": [
      "Node 0, 1ada8d8f4a76757e7b18f0a41b19d853, 2023-02-27 21:42:16.693599, Tips: [None, None]\n",
      "Node 1, cc95d1a77712bb2ea561241fe04017b9, 2023-02-27 21:42:16.693599, Tips: [0, None]\n",
      "Node 2, b99f739b39fa3244fe265db89050a7f7, 2023-02-27 21:42:16.694572, Tips: [0, None]\n",
      "Node 3, ee61480d7af435ace0c4102619e18f83, 2023-02-27 21:42:16.694572, Tips: [1, None]\n",
      "Node 4, 47cab37335a06bc661fa58ba4d92745a, 2023-02-27 21:42:16.694572, Tips: [1, 2]\n",
      "Node 5, 199c5d8546c3f7690c18ae7bed3bc50f, 2023-02-27 21:42:16.694572, Tips: [2, None]\n",
      "Node 6, 01fb0922bb651d6529a5a6b25ef7dce2, 2023-02-27 21:42:16.694572, Tips: [3, None]\n",
      "Node 7, b6f6e692ffe30846c0412275fc782fb3, 2023-02-27 21:42:16.694572, Tips: [3, 4]\n",
      "Node 8, fa93d25064803dd4ebc30b87f09f15fd, 2023-02-27 21:42:16.694572, Tips: [4, 5]\n",
      "Node 9, 3853078f8c09e9df26d0d3a9e47fa7d2, 2023-02-27 21:42:16.694572, Tips: [5, None]\n",
      "Node 10, 8ba576a2d795bd976ee43ca4581274e3, 2023-02-27 21:42:16.694572, Tips: [6, None]\n",
      "Node 11, 2dbe05d618ef1d7b0ca85923a85a8854, 2023-02-27 21:42:16.694572, Tips: [6, 7]\n",
      "Node 12, 64bf2af511ea1c2fe38aba951e07af8c, 2023-02-27 21:42:16.694572, Tips: [7, 8]\n",
      "Node 13, 70c92c269d6c58f7174ad65f96d14ea6, 2023-02-27 21:42:16.694572, Tips: [8, 9]\n",
      "Node 14, f98f31bb8e5c6080d26c89c5449bbff3, 2023-02-27 21:42:16.694572, Tips: [9, None]\n",
      "Node 15, 8af72025f685efafec5b8da9273ab54f, 2023-02-27 21:42:16.694572, Tips: [10, None]\n",
      "Node 16, ddda2f8aa3c17f268fb21e4b7adb6472, 2023-02-27 21:42:16.694572, Tips: [10, 11]\n",
      "Node 17, 1d375f62092d033bb0b54e826215f15c, 2023-02-27 21:42:16.694572, Tips: [11, 12]\n",
      "Node 18, 75925d5407062405c1a67dddc28fe799, 2023-02-27 21:42:16.694572, Tips: [12, 13]\n",
      "Node 19, 00d44ff1d6388bdaf3c816d16f323adf, 2023-02-27 21:42:16.694572, Tips: [13, 14]\n",
      "Node 20, 3d6a56289707355b7eccf5840f3c5522, 2023-02-27 21:42:16.694572, Tips: [14, None]\n",
      "Node 21, 17f9c2bb7dbad7bcf33fa0c01ffecc8b, 2023-02-27 21:42:16.694572, Tips: [15, 16]\n",
      "Node 22, 166648a965e4032e88dcdaeca476ea58, 2023-02-27 21:42:16.694572, Tips: [16, 17]\n",
      "Node 23, 82e6304444f4606637f8e9e08ec7bc95, 2023-02-27 21:42:16.694572, Tips: [17, 18]\n",
      "Node 24, c645de885208dc67ab1d2039dc9ceaf5, 2023-02-27 21:42:16.694572, Tips: [18, 19]\n",
      "Node 25, 91ec28811f41d62de195472b1a029035, 2023-02-27 21:42:16.694572, Tips: [19, 20]\n",
      "Node 26, 2c0191d2ca1a67433fae6a5df8babc75, 2023-02-27 21:42:16.694572, Tips: [15, 21]\n",
      "Node 27, 4a7c9e8785897b66af22aa70d2d42696, 2023-02-27 21:42:16.694572, Tips: [21, 22]\n",
      "Node 28, 51ad2ff7366517bd8addca09de6d4449, 2023-02-27 21:42:16.694572, Tips: [22, 23]\n",
      "Node 29, a3daf9716e37d098e4d437ccd7cb0e10, 2023-02-27 21:42:16.694572, Tips: [23, 24]\n",
      "Node 30, 55f5061231b53d2948182f4cebdeed50, 2023-02-27 21:42:16.694572, Tips: [24, 25]\n",
      "Node 31, 0cf0ad3192a24c5f07a0cfbd08a996d4, 2023-02-27 21:42:16.694572, Tips: [20, 25]\n",
      "Node 32, 1e003829342e58bd4c4685993809ec60, 2023-02-27 21:42:16.694572, Tips: [26, 27]\n",
      "Node 33, 5b26e8a9f9a99826ed5dba881612d035, 2023-02-27 21:42:16.694572, Tips: [27, 28]\n",
      "Node 34, 5345f6e88d9941f95a5d2dedda6ca93b, 2023-02-27 21:42:16.694572, Tips: [28, 29]\n",
      "Node 35, 53f8a928c7fa2150ff325220d29d5e51, 2023-02-27 21:42:16.694572, Tips: [29, 30]\n",
      "Node 36, 49ac1aecd77c22f830a3b1640e788abf, 2023-02-27 21:42:16.694572, Tips: [30, 31]\n",
      "Node 37, c90377529c65202ebe56e6f12f78974a, 2023-02-27 21:42:16.694572, Tips: [26, 32]\n",
      "Node 38, d1f2f43255049d1dde1f0abffad4a85d, 2023-02-27 21:42:16.694572, Tips: [32, 33]\n",
      "Node 39, 5fef57799547bcf83c4defe4be86c6b9, 2023-02-27 21:42:16.694572, Tips: [33, 34]\n",
      "Node 40, e6c25298b85147bf96f772c0fbba020e, 2023-02-27 21:42:16.694572, Tips: [34, 35]\n",
      "Node 41, 342f6c2810f98603df58e7c2cf66aed3, 2023-02-27 21:42:16.694572, Tips: [35, 36]\n",
      "Node 42, c5f3c32a4218cf94081203f0210b1e9b, 2023-02-27 21:42:16.694572, Tips: [31, 36]\n",
      "Node 43, b0408fb69e18e14d319a8a025c9a4504, 2023-02-27 21:42:16.694572, Tips: [37, 38]\n",
      "Node 44, 0f73755c62a342024ea85301ae7290fc, 2023-02-27 21:42:16.694572, Tips: [38, 39]\n",
      "Node 45, f9ee96b18f37f3d7a972ec0996e3eade, 2023-02-27 21:42:16.694572, Tips: [39, 40]\n",
      "Node 46, b6a510e00668ddf2e40dbc3c5414393b, 2023-02-27 21:42:16.694572, Tips: [40, 41]\n",
      "Node 47, 9d2ffd27c47253200304855a025c9d03, 2023-02-27 21:42:16.694572, Tips: [41, 42]\n",
      "Node 48, 9f1edddeb9419f136ea46665059ebcf5, 2023-02-27 21:42:16.694572, Tips: [37, 43]\n",
      "Node 49, 1fb270d6b5c661aff3c026405fc47784, 2023-02-27 21:42:16.694572, Tips: [43, 44]\n",
      "Node 50, 497ccd1e422436e70782f453c091953d, 2023-02-27 21:42:16.694572, Tips: [44, 45]\n",
      "Node 51, 8d85e4dc3c88c617763240745be475d4, 2023-02-27 21:42:16.694572, Tips: [45, 46]\n",
      "Node 52, e56535e1af782ce7f1a2f0b64530e4c7, 2023-02-27 21:42:16.694572, Tips: [46, 47]\n",
      "Node 53, 0c4eaf7029d18bc3e80df63b9c8d1f67, 2023-02-27 21:42:16.694572, Tips: [42, 47]\n",
      "Node 54, 716047cb2c8d5ffc7159c56fbe8a8320, 2023-02-27 21:42:16.694572, Tips: [48, 49]\n",
      "Node 55, 441d8c00f7e498c55eb5d3fef0fdc363, 2023-02-27 21:42:16.694572, Tips: [49, 50]\n",
      "Node 56, 77fa68013d5e9aad060b0acac7f76a9e, 2023-02-27 21:42:16.694572, Tips: [50, 51]\n",
      "Node 57, 9cd7de83ac5983297f41afc7582dc437, 2023-02-27 21:42:16.694572, Tips: [51, 52]\n",
      "Node 58, bfc0814c7630afeab2ba3d0f5f1f637e, 2023-02-27 21:42:16.694572, Tips: [52, 53]\n",
      "Node 59, 17ca2de2e6bff97e981cc26396900cb1, 2023-02-27 21:42:16.694572, Tips: [48, 54]\n",
      "Node 60, 6af1986596e9fa29ed047b4b69127166, 2023-02-27 21:42:16.694572, Tips: [54, 55]\n",
      "Node 61, 23352d295d37b625b6ee1c10d61010cb, 2023-02-27 21:42:16.694572, Tips: [55, 56]\n",
      "Node 62, 7ebf870576948301a22a4081aea23772, 2023-02-27 21:42:16.694572, Tips: [56, 57]\n",
      "Node 63, 438416697378d0502c881bff736d7606, 2023-02-27 21:42:16.694572, Tips: [57, 58]\n",
      "Node 64, febdff6852bd43c0290f81205092ff1f, 2023-02-27 21:42:16.694572, Tips: [53, 58]\n",
      "Node 65, 4601c69249636e630591e3a09bec965f, 2023-02-27 21:42:16.694572, Tips: [59, 60]\n",
      "Node 66, 8d89b4e28ceddec00b2e3b4ea508e0a7, 2023-02-27 21:42:16.694572, Tips: [60, 61]\n",
      "Node 67, 0907dc3e341ca61cbe3cf7dfabe0aed8, 2023-02-27 21:42:16.694572, Tips: [61, 62]\n",
      "Node 68, 98bf51f17f783a75284cea007dcbb8cc, 2023-02-27 21:42:16.694572, Tips: [62, 63]\n",
      "Node 69, 3f7ebde83bb1baa5fe3472dcf6a113cf, 2023-02-27 21:42:16.694572, Tips: [63, 64]\n",
      "Node 70, 57e9f6248a88f304e248c995b4f28caf, 2023-02-27 21:42:16.694572, Tips: [59, 65]\n",
      "Node 71, 599e74f849128cba2e35d4dbd7352dd0, 2023-02-27 21:42:16.694572, Tips: [65, 66]\n",
      "Node 72, f4b20f6c2cdd43031915284f96749f31, 2023-02-27 21:42:16.694572, Tips: [66, 67]\n",
      "Node 73, 7f109898d8db05fde580db31e0d148da, 2023-02-27 21:42:16.694572, Tips: [67, 68]\n",
      "Node 74, d27e894bb8eb58b2874c6e06c361f178, 2023-02-27 21:42:16.694572, Tips: [68, 69]\n",
      "Node 75, 8d0a30c7b96ce6d8a05896d61ac1783a, 2023-02-27 21:42:16.694572, Tips: [64, 69]\n",
      "Node 76, 468c0b064c43b4579938f0a1b5cb55d6, 2023-02-27 21:42:16.694572, Tips: [70, 71]\n",
      "Node 77, 583e4fba87ddcaad90f7a74c19db0c93, 2023-02-27 21:42:16.694572, Tips: [71, 72]\n",
      "Node 78, 4fe0036a1a151b352970858340cd049f, 2023-02-27 21:42:16.694572, Tips: [72, 73]\n",
      "Node 79, d3f282a47cbbc4a0e2a0986c0161ba6f, 2023-02-27 21:42:16.694572, Tips: [73, 74]\n",
      "Node 80, 24987b0f1acc805181cdc0c5bcea2c9a, 2023-02-27 21:42:16.694572, Tips: [74, 75]\n",
      "Node 81, a140aa15a2c44b8f4fa77ae8642a7f24, 2023-02-27 21:42:16.694572, Tips: [70, 76]\n",
      "Node 82, d04b133856870d7fcb8e31686485205d, 2023-02-27 21:42:16.694572, Tips: [76, 77]\n",
      "Node 83, 3044d919e8b1634aadd241bac92ce82c, 2023-02-27 21:42:16.694572, Tips: [77, 78]\n",
      "Node 84, 746f4bbe392f8675d9582c231fb1d96c, 2023-02-27 21:42:16.694572, Tips: [78, 79]\n",
      "Node 85, 0d9f57d6fcc8bf9424faa39de6dc4d90, 2023-02-27 21:42:16.694572, Tips: [79, 80]\n",
      "Node 86, 6233edac6db35fff4f4556d4f388a8c0, 2023-02-27 21:42:16.694572, Tips: [75, 80]\n",
      "Node 87, 46a70ed40648f66311e9fac2bf8f4152, 2023-02-27 21:42:16.694572, Tips: [81, 82]\n",
      "Node 88, 35dc71bc7c0c98f904691cb7a864cc4a, 2023-02-27 21:42:16.694572, Tips: [82, 83]\n",
      "Node 89, 3b99209d6575b8c55a840988052a88e7, 2023-02-27 21:42:16.694572, Tips: [83, 84]\n",
      "Node 90, ea33632e76550c14183327e65446ebf0, 2023-02-27 21:42:16.694572, Tips: [84, 85]\n",
      "Node 91, 2d7268a7121c6e2eae86aadd8ffa989d, 2023-02-27 21:42:16.694572, Tips: [85, 86]\n",
      "Node 92, 27c4a3cf857aee0d06f00fb8d7c7f5df, 2023-02-27 21:42:16.694572, Tips: [81, 87]\n",
      "Node 93, 005e7a5629c2ddd209fc502b08b0be3a, 2023-02-27 21:42:16.694572, Tips: [87, 88]\n",
      "Node 94, c54d8cf58c487f22bbfffd30f0d74dd7, 2023-02-27 21:42:16.694572, Tips: [88, 89]\n",
      "Node 95, 1b6463e2ab9ee29cf6686fc545d72ab0, 2023-02-27 21:42:16.694572, Tips: [89, 90]\n",
      "Node 96, 9e560db1f49c9437793e36005a70db9c, 2023-02-27 21:42:16.694572, Tips: [90, 91]\n",
      "Node 97, 5da935c946a7d6f220211371d3b80816, 2023-02-27 21:42:16.694572, Tips: [86, 91]\n",
      "Node 98, 1d5b5718e2446b6319de29f5c434d134, 2023-02-27 21:42:16.694572, Tips: [92, 93]\n",
      "Node 99, daa8a58c6c363910d31f0fd068434af9, 2023-02-27 21:42:16.694572, Tips: [93, 94]\n"
     ]
    }
   ],
   "source": [
    "fnt = FNT.FishingNet(rate)\n",
    "for i in range(size):\n",
    "    fnt.nextNode(secrets.token_hex(16), datetime.now())\n",
    "fnt.printFNT()"
   ],
   "metadata": {
    "collapsed": false,
    "pycharm": {
     "name": "#%%\n"
    }
   }
  },
  {
   "cell_type": "markdown",
   "source": [
    "Find a node and show the result"
   ],
   "metadata": {
    "collapsed": false,
    "pycharm": {
     "name": "#%% md\n"
    }
   }
  },
  {
   "cell_type": "code",
   "execution_count": 4,
   "outputs": [
    {
     "name": "stdout",
     "output_type": "stream",
     "text": [
      "Node 80, 24987b0f1acc805181cdc0c5bcea2c9a, 2023-02-27 21:42:16.694572, Tips: [74, 75]\n"
     ]
    }
   ],
   "source": [
    "fnt.findNode(80)"
   ],
   "metadata": {
    "collapsed": false,
    "pycharm": {
     "name": "#%%\n"
    }
   }
  },
  {
   "cell_type": "markdown",
   "source": [
    "Find tips for a node and show the result"
   ],
   "metadata": {
    "collapsed": false,
    "pycharm": {
     "name": "#%% md\n"
    }
   }
  },
  {
   "cell_type": "code",
   "execution_count": 5,
   "outputs": [
    {
     "name": "stdout",
     "output_type": "stream",
     "text": [
      "Node 84, 746f4bbe392f8675d9582c231fb1d96c, 2023-02-27 21:42:16.694572, Tips: [78, 79]\n",
      "Node 85, 0d9f57d6fcc8bf9424faa39de6dc4d90, 2023-02-27 21:42:16.694572, Tips: [79, 80]\n"
     ]
    }
   ],
   "source": [
    "fnt.findTips(90)"
   ],
   "metadata": {
    "collapsed": false,
    "pycharm": {
     "name": "#%%\n"
    }
   }
  },
  {
   "cell_type": "markdown",
   "source": [
    "Find the two nodes that approve this node"
   ],
   "metadata": {
    "collapsed": false,
    "pycharm": {
     "name": "#%% md\n"
    }
   }
  },
  {
   "cell_type": "code",
   "execution_count": 6,
   "outputs": [
    {
     "name": "stdout",
     "output_type": "stream",
     "text": [
      "Node 95, 1b6463e2ab9ee29cf6686fc545d72ab0, 2023-02-27 21:42:16.694572, Tips: [89, 90]\n",
      "Node 96, 9e560db1f49c9437793e36005a70db9c, 2023-02-27 21:42:16.694572, Tips: [90, 91]\n"
     ]
    }
   ],
   "source": [
    "fnt.findApprover(90)"
   ],
   "metadata": {
    "collapsed": false,
    "pycharm": {
     "name": "#%%\n"
    }
   }
  },
  {
   "cell_type": "markdown",
   "source": [
    "Find the cumulative weight of a node"
   ],
   "metadata": {
    "collapsed": false,
    "pycharm": {
     "name": "#%% md\n"
    }
   }
  },
  {
   "cell_type": "code",
   "execution_count": 7,
   "outputs": [
    {
     "data": {
      "text/plain": "3"
     },
     "execution_count": 7,
     "metadata": {},
     "output_type": "execute_result"
    }
   ],
   "source": [
    "fnt.findCW(90)"
   ],
   "metadata": {
    "collapsed": false,
    "pycharm": {
     "name": "#%%\n"
    }
   }
  },
  {
   "cell_type": "markdown",
   "source": [
    "Print all nodes that have directly or indirectly approved this node"
   ],
   "metadata": {
    "collapsed": false,
    "pycharm": {
     "name": "#%% md\n"
    }
   }
  },
  {
   "cell_type": "code",
   "execution_count": 8,
   "outputs": [
    {
     "name": "stdout",
     "output_type": "stream",
     "text": [
      "Node 90, ea33632e76550c14183327e65446ebf0, 2023-02-27 21:42:16.694572, Tips: [84, 85]\n",
      "Node 95, 1b6463e2ab9ee29cf6686fc545d72ab0, 2023-02-27 21:42:16.694572, Tips: [89, 90]\n",
      "Node 96, 9e560db1f49c9437793e36005a70db9c, 2023-02-27 21:42:16.694572, Tips: [90, 91]\n"
     ]
    }
   ],
   "source": [
    "fnt.findSubnet(90)"
   ],
   "metadata": {
    "collapsed": false,
    "pycharm": {
     "name": "#%%\n"
    }
   }
  },
  {
   "cell_type": "markdown",
   "source": [
    "Disable a node, only disconnect from other nodes, not delete data"
   ],
   "metadata": {
    "collapsed": false,
    "pycharm": {
     "name": "#%% md\n"
    }
   }
  },
  {
   "cell_type": "code",
   "execution_count": 9,
   "outputs": [
    {
     "name": "stdout",
     "output_type": "stream",
     "text": [
      "Node 0, 1ada8d8f4a76757e7b18f0a41b19d853, 2023-02-27 21:42:16.693599, Tips: [None, None]\n",
      "Node 1, cc95d1a77712bb2ea561241fe04017b9, 2023-02-27 21:42:16.693599, Tips: [0, None]\n",
      "Node 2, b99f739b39fa3244fe265db89050a7f7, 2023-02-27 21:42:16.694572, Tips: [0, None]\n",
      "Node 3, ee61480d7af435ace0c4102619e18f83, 2023-02-27 21:42:16.694572, Tips: [1, None]\n",
      "Node 4, 47cab37335a06bc661fa58ba4d92745a, 2023-02-27 21:42:16.694572, Tips: [1, 2]\n",
      "Node 5, 199c5d8546c3f7690c18ae7bed3bc50f, 2023-02-27 21:42:16.694572, Tips: [2, None]\n",
      "Node 6, 01fb0922bb651d6529a5a6b25ef7dce2, 2023-02-27 21:42:16.694572, Tips: [3, None]\n",
      "Node 7, b6f6e692ffe30846c0412275fc782fb3, 2023-02-27 21:42:16.694572, Tips: [3, 4]\n",
      "Node 8, fa93d25064803dd4ebc30b87f09f15fd, 2023-02-27 21:42:16.694572, Tips: [4, 5]\n",
      "Node 9, 3853078f8c09e9df26d0d3a9e47fa7d2, 2023-02-27 21:42:16.694572, Tips: [5, None]\n",
      "Node 10, 8ba576a2d795bd976ee43ca4581274e3, 2023-02-27 21:42:16.694572, Tips: [6, None]\n",
      "Node 11, 2dbe05d618ef1d7b0ca85923a85a8854, 2023-02-27 21:42:16.694572, Tips: [6, 7]\n",
      "Node 12, 64bf2af511ea1c2fe38aba951e07af8c, 2023-02-27 21:42:16.694572, Tips: [7, 8]\n",
      "Node 13, 70c92c269d6c58f7174ad65f96d14ea6, 2023-02-27 21:42:16.694572, Tips: [8, 9]\n",
      "Node 14, f98f31bb8e5c6080d26c89c5449bbff3, 2023-02-27 21:42:16.694572, Tips: [9, None]\n",
      "Node 15, 8af72025f685efafec5b8da9273ab54f, 2023-02-27 21:42:16.694572, Tips: [10, None]\n",
      "Node 16, ddda2f8aa3c17f268fb21e4b7adb6472, 2023-02-27 21:42:16.694572, Tips: [10, 11]\n",
      "Node 17, 1d375f62092d033bb0b54e826215f15c, 2023-02-27 21:42:16.694572, Tips: [11, 12]\n",
      "Node 18, 75925d5407062405c1a67dddc28fe799, 2023-02-27 21:42:16.694572, Tips: [12, 13]\n",
      "Node 19, 00d44ff1d6388bdaf3c816d16f323adf, 2023-02-27 21:42:16.694572, Tips: [13, 14]\n",
      "Node 20, 3d6a56289707355b7eccf5840f3c5522, 2023-02-27 21:42:16.694572, Tips: [14, None]\n",
      "Node 21, 17f9c2bb7dbad7bcf33fa0c01ffecc8b, 2023-02-27 21:42:16.694572, Tips: [15, 16]\n",
      "Node 22, 166648a965e4032e88dcdaeca476ea58, 2023-02-27 21:42:16.694572, Tips: [16, 17]\n",
      "Node 23, 82e6304444f4606637f8e9e08ec7bc95, 2023-02-27 21:42:16.694572, Tips: [17, 18]\n",
      "Node 24, c645de885208dc67ab1d2039dc9ceaf5, 2023-02-27 21:42:16.694572, Tips: [18, 19]\n",
      "Node 25, 91ec28811f41d62de195472b1a029035, 2023-02-27 21:42:16.694572, Tips: [19, 20]\n",
      "Node 26, 2c0191d2ca1a67433fae6a5df8babc75, 2023-02-27 21:42:16.694572, Tips: [15, 21]\n",
      "Node 27, 4a7c9e8785897b66af22aa70d2d42696, 2023-02-27 21:42:16.694572, Tips: [21, 22]\n",
      "Node 28, 51ad2ff7366517bd8addca09de6d4449, 2023-02-27 21:42:16.694572, Tips: [22, 23]\n",
      "Node 29, a3daf9716e37d098e4d437ccd7cb0e10, 2023-02-27 21:42:16.694572, Tips: [23, 24]\n",
      "Node 30, 55f5061231b53d2948182f4cebdeed50, 2023-02-27 21:42:16.694572, Tips: [24, 25]\n",
      "Node 31, 0cf0ad3192a24c5f07a0cfbd08a996d4, 2023-02-27 21:42:16.694572, Tips: [20, 25]\n",
      "Node 32, 1e003829342e58bd4c4685993809ec60, 2023-02-27 21:42:16.694572, Tips: [26, 27]\n",
      "Node 33, 5b26e8a9f9a99826ed5dba881612d035, 2023-02-27 21:42:16.694572, Tips: [27, 28]\n",
      "Node 34, 5345f6e88d9941f95a5d2dedda6ca93b, 2023-02-27 21:42:16.694572, Tips: [28, 29]\n",
      "Node 35, 53f8a928c7fa2150ff325220d29d5e51, 2023-02-27 21:42:16.694572, Tips: [29, 30]\n",
      "Node 36, 49ac1aecd77c22f830a3b1640e788abf, 2023-02-27 21:42:16.694572, Tips: [30, 31]\n",
      "Node 37, c90377529c65202ebe56e6f12f78974a, 2023-02-27 21:42:16.694572, Tips: [26, 32]\n",
      "Node 38, d1f2f43255049d1dde1f0abffad4a85d, 2023-02-27 21:42:16.694572, Tips: [32, 33]\n",
      "Node 39, 5fef57799547bcf83c4defe4be86c6b9, 2023-02-27 21:42:16.694572, Tips: [33, 34]\n",
      "Node 40, e6c25298b85147bf96f772c0fbba020e, 2023-02-27 21:42:16.694572, Tips: [34, 35]\n",
      "Node 41, 342f6c2810f98603df58e7c2cf66aed3, 2023-02-27 21:42:16.694572, Tips: [35, 36]\n",
      "Node 42, c5f3c32a4218cf94081203f0210b1e9b, 2023-02-27 21:42:16.694572, Tips: [31, 36]\n",
      "Node 43, b0408fb69e18e14d319a8a025c9a4504, 2023-02-27 21:42:16.694572, Tips: [37, 38]\n",
      "Node 44, 0f73755c62a342024ea85301ae7290fc, 2023-02-27 21:42:16.694572, Tips: [38, 39]\n",
      "Node 45, f9ee96b18f37f3d7a972ec0996e3eade, 2023-02-27 21:42:16.694572, Tips: [39, 40]\n",
      "Node 46, b6a510e00668ddf2e40dbc3c5414393b, 2023-02-27 21:42:16.694572, Tips: [40, 41]\n",
      "Node 47, 9d2ffd27c47253200304855a025c9d03, 2023-02-27 21:42:16.694572, Tips: [41, 42]\n",
      "Node 48, 9f1edddeb9419f136ea46665059ebcf5, 2023-02-27 21:42:16.694572, Tips: [37, 43]\n",
      "Node 49, 1fb270d6b5c661aff3c026405fc47784, 2023-02-27 21:42:16.694572, Tips: [43, 44]\n",
      "Node 50, 497ccd1e422436e70782f453c091953d, 2023-02-27 21:42:16.694572, Tips: [44, 45]\n",
      "Node 51, 8d85e4dc3c88c617763240745be475d4, 2023-02-27 21:42:16.694572, Tips: [45, 46]\n",
      "Node 52, e56535e1af782ce7f1a2f0b64530e4c7, 2023-02-27 21:42:16.694572, Tips: [46, 47]\n",
      "Node 53, 0c4eaf7029d18bc3e80df63b9c8d1f67, 2023-02-27 21:42:16.694572, Tips: [42, 47]\n",
      "Node 54, 716047cb2c8d5ffc7159c56fbe8a8320, 2023-02-27 21:42:16.694572, Tips: [48, 49]\n",
      "Node 55, 441d8c00f7e498c55eb5d3fef0fdc363, 2023-02-27 21:42:16.694572, Tips: [49, 50]\n",
      "Node 56, 77fa68013d5e9aad060b0acac7f76a9e, 2023-02-27 21:42:16.694572, Tips: [50, 51]\n",
      "Node 57, 9cd7de83ac5983297f41afc7582dc437, 2023-02-27 21:42:16.694572, Tips: [51, 52]\n",
      "Node 58, bfc0814c7630afeab2ba3d0f5f1f637e, 2023-02-27 21:42:16.694572, Tips: [52, 53]\n",
      "Node 59, 17ca2de2e6bff97e981cc26396900cb1, 2023-02-27 21:42:16.694572, Tips: [48, 54]\n",
      "Node 60, 6af1986596e9fa29ed047b4b69127166, 2023-02-27 21:42:16.694572, Tips: [54, 55]\n",
      "Node 61, 23352d295d37b625b6ee1c10d61010cb, 2023-02-27 21:42:16.694572, Tips: [55, 56]\n",
      "Node 62, 7ebf870576948301a22a4081aea23772, 2023-02-27 21:42:16.694572, Tips: [56, 57]\n",
      "Node 63, 438416697378d0502c881bff736d7606, 2023-02-27 21:42:16.694572, Tips: [57, 58]\n",
      "Node 64, febdff6852bd43c0290f81205092ff1f, 2023-02-27 21:42:16.694572, Tips: [53, 58]\n",
      "Node 65, 4601c69249636e630591e3a09bec965f, 2023-02-27 21:42:16.694572, Tips: [59, 60]\n",
      "Node 66, 8d89b4e28ceddec00b2e3b4ea508e0a7, 2023-02-27 21:42:16.694572, Tips: [60, 61]\n",
      "Node 67, 0907dc3e341ca61cbe3cf7dfabe0aed8, 2023-02-27 21:42:16.694572, Tips: [61, 62]\n",
      "Node 68, 98bf51f17f783a75284cea007dcbb8cc, 2023-02-27 21:42:16.694572, Tips: [62, 63]\n",
      "Node 69, 3f7ebde83bb1baa5fe3472dcf6a113cf, 2023-02-27 21:42:16.694572, Tips: [63, 64]\n",
      "Node 70, 57e9f6248a88f304e248c995b4f28caf, 2023-02-27 21:42:16.694572, Tips: [59, 65]\n",
      "Node 71, 599e74f849128cba2e35d4dbd7352dd0, 2023-02-27 21:42:16.694572, Tips: [65, 66]\n",
      "Node 72, f4b20f6c2cdd43031915284f96749f31, 2023-02-27 21:42:16.694572, Tips: [66, 67]\n",
      "Node 73, 7f109898d8db05fde580db31e0d148da, 2023-02-27 21:42:16.694572, Tips: [67, 68]\n",
      "Node 74, d27e894bb8eb58b2874c6e06c361f178, 2023-02-27 21:42:16.694572, Tips: [68, 69]\n",
      "Node 75, 8d0a30c7b96ce6d8a05896d61ac1783a, 2023-02-27 21:42:16.694572, Tips: [64, 69]\n",
      "Node 76, 468c0b064c43b4579938f0a1b5cb55d6, 2023-02-27 21:42:16.694572, Tips: [70, 71]\n",
      "Node 77, 583e4fba87ddcaad90f7a74c19db0c93, 2023-02-27 21:42:16.694572, Tips: [71, 72]\n",
      "Node 78, 4fe0036a1a151b352970858340cd049f, 2023-02-27 21:42:16.694572, Tips: [72, 73]\n",
      "Node 79, d3f282a47cbbc4a0e2a0986c0161ba6f, 2023-02-27 21:42:16.694572, Tips: [73, 74]\n",
      "Node 80 disabled\n",
      "Node 81, a140aa15a2c44b8f4fa77ae8642a7f24, 2023-02-27 21:42:16.694572, Tips: [70, 76]\n",
      "Node 82, d04b133856870d7fcb8e31686485205d, 2023-02-27 21:42:16.694572, Tips: [76, 77]\n",
      "Node 83, 3044d919e8b1634aadd241bac92ce82c, 2023-02-27 21:42:16.694572, Tips: [77, 78]\n",
      "Node 84, 746f4bbe392f8675d9582c231fb1d96c, 2023-02-27 21:42:16.694572, Tips: [78, 79]\n",
      "Node 85, 0d9f57d6fcc8bf9424faa39de6dc4d90, 2023-02-27 21:42:16.694572, Tips: [79, None]\n",
      "Node 86, 6233edac6db35fff4f4556d4f388a8c0, 2023-02-27 21:42:16.694572, Tips: [75, None]\n",
      "Node 87, 46a70ed40648f66311e9fac2bf8f4152, 2023-02-27 21:42:16.694572, Tips: [81, 82]\n",
      "Node 88, 35dc71bc7c0c98f904691cb7a864cc4a, 2023-02-27 21:42:16.694572, Tips: [82, 83]\n",
      "Node 89, 3b99209d6575b8c55a840988052a88e7, 2023-02-27 21:42:16.694572, Tips: [83, 84]\n",
      "Node 90, ea33632e76550c14183327e65446ebf0, 2023-02-27 21:42:16.694572, Tips: [84, 85]\n",
      "Node 91, 2d7268a7121c6e2eae86aadd8ffa989d, 2023-02-27 21:42:16.694572, Tips: [85, 86]\n",
      "Node 92, 27c4a3cf857aee0d06f00fb8d7c7f5df, 2023-02-27 21:42:16.694572, Tips: [81, 87]\n",
      "Node 93, 005e7a5629c2ddd209fc502b08b0be3a, 2023-02-27 21:42:16.694572, Tips: [87, 88]\n",
      "Node 94, c54d8cf58c487f22bbfffd30f0d74dd7, 2023-02-27 21:42:16.694572, Tips: [88, 89]\n",
      "Node 95, 1b6463e2ab9ee29cf6686fc545d72ab0, 2023-02-27 21:42:16.694572, Tips: [89, 90]\n",
      "Node 96, 9e560db1f49c9437793e36005a70db9c, 2023-02-27 21:42:16.694572, Tips: [90, 91]\n",
      "Node 97, 5da935c946a7d6f220211371d3b80816, 2023-02-27 21:42:16.694572, Tips: [86, 91]\n",
      "Node 98, 1d5b5718e2446b6319de29f5c434d134, 2023-02-27 21:42:16.694572, Tips: [92, 93]\n",
      "Node 99, daa8a58c6c363910d31f0fd068434af9, 2023-02-27 21:42:16.694572, Tips: [93, 94]\n"
     ]
    }
   ],
   "source": [
    "fnt.disableNode(80)\n",
    "fnt.printFNT()"
   ],
   "metadata": {
    "collapsed": false,
    "pycharm": {
     "name": "#%%\n"
    }
   }
  },
  {
   "cell_type": "code",
   "execution_count": 10,
   "outputs": [
    {
     "name": "stdout",
     "output_type": "stream",
     "text": [
      "Node 80, 24987b0f1acc805181cdc0c5bcea2c9a, 2023-02-27 21:42:16.694572, Tips: [74, 75]\n"
     ]
    }
   ],
   "source": [
    "fnt.findNode(80)"
   ],
   "metadata": {
    "collapsed": false,
    "pycharm": {
     "name": "#%%\n"
    }
   }
  },
  {
   "cell_type": "markdown",
   "source": [
    "Get lists of throughput, utilization, and waste rate at each layer"
   ],
   "metadata": {
    "collapsed": false,
    "pycharm": {
     "name": "#%% md\n"
    }
   }
  },
  {
   "cell_type": "code",
   "execution_count": 11,
   "outputs": [
    {
     "data": {
      "text/plain": "[1, 2, 3, 4, 5, 6, 5, 6, 5, 6, 5, 6, 5, 6, 5, 6, 5, 6, 5, 6, 2]"
     },
     "execution_count": 11,
     "metadata": {},
     "output_type": "execute_result"
    }
   ],
   "source": [
    "fnt.findThroughput()"
   ],
   "metadata": {
    "collapsed": false,
    "pycharm": {
     "name": "#%%\n"
    }
   }
  },
  {
   "cell_type": "code",
   "execution_count": 12,
   "outputs": [
    {
     "data": {
      "text/plain": "[0.1667,\n 0.3333,\n 0.5,\n 0.6667,\n 0.8333,\n 1.0,\n 0.8333,\n 1.0,\n 0.8333,\n 1.0,\n 0.8333,\n 1.0,\n 0.8333,\n 1.0,\n 0.8333,\n 1.0,\n 0.8333,\n 1.0,\n 0.8333,\n 1.0,\n 0.3333]"
     },
     "execution_count": 12,
     "metadata": {},
     "output_type": "execute_result"
    }
   ],
   "source": [
    "fnt.findUtilization()"
   ],
   "metadata": {
    "collapsed": false,
    "pycharm": {
     "name": "#%%\n"
    }
   }
  },
  {
   "cell_type": "code",
   "execution_count": 13,
   "outputs": [
    {
     "data": {
      "text/plain": "[0.8333,\n 0.6667,\n 0.5,\n 0.3333,\n 0.1667,\n 0.0,\n 0.1667,\n 0.0,\n 0.1667,\n 0.0,\n 0.1667,\n 0.0,\n 0.1667,\n 0.0,\n 0.1667,\n 0.0,\n 0.1667,\n 0.0,\n 0.1667,\n 0.0,\n 0.6667]"
     },
     "execution_count": 13,
     "metadata": {},
     "output_type": "execute_result"
    }
   ],
   "source": [
    "fnt.findWaste()"
   ],
   "metadata": {
    "collapsed": false,
    "pycharm": {
     "name": "#%%\n"
    }
   }
  },
  {
   "cell_type": "markdown",
   "source": [
    "Get cumulative waste rate"
   ],
   "metadata": {
    "collapsed": false,
    "pycharm": {
     "name": "#%% md\n"
    }
   }
  },
  {
   "cell_type": "code",
   "execution_count": 14,
   "outputs": [
    {
     "data": {
      "text/plain": "[0.8333,\n 0.75,\n 0.6667,\n 0.5833,\n 0.5,\n 0.4167,\n 0.381,\n 0.3333,\n 0.3148,\n 0.2833,\n 0.2727,\n 0.25,\n 0.2436,\n 0.2262,\n 0.2222,\n 0.2083,\n 0.2059,\n 0.1944,\n 0.193,\n 0.1833,\n 0.2063]"
     },
     "execution_count": 14,
     "metadata": {},
     "output_type": "execute_result"
    }
   ],
   "source": [
    "fnt.findCumWaste()"
   ],
   "metadata": {
    "collapsed": false,
    "pycharm": {
     "name": "#%%\n"
    }
   }
  },
  {
   "cell_type": "markdown",
   "source": [
    "Get the waste rate of entire network"
   ],
   "metadata": {
    "collapsed": false,
    "pycharm": {
     "name": "#%% md\n"
    }
   }
  },
  {
   "cell_type": "code",
   "execution_count": 15,
   "outputs": [
    {
     "data": {
      "text/plain": "'18.1548%'"
     },
     "execution_count": 15,
     "metadata": {},
     "output_type": "execute_result"
    }
   ],
   "source": [
    "fnt.findWasteRate()"
   ],
   "metadata": {
    "collapsed": false,
    "pycharm": {
     "name": "#%%\n"
    }
   }
  }
 ],
 "metadata": {
  "kernelspec": {
   "display_name": "Python 3",
   "language": "python",
   "name": "python3"
  },
  "language_info": {
   "codemirror_mode": {
    "name": "ipython",
    "version": 2
   },
   "file_extension": ".py",
   "mimetype": "text/x-python",
   "name": "python",
   "nbconvert_exporter": "python",
   "pygments_lexer": "ipython2",
   "version": "2.7.6"
  }
 },
 "nbformat": 4,
 "nbformat_minor": 0
}